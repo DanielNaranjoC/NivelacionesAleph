{
 "cells": [
  {
   "cell_type": "markdown",
   "id": "10fb17fe",
   "metadata": {},
   "source": [
    "## Conjetura de Goldbach\n",
    "\n",
    "1. Escribir una función para generar una lista de números primos menores o iguales a n\n",
    "2. Escribir una función para guardar una lista en un archivo\n",
    "3. Escribir una función que lea el archivo genrado por la función anterior\n",
    "4. Escribir una función que verifique si se cumple la conjetura de Goldbach para un número ingresado, para ello deberpa reotrna las lista de números primos que cumpla con el enunciado\n",
    "5. Escribir un programa que permita ingresar un número y permita presentar en pantalla la conjetura de goldbach para todos los números menores o iguales al ingresado"
   ]
  },
  {
   "cell_type": "code",
   "execution_count": 1,
   "id": "1ddc11e4",
   "metadata": {},
   "outputs": [],
   "source": [
    "def list_primos(n):\n",
    "    lista = []\n",
    "    if n >= 2:\n",
    "        for i in range(2, n+1):\n",
    "            primo = True\n",
    "            for j in lista:\n",
    "                if i % j == 0:\n",
    "                    primo = False\n",
    "                    break\n",
    "            if primo:\n",
    "                lista.append(i)\n",
    "    return lista"
   ]
  },
  {
   "cell_type": "code",
   "execution_count": 2,
   "id": "0336464f",
   "metadata": {},
   "outputs": [],
   "source": [
    "def guardar(lista, nombre):\n",
    "    if not nombre.endswith('.txt'):\n",
    "        nombre = nombre + '.txt'\n",
    "    archivo = open(nombre, 'w')\n",
    "    for i in lista:\n",
    "        archivo.write(str(i) + '\\n')\n",
    "    archivo.close()"
   ]
  },
  {
   "cell_type": "code",
   "execution_count": 3,
   "id": "e8251b31",
   "metadata": {},
   "outputs": [],
   "source": [
    "def leer_lista(nombre):\n",
    "    try:\n",
    "        archivo = open(nombre, 'r')\n",
    "        lista = []\n",
    "        for i in archivo:\n",
    "            aux = i.replace('\\n', '')\n",
    "            lista.append(int(aux))\n",
    "        return lista\n",
    "    except FileNotFoundError:\n",
    "        print('No existe el archivo')\n",
    "        return []"
   ]
  },
  {
   "cell_type": "code",
   "execution_count": 4,
   "id": "c07ceca4",
   "metadata": {},
   "outputs": [],
   "source": [
    "def goldbach_fuerte(lista, n):\n",
    "    for i in lista:\n",
    "        if i > n:\n",
    "            continue\n",
    "        for j in lista:\n",
    "            if j > n:\n",
    "                continue\n",
    "            if i + j == n:\n",
    "                return [i, j]\n",
    "    return []\n",
    "def goldbach_debil(lista, n):\n",
    "    for i in lista:\n",
    "        if i > n:\n",
    "            continue\n",
    "        for j in lista:\n",
    "            if j > n:\n",
    "                continue\n",
    "            for k in lista:\n",
    "                if k > n:\n",
    "                    continue\n",
    "                if i + j + k == n:\n",
    "                    return [i, j, k]\n",
    "    return []\n",
    "\n",
    "def Goldbach(lista, n):\n",
    "    if n % 2 == 0 and n > 2:\n",
    "        return goldbach_fuerte(lista, n)\n",
    "    elif n % 2 == 1 and n > 5:\n",
    "        return goldbach_debil(lista, n)\n",
    "    raise ValueError('El número no cumple las condiciones.')"
   ]
  }
 ],
 "metadata": {
  "kernelspec": {
   "display_name": "Python 3 (ipykernel)",
   "language": "python",
   "name": "python3"
  },
  "language_info": {
   "codemirror_mode": {
    "name": "ipython",
    "version": 3
   },
   "file_extension": ".py",
   "mimetype": "text/x-python",
   "name": "python",
   "nbconvert_exporter": "python",
   "pygments_lexer": "ipython3",
   "version": "3.9.7"
  }
 },
 "nbformat": 4,
 "nbformat_minor": 5
}
