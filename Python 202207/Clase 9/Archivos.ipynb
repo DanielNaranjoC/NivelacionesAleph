{
 "cells": [
  {
   "cell_type": "markdown",
   "id": "2452aec2",
   "metadata": {},
   "source": [
    "## Módulo os"
   ]
  },
  {
   "cell_type": "code",
   "execution_count": 1,
   "id": "3caf2625",
   "metadata": {},
   "outputs": [],
   "source": [
    "import os"
   ]
  },
  {
   "cell_type": "code",
   "execution_count": 2,
   "id": "f555eefc",
   "metadata": {},
   "outputs": [
    {
     "name": "stdout",
     "output_type": "stream",
     "text": [
      "C:\\Users\\Daniel\\Documents\\GitHub\\NivelacionesAleph\\Python 202207\\Clase 9\n"
     ]
    }
   ],
   "source": [
    "print(os.getcwd())"
   ]
  },
  {
   "cell_type": "code",
   "execution_count": 3,
   "id": "4e25d22c",
   "metadata": {
    "scrolled": true
   },
   "outputs": [
    {
     "name": "stdout",
     "output_type": "stream",
     "text": [
      "['.ipynb_checkpoints', 'archivo.txt', 'Archivos.ipynb', 'Ejercicios.ipynb', 'Goldbach.ipynb', 'Goldbach.py', 'nuevo_archivo.txt', 'primos.txt', 'variables.txt', '__pycache__']\n"
     ]
    }
   ],
   "source": [
    "print(os.listdir())"
   ]
  },
  {
   "cell_type": "markdown",
   "id": "63544d47",
   "metadata": {},
   "source": [
    "## Manejo de archivos\n",
    "\n",
    "```python\n",
    "nombre = open('dirección del archivo.txt', modo)\n",
    "```\n",
    "\n",
    "Modo:\n",
    "\n",
    "* w: Escritura\n",
    "* r: Lectura\n",
    "* a: Anexo\n",
    "\n",
    "\n",
    "```python\n",
    "nombre.close()\n",
    "```\n",
    "\n",
    "### Lectura\n",
    "\n",
    "```python\n",
    "nombre = open('dirección del archivo.txt', 'r')\n",
    "nombre = open('dirección del archivo.txt')\n",
    "```\n"
   ]
  },
  {
   "cell_type": "code",
   "execution_count": 4,
   "id": "ad216390",
   "metadata": {},
   "outputs": [
    {
     "name": "stdout",
     "output_type": "stream",
     "text": [
      "x\ty\n",
      "8.3977332445\t3.9771636369\n",
      "2.0274782925\t3.3678089337\n",
      "5.6903479838\t2.0092360771\n",
      "3.9728906319\t5.6722251517\n",
      "1.7897884324\t4.9759253715\n",
      "3.1926622885\t0.7081642369\n",
      "5.616003661\t    9.4424274768\n",
      "4.2705087809\t1.7881584331\n",
      "8.8065858542\t8.7220300734\n",
      "4.9763110646\t8.6010069266\n",
      "8.1948569345\t2.1774248424\n",
      "3.0508553473\t7.1791295414\n",
      "1.9866031695\t4.8015953375\n",
      "2.3634188799\t1.0269270609\n",
      "7.8292697693\t1.3534211634\n",
      "5.6971813638\t9.3364866891\n",
      "6.3939328839\t2.818352852\n",
      "1.9281512365\t3.1403757323\n",
      "0.2175681341\t0.9195343065\n",
      "2.8205208357\t2.8637775848\n",
      "8.2185869631\t8.79999047\n",
      "6.5756096885\t8.8443755657\n",
      "5.4919226749\t0.3905037612\n",
      "3.0784735338\t2.4593943119\n",
      "4.2149933091\t1.5359639091\n",
      "1.2566623945\t1.5406808104\n",
      "0.8567246101\t8.4914084891\n",
      "1.8561004715\t0.3169243244\n",
      "0.2770204941\t5.0901961981\n",
      "\n",
      "\n",
      "Releer\n",
      "\n",
      "Fin\n"
     ]
    }
   ],
   "source": [
    "archivo = open('archivo.txt')\n",
    "print(archivo.read())\n",
    "print('Releer')\n",
    "print(archivo.read())\n",
    "print('Fin')\n",
    "archivo.close()"
   ]
  },
  {
   "cell_type": "code",
   "execution_count": 5,
   "id": "186f7fc2",
   "metadata": {},
   "outputs": [
    {
     "name": "stdout",
     "output_type": "stream",
     "text": [
      "['x\\ty\\n', '8.3977332445\\t3.9771636369\\n', '2.0274782925\\t3.3678089337\\n', '5.6903479838\\t2.0092360771\\n', '3.9728906319\\t5.6722251517\\n', '1.7897884324\\t4.9759253715\\n', '3.1926622885\\t0.7081642369\\n', '5.616003661\\t    9.4424274768\\n', '4.2705087809\\t1.7881584331\\n', '8.8065858542\\t8.7220300734\\n', '4.9763110646\\t8.6010069266\\n', '8.1948569345\\t2.1774248424\\n', '3.0508553473\\t7.1791295414\\n', '1.9866031695\\t4.8015953375\\n', '2.3634188799\\t1.0269270609\\n', '7.8292697693\\t1.3534211634\\n', '5.6971813638\\t9.3364866891\\n', '6.3939328839\\t2.818352852\\n', '1.9281512365\\t3.1403757323\\n', '0.2175681341\\t0.9195343065\\n', '2.8205208357\\t2.8637775848\\n', '8.2185869631\\t8.79999047\\n', '6.5756096885\\t8.8443755657\\n', '5.4919226749\\t0.3905037612\\n', '3.0784735338\\t2.4593943119\\n', '4.2149933091\\t1.5359639091\\n', '1.2566623945\\t1.5406808104\\n', '0.8567246101\\t8.4914084891\\n', '1.8561004715\\t0.3169243244\\n', '0.2770204941\\t5.0901961981\\n', '\\n']\n",
      "Releer\n",
      "\n",
      "Fin\n"
     ]
    }
   ],
   "source": [
    "archivo = open('archivo.txt')\n",
    "print(archivo.readlines())\n",
    "print('Releer')\n",
    "print(archivo.read())\n",
    "print('Fin')\n",
    "archivo.close()"
   ]
  },
  {
   "cell_type": "code",
   "execution_count": 6,
   "id": "a47f6f6a",
   "metadata": {},
   "outputs": [
    {
     "name": "stdout",
     "output_type": "stream",
     "text": [
      "x\ty\n",
      "\n",
      "8.3977332445\t3.9771636369\n",
      "\n",
      "2.0274782925\t3.3678089337\n",
      "\n",
      "5.6903479838\t2.0092360771\n",
      "\n",
      "3.9728906319\t5.6722251517\n",
      "\n",
      "1.7897884324\t4.9759253715\n",
      "\n",
      "3.1926622885\t0.7081642369\n",
      "\n",
      "5.616003661\t    9.4424274768\n",
      "\n",
      "4.2705087809\t1.7881584331\n",
      "\n",
      "8.8065858542\t8.7220300734\n",
      "\n",
      "4.9763110646\t8.6010069266\n",
      "\n",
      "8.1948569345\t2.1774248424\n",
      "\n",
      "3.0508553473\t7.1791295414\n",
      "\n",
      "1.9866031695\t4.8015953375\n",
      "\n",
      "2.3634188799\t1.0269270609\n",
      "\n",
      "7.8292697693\t1.3534211634\n",
      "\n",
      "5.6971813638\t9.3364866891\n",
      "\n",
      "6.3939328839\t2.818352852\n",
      "\n",
      "1.9281512365\t3.1403757323\n",
      "\n",
      "0.2175681341\t0.9195343065\n",
      "\n",
      "2.8205208357\t2.8637775848\n",
      "\n",
      "8.2185869631\t8.79999047\n",
      "\n",
      "6.5756096885\t8.8443755657\n",
      "\n",
      "5.4919226749\t0.3905037612\n",
      "\n",
      "3.0784735338\t2.4593943119\n",
      "\n",
      "4.2149933091\t1.5359639091\n",
      "\n",
      "1.2566623945\t1.5406808104\n",
      "\n",
      "0.8567246101\t8.4914084891\n",
      "\n",
      "1.8561004715\t0.3169243244\n",
      "\n",
      "0.2770204941\t5.0901961981\n",
      "\n",
      "\n",
      "\n",
      "Releer\n",
      "\n",
      "Fin\n"
     ]
    }
   ],
   "source": [
    "archivo = open('archivo.txt')\n",
    "for i in archivo:\n",
    "    print(i)\n",
    "print('Releer')\n",
    "print(archivo.read())\n",
    "print('Fin')\n",
    "archivo.close()"
   ]
  },
  {
   "cell_type": "code",
   "execution_count": 7,
   "id": "775a5d9b",
   "metadata": {
    "scrolled": true
   },
   "outputs": [
    {
     "name": "stdout",
     "output_type": "stream",
     "text": [
      "x\ty\n",
      "\n",
      "_______________________\n",
      "8.3977\n",
      "_______________________\n",
      "3\n",
      "_______________________\n",
      "32\n",
      "_______________________\n",
      "445\t3.9771636369\n",
      "2.0274782925\t3.3678089337\n",
      "5.6903479838\t2.0092360771\n",
      "3.9728906319\t5.6722251517\n",
      "1.7897884324\t4.9759253715\n",
      "3.1926622885\t0.7081642369\n",
      "5.616003661\t    9.4424274768\n",
      "4.2705087809\t1.7881584331\n",
      "8.8065858542\t8.7220300734\n",
      "4.9763110646\t8.6010069266\n",
      "8.1948569345\t2.1774248424\n",
      "3.0508553473\t7.1791295414\n",
      "1.9866031695\t4.8015953375\n",
      "2.3634188799\t1.0269270609\n",
      "7.8292697693\t1.3534211634\n",
      "5.6971813638\t9.3364866891\n",
      "6.3939328839\t2.818352852\n",
      "1.9281512365\t3.1403757323\n",
      "0.2175681341\t0.9195343065\n",
      "2.8205208357\t2.8637775848\n",
      "8.2185869631\t8.79999047\n",
      "6.5756096885\t8.8443755657\n",
      "5.4919226749\t0.3905037612\n",
      "3.0784735338\t2.4593943119\n",
      "4.2149933091\t1.5359639091\n",
      "1.2566623945\t1.5406808104\n",
      "0.8567246101\t8.4914084891\n",
      "1.8561004715\t0.3169243244\n",
      "0.2770204941\t5.0901961981\n",
      "\n",
      "\n",
      "Fin\n"
     ]
    }
   ],
   "source": [
    "archivo = open('archivo.txt')\n",
    "print(archivo.read(4))\n",
    "print('_______________________')\n",
    "print(archivo.read(6))\n",
    "print('_______________________')\n",
    "print(archivo.read(1))\n",
    "print('_______________________')\n",
    "print(archivo.read(2))\n",
    "print('_______________________')\n",
    "print(archivo.read())\n",
    "print('Fin')\n",
    "archivo.close()"
   ]
  },
  {
   "cell_type": "markdown",
   "id": "441b2c61",
   "metadata": {},
   "source": [
    "## Escritura de archivos\n",
    "```python\n",
    "nombre = open('dirección del archivo.txt', 'w')\n",
    "```"
   ]
  },
  {
   "cell_type": "code",
   "execution_count": 8,
   "id": "ca93f118",
   "metadata": {},
   "outputs": [],
   "source": [
    "f = open('nuevo_archivo.txt', 'w')\n",
    "f.write('Esto se escribe\\n')\n",
    "f.write(str(456))\n",
    "f.close()"
   ]
  },
  {
   "cell_type": "markdown",
   "id": "10f46bfe",
   "metadata": {},
   "source": [
    "```python\n",
    "nombre = open('dirección del archivo.txt', 'a')\n",
    "```"
   ]
  },
  {
   "cell_type": "code",
   "execution_count": 9,
   "id": "aaa914c5",
   "metadata": {},
   "outputs": [],
   "source": [
    "f = open('nuevo_archivo.txt', 'a')\n",
    "f.write('Esto se escribe nuevamente\\n')\n",
    "f.write(str(453453456))\n",
    "f.close()"
   ]
  },
  {
   "cell_type": "markdown",
   "id": "f230b7cc",
   "metadata": {},
   "source": [
    "### Excepciones con archivos"
   ]
  },
  {
   "cell_type": "code",
   "execution_count": 10,
   "id": "6bfe2406",
   "metadata": {},
   "outputs": [
    {
     "name": "stdout",
     "output_type": "stream",
     "text": [
      "Ingrese la ubicación del archivo: lhjk\n",
      "Ingrese el nombre del archivo: jkjnkjn\n"
     ]
    },
    {
     "ename": "NameError",
     "evalue": "name 'path' is not defined",
     "output_type": "error",
     "traceback": [
      "\u001b[1;31m---------------------------------------------------------------------------\u001b[0m",
      "\u001b[1;31mNameError\u001b[0m                                 Traceback (most recent call last)",
      "\u001b[1;32m~\\AppData\\Local\\Temp/ipykernel_9384/2220736465.py\u001b[0m in \u001b[0;36m<module>\u001b[1;34m\u001b[0m\n\u001b[0;32m      1\u001b[0m \u001b[0mdireccion\u001b[0m \u001b[1;33m=\u001b[0m \u001b[0minput\u001b[0m\u001b[1;33m(\u001b[0m\u001b[1;34m'Ingrese la ubicación del archivo: '\u001b[0m\u001b[1;33m)\u001b[0m\u001b[1;33m\u001b[0m\u001b[1;33m\u001b[0m\u001b[0m\n\u001b[0;32m      2\u001b[0m \u001b[0mnombre\u001b[0m \u001b[1;33m=\u001b[0m \u001b[0minput\u001b[0m\u001b[1;33m(\u001b[0m\u001b[1;34m'Ingrese el nombre del archivo: '\u001b[0m\u001b[1;33m)\u001b[0m\u001b[1;33m\u001b[0m\u001b[1;33m\u001b[0m\u001b[0m\n\u001b[1;32m----> 3\u001b[1;33m \u001b[0mfile\u001b[0m \u001b[1;33m=\u001b[0m \u001b[0mpath\u001b[0m \u001b[1;33m+\u001b[0m \u001b[1;34m'/'\u001b[0m \u001b[1;33m+\u001b[0m \u001b[0mnombre\u001b[0m\u001b[1;33m\u001b[0m\u001b[1;33m\u001b[0m\u001b[0m\n\u001b[0m",
      "\u001b[1;31mNameError\u001b[0m: name 'path' is not defined"
     ]
    }
   ],
   "source": [
    "direccion = input('Ingrese la ubicación del archivo: ')\n",
    "nombre = input('Ingrese el nombre del archivo: ')\n",
    "file = path + '/' + nombre"
   ]
  },
  {
   "cell_type": "code",
   "execution_count": null,
   "id": "156f3713",
   "metadata": {},
   "outputs": [],
   "source": [
    "direccion = input('Ingrese la ubicación del archivo: ')\n",
    "nombre = input('Ingrese el nombre del archivo: ')\n",
    "nombre_c = os.path.join(direccion, nombre)\n",
    "archivo = open(nombre_c)\n",
    "print(archivo.read())\n",
    "archivo.close()"
   ]
  },
  {
   "cell_type": "code",
   "execution_count": null,
   "id": "544cf705",
   "metadata": {},
   "outputs": [],
   "source": [
    "direccion = input('Ingrese la ubicación del archivo: ')\n",
    "nombre = input('Ingrese el nombre del archivo: ')\n",
    "nombre_c = os.path.join(direccion, nombre)\n",
    "try:\n",
    "    archivo = open(nombre_c)\n",
    "    print(archivo.read())\n",
    "    archivo.close()\n",
    "except FileNotFoundError:\n",
    "    print('El archivo no existe, verifique la dirección y el nombre.')"
   ]
  },
  {
   "cell_type": "code",
   "execution_count": null,
   "id": "048e30d4",
   "metadata": {},
   "outputs": [],
   "source": [
    "direccion = input('Ingrese la ubicación del archivo: ')\n",
    "nombre = input('Ingrese el nombre del archivo: ')\n",
    "nombre_c = os.path.join(direccion, nombre)\n",
    "if len(direccion) == 0:\n",
    "    direccion = os.getcwd()\n",
    "if os.path.isdir(direccion):\n",
    "    if nombre in os.listdir(direccion):\n",
    "        archivo = open(nombre_c)\n",
    "        print(archivo.read())\n",
    "        archivo.close()\n",
    "    else:\n",
    "        print('No se ha encontrado el archivo en el directorio ingresado.')\n",
    "else:\n",
    "    print('No se econtró el directorio especificado.')"
   ]
  }
 ],
 "metadata": {
  "kernelspec": {
   "display_name": "Python 3 (ipykernel)",
   "language": "python",
   "name": "python3"
  },
  "language_info": {
   "codemirror_mode": {
    "name": "ipython",
    "version": 3
   },
   "file_extension": ".py",
   "mimetype": "text/x-python",
   "name": "python",
   "nbconvert_exporter": "python",
   "pygments_lexer": "ipython3",
   "version": "3.9.7"
  }
 },
 "nbformat": 4,
 "nbformat_minor": 5
}
