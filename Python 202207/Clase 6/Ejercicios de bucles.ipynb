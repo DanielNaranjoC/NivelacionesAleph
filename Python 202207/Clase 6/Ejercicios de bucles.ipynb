{
 "cells": [
  {
   "cell_type": "markdown",
   "id": "19bc4489",
   "metadata": {},
   "source": [
    "### Sumar\n",
    "\n",
    "$s = \\sum_{i = a}^b s_i$\n",
    "\n",
    "```python\n",
    "s = 0\n",
    "for i in range(a, b + 1):\n",
    "    s = s + {s_i}\n",
    "```\n",
    "\n",
    "* Calcular $s = \\sum_{i = 3}^9 \\frac{1}{i}$\n"
   ]
  },
  {
   "cell_type": "code",
   "execution_count": 1,
   "id": "8798adea",
   "metadata": {},
   "outputs": [
    {
     "name": "stdout",
     "output_type": "stream",
     "text": [
      "Suma:  1.9951080781963133\n"
     ]
    }
   ],
   "source": [
    "s = 0\n",
    "for i in range(3, 9 + 10):\n",
    "    s = s + 1 / i\n",
    "print('Suma: ', s)"
   ]
  },
  {
   "cell_type": "markdown",
   "id": "a8011871",
   "metadata": {},
   "source": [
    "## Cálculo de seno\n",
    "\n",
    "\n",
    "$\\sin{x} = \\sum_{n=0}^{\\infty} \\frac{(-1)^n}{(2n+1)!}x^{2n+1}$\n",
    "\n"
   ]
  },
  {
   "cell_type": "code",
   "execution_count": 2,
   "id": "f524dda3",
   "metadata": {},
   "outputs": [],
   "source": [
    "tolerancia = 1e-12\n",
    "def factorial(n):\n",
    "    if n < 1:\n",
    "        return 1\n",
    "    return n * factorial(n-1)"
   ]
  },
  {
   "cell_type": "code",
   "execution_count": 3,
   "id": "66e3800f",
   "metadata": {
    "scrolled": true
   },
   "outputs": [
    {
     "name": "stdout",
     "output_type": "stream",
     "text": [
      "Para n= 1\n",
      "Para n= 2\n",
      "Para n= 3\n",
      "Para n= 4\n",
      "Para n= 5\n",
      "Para n= 6\n",
      "Para n= 7\n",
      "Para n= 8\n",
      "Para n= 9\n",
      "sin(pi/2) 0.9999999999312411\n"
     ]
    }
   ],
   "source": [
    "def sin(x):\n",
    "    s = 0\n",
    "    n = 0\n",
    "    s_i = (-1)**n / factorial(2*n + 1) * (x ** (2*n+1))\n",
    "    s = s + s_i\n",
    "    while abs(s_i) > tolerancia:\n",
    "        n = n + 1\n",
    "        print('Para n=',n)\n",
    "        s_i = (-1)**n / factorial(2*n + 1) * (x ** (2*n+1))\n",
    "        s = s + s_i\n",
    "    return s\n",
    "print('sin(pi/2)', sin(3.1415692/2))"
   ]
  },
  {
   "cell_type": "markdown",
   "id": "51b636bb",
   "metadata": {},
   "source": [
    "## Cálculo de coseno\n",
    "\n",
    "\n",
    "$\\cos{x} = \\sum_{n=0}^{\\infty} \\frac{(-1)^n}{(2n)!}x^{2n}$\n"
   ]
  },
  {
   "cell_type": "code",
   "execution_count": 4,
   "id": "f920e58d",
   "metadata": {},
   "outputs": [
    {
     "name": "stdout",
     "output_type": "stream",
     "text": [
      "Para n= 1\n",
      "Para n= 2\n",
      "Para n= 3\n",
      "Para n= 4\n",
      "Para n= 5\n",
      "Para n= 6\n",
      "Para n= 7\n",
      "Para n= 8\n",
      "Para n= 9\n",
      "Para n= 10\n",
      "Para n= 11\n",
      "Para n= 12\n",
      "Para n= 13\n",
      "cos(pi) -0.9999999997249642\n"
     ]
    }
   ],
   "source": [
    "def sin(x):\n",
    "    s = 0\n",
    "    n = 0\n",
    "    s_i = (-1)**n / factorial(2*n) * (x ** (2*n))\n",
    "    s = s + s_i\n",
    "    while abs(s_i) > tolerancia:\n",
    "        n = n + 1\n",
    "        print('Para n=',n)\n",
    "        s_i = (-1)**n / factorial(2*n) * (x ** (2*n))\n",
    "        s = s + s_i\n",
    "    return s\n",
    "print('cos(pi)', sin(3.1415692))"
   ]
  },
  {
   "cell_type": "code",
   "execution_count": 5,
   "id": "5e60920c",
   "metadata": {},
   "outputs": [
    {
     "name": "stdout",
     "output_type": "stream",
     "text": [
      "Para n= 1\n",
      "Para n= 2\n",
      "Para n= 3\n",
      "Para n= 4\n",
      "Para n= 5\n",
      "Para n= 6\n",
      "Para n= 7\n",
      "Para n= 8\n",
      "Para n= 9\n",
      "sin(pi/2) 0.9999999999312411\n",
      "Para n= 1\n",
      "Para n= 2\n",
      "Para n= 3\n",
      "Para n= 4\n",
      "Para n= 5\n",
      "Para n= 6\n",
      "Para n= 7\n",
      "Para n= 8\n",
      "Para n= 9\n",
      "Para n= 10\n",
      "Para n= 11\n",
      "Para n= 12\n",
      "Para n= 13\n",
      "cos(pi) -0.9999999997249642\n"
     ]
    }
   ],
   "source": [
    "def aprox(x, fun):\n",
    "    s = 0\n",
    "    n = 0\n",
    "    s_i = fun(x, n)\n",
    "    s = s + s_i\n",
    "    while abs(s_i) > tolerancia:\n",
    "        n = n + 1\n",
    "        print('Para n=',n)\n",
    "        s_i = fun(x, n)\n",
    "        s = s + s_i\n",
    "    return s\n",
    "\n",
    "def f_sin(x, n):\n",
    "    return (-1)**n / factorial(2*n + 1) * (x ** (2*n+1))\n",
    "def f_cos(x, n):\n",
    "    return (-1)**n / factorial(2*n) * (x ** (2*n))\n",
    "\n",
    "print('sin(pi/2)', aprox(3.1415692/2, f_sin))\n",
    "print('cos(pi)', aprox(3.1415692, f_cos))"
   ]
  }
 ],
 "metadata": {
  "kernelspec": {
   "display_name": "Python 3 (ipykernel)",
   "language": "python",
   "name": "python3"
  },
  "language_info": {
   "codemirror_mode": {
    "name": "ipython",
    "version": 3
   },
   "file_extension": ".py",
   "mimetype": "text/x-python",
   "name": "python",
   "nbconvert_exporter": "python",
   "pygments_lexer": "ipython3",
   "version": "3.9.7"
  }
 },
 "nbformat": 4,
 "nbformat_minor": 5
}
