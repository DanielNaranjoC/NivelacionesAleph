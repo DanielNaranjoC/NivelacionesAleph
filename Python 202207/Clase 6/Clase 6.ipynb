{
 "cells": [
  {
   "cell_type": "markdown",
   "id": "b2003d9c",
   "metadata": {},
   "source": [
    "## Generalidades dentro de funciones y variables\n",
    "\n",
    "\n",
    "### Reglas:\n",
    "\n",
    "* Se distinguen mayúsculas y minúsculas\n"
   ]
  },
  {
   "cell_type": "code",
   "execution_count": 1,
   "id": "bc1785ac",
   "metadata": {},
   "outputs": [
    {
     "name": "stdout",
     "output_type": "stream",
     "text": [
      "Mayus:  6\n",
      "Minus:  5\n"
     ]
    }
   ],
   "source": [
    "x = 5\n",
    "X = 6\n",
    "print('Mayus: ', X)\n",
    "print('Minus: ', x)"
   ]
  },
  {
   "cell_type": "markdown",
   "id": "5fd96d87",
   "metadata": {},
   "source": [
    "* Debe empezar por una letra"
   ]
  },
  {
   "cell_type": "code",
   "execution_count": 2,
   "id": "c0df2b73",
   "metadata": {},
   "outputs": [],
   "source": [
    "m4 = 5"
   ]
  },
  {
   "cell_type": "markdown",
   "id": "53a6b6fa",
   "metadata": {},
   "source": [
    "* No puede contener caracteres especiales"
   ]
  },
  {
   "cell_type": "code",
   "execution_count": 3,
   "id": "5559172f",
   "metadata": {},
   "outputs": [
    {
     "name": "stdout",
     "output_type": "stream",
     "text": [
      "5\n",
      "5\n",
      "6\n"
     ]
    }
   ],
   "source": [
    "número = 5\n",
    "print(número) # No\n",
    "aux_1 = 5\n",
    "aux_2 = 6\n",
    "print(aux_1)\n",
    "print(aux_2)"
   ]
  },
  {
   "cell_type": "markdown",
   "id": "466529aa",
   "metadata": {},
   "source": [
    "### Existencia de las variables"
   ]
  },
  {
   "cell_type": "code",
   "execution_count": 4,
   "id": "554e4e9d",
   "metadata": {},
   "outputs": [
    {
     "ename": "NameError",
     "evalue": "name 'variable_no_creada' is not defined",
     "output_type": "error",
     "traceback": [
      "\u001b[1;31m---------------------------------------------------------------------------\u001b[0m",
      "\u001b[1;31mNameError\u001b[0m                                 Traceback (most recent call last)",
      "\u001b[1;32m~\\AppData\\Local\\Temp/ipykernel_5588/2708278921.py\u001b[0m in \u001b[0;36m<module>\u001b[1;34m\u001b[0m\n\u001b[1;32m----> 1\u001b[1;33m \u001b[0mvariable_no_creada\u001b[0m\u001b[1;33m\u001b[0m\u001b[1;33m\u001b[0m\u001b[0m\n\u001b[0m",
      "\u001b[1;31mNameError\u001b[0m: name 'variable_no_creada' is not defined"
     ]
    }
   ],
   "source": [
    "variable_no_creada"
   ]
  },
  {
   "cell_type": "code",
   "execution_count": 5,
   "id": "eb0daf86",
   "metadata": {},
   "outputs": [
    {
     "name": "stdout",
     "output_type": "stream",
     "text": [
      "5\n"
     ]
    }
   ],
   "source": [
    "variable_no_creada = 5\n",
    "print(variable_no_creada)"
   ]
  },
  {
   "cell_type": "markdown",
   "id": "2f12bcbf",
   "metadata": {},
   "source": [
    "#### Variables y funciones\n",
    "\n",
    "* Uso de variables externas en funciones"
   ]
  },
  {
   "cell_type": "code",
   "execution_count": 6,
   "id": "63672fd9",
   "metadata": {},
   "outputs": [],
   "source": [
    "list_a = [1, 2, 3, 4, 5]\n",
    "def print_l():\n",
    "    print(list_a)"
   ]
  },
  {
   "cell_type": "code",
   "execution_count": 7,
   "id": "6f7fee72",
   "metadata": {},
   "outputs": [
    {
     "name": "stdout",
     "output_type": "stream",
     "text": [
      "[1, 2, 3, 4, 5]\n"
     ]
    }
   ],
   "source": [
    "print_l()"
   ]
  },
  {
   "cell_type": "code",
   "execution_count": 8,
   "id": "4986231a",
   "metadata": {},
   "outputs": [
    {
     "name": "stdout",
     "output_type": "stream",
     "text": [
      "[1, 2, 3, 4, 5, 11]\n"
     ]
    }
   ],
   "source": [
    "list_a.append(11)\n",
    "print_l()"
   ]
  },
  {
   "cell_type": "markdown",
   "id": "81ac1a3a",
   "metadata": {},
   "source": [
    "* Cambio de valor dentro de funciones\n",
    "\n",
    "Algunos tipos de dato cambian su valor original si este cambia dentro de las funciones."
   ]
  },
  {
   "cell_type": "code",
   "execution_count": 9,
   "id": "893636ee",
   "metadata": {},
   "outputs": [],
   "source": [
    "list_b = list(range(6))\n",
    "def add_e():\n",
    "    list_b.append(6)\n",
    "    print(list_b)"
   ]
  },
  {
   "cell_type": "code",
   "execution_count": 10,
   "id": "e543068f",
   "metadata": {
    "scrolled": false
   },
   "outputs": [
    {
     "name": "stdout",
     "output_type": "stream",
     "text": [
      "[0, 1, 2, 3, 4, 5, 6]\n",
      "[0, 1, 2, 3, 4, 5, 6, 6]\n",
      "[0, 1, 2, 3, 4, 5, 6, 6, 6]\n",
      "[0, 1, 2, 3, 4, 5, 6, 6, 6, 6]\n"
     ]
    }
   ],
   "source": [
    "add_e()\n",
    "add_e()\n",
    "add_e()\n",
    "add_e()"
   ]
  },
  {
   "cell_type": "code",
   "execution_count": 11,
   "id": "659c8d17",
   "metadata": {},
   "outputs": [
    {
     "name": "stdout",
     "output_type": "stream",
     "text": [
      "aux_1\n",
      "[1, 2, 3]\n",
      "[1, 2, 3, 0]\n",
      "[1, 2, 3, 0, 0]\n",
      "aux_2\n",
      "[4, 5, 6]\n",
      "[4, 5, 6, 0]\n",
      "[4, 5, 6, 0, 0]\n"
     ]
    },
    {
     "ename": "AttributeError",
     "evalue": "'str' object has no attribute 'append'",
     "output_type": "error",
     "traceback": [
      "\u001b[1;31m---------------------------------------------------------------------------\u001b[0m",
      "\u001b[1;31mAttributeError\u001b[0m                            Traceback (most recent call last)",
      "\u001b[1;32m~\\AppData\\Local\\Temp/ipykernel_5588/3685826428.py\u001b[0m in \u001b[0;36m<module>\u001b[1;34m\u001b[0m\n\u001b[0;32m     15\u001b[0m \u001b[0madd_cero\u001b[0m\u001b[1;33m(\u001b[0m\u001b[0maux_2\u001b[0m\u001b[1;33m)\u001b[0m\u001b[1;33m\u001b[0m\u001b[1;33m\u001b[0m\u001b[0m\n\u001b[0;32m     16\u001b[0m \u001b[0mprint\u001b[0m\u001b[1;33m(\u001b[0m\u001b[0maux_2\u001b[0m\u001b[1;33m)\u001b[0m\u001b[1;33m\u001b[0m\u001b[1;33m\u001b[0m\u001b[0m\n\u001b[1;32m---> 17\u001b[1;33m \u001b[0madd_cero\u001b[0m\u001b[1;33m(\u001b[0m\u001b[1;34m'sff'\u001b[0m\u001b[1;33m)\u001b[0m\u001b[1;33m\u001b[0m\u001b[1;33m\u001b[0m\u001b[0m\n\u001b[0m",
      "\u001b[1;32m~\\AppData\\Local\\Temp/ipykernel_5588/3685826428.py\u001b[0m in \u001b[0;36madd_cero\u001b[1;34m(list_add)\u001b[0m\n\u001b[0;32m      1\u001b[0m \u001b[1;32mdef\u001b[0m \u001b[0madd_cero\u001b[0m\u001b[1;33m(\u001b[0m\u001b[0mlist_add\u001b[0m\u001b[1;33m)\u001b[0m\u001b[1;33m:\u001b[0m\u001b[1;33m\u001b[0m\u001b[1;33m\u001b[0m\u001b[0m\n\u001b[1;32m----> 2\u001b[1;33m     \u001b[0mlist_add\u001b[0m\u001b[1;33m.\u001b[0m\u001b[0mappend\u001b[0m\u001b[1;33m(\u001b[0m\u001b[1;36m0\u001b[0m\u001b[1;33m)\u001b[0m\u001b[1;33m\u001b[0m\u001b[1;33m\u001b[0m\u001b[0m\n\u001b[0m\u001b[0;32m      3\u001b[0m \u001b[0maux_1\u001b[0m \u001b[1;33m=\u001b[0m \u001b[1;33m[\u001b[0m\u001b[1;36m1\u001b[0m\u001b[1;33m,\u001b[0m\u001b[1;36m2\u001b[0m\u001b[1;33m,\u001b[0m\u001b[1;36m3\u001b[0m\u001b[1;33m]\u001b[0m\u001b[1;33m\u001b[0m\u001b[1;33m\u001b[0m\u001b[0m\n\u001b[0;32m      4\u001b[0m \u001b[0maux_2\u001b[0m \u001b[1;33m=\u001b[0m \u001b[1;33m[\u001b[0m\u001b[1;36m4\u001b[0m\u001b[1;33m,\u001b[0m\u001b[1;36m5\u001b[0m\u001b[1;33m,\u001b[0m\u001b[1;36m6\u001b[0m\u001b[1;33m]\u001b[0m\u001b[1;33m\u001b[0m\u001b[1;33m\u001b[0m\u001b[0m\n\u001b[0;32m      5\u001b[0m \u001b[0mprint\u001b[0m\u001b[1;33m(\u001b[0m\u001b[1;34m'aux_1'\u001b[0m\u001b[1;33m)\u001b[0m\u001b[1;33m\u001b[0m\u001b[1;33m\u001b[0m\u001b[0m\n",
      "\u001b[1;31mAttributeError\u001b[0m: 'str' object has no attribute 'append'"
     ]
    }
   ],
   "source": [
    "def add_cero(list_add):\n",
    "    list_add.append(0)\n",
    "aux_1 = [1,2,3]\n",
    "aux_2 = [4,5,6]\n",
    "print('aux_1')\n",
    "print(aux_1)\n",
    "add_cero(aux_1)\n",
    "print(aux_1)\n",
    "add_cero(aux_1)\n",
    "print(aux_1)\n",
    "print('aux_2')\n",
    "print(aux_2)\n",
    "add_cero(aux_2)\n",
    "print(aux_2)\n",
    "add_cero(aux_2)\n",
    "print(aux_2)\n",
    "add_cero('sff')"
   ]
  },
  {
   "cell_type": "code",
   "execution_count": 12,
   "id": "31c1e01f",
   "metadata": {},
   "outputs": [
    {
     "name": "stdout",
     "output_type": "stream",
     "text": [
      "5\n"
     ]
    }
   ],
   "source": [
    "def incrementar(n):\n",
    "    n = n + 1\n",
    "aux = 5\n",
    "incrementar(aux)\n",
    "print(aux)"
   ]
  },
  {
   "cell_type": "code",
   "execution_count": 13,
   "id": "81669892",
   "metadata": {},
   "outputs": [
    {
     "name": "stdout",
     "output_type": "stream",
     "text": [
      "5\n",
      "[1, 2]\n"
     ]
    }
   ],
   "source": [
    "def crecer(list_c):\n",
    "    list_c = 3 * list_c\n",
    "aux = 5\n",
    "crecer(aux)\n",
    "print(aux)\n",
    "aux = [1,2]\n",
    "crecer(aux)\n",
    "print(aux)"
   ]
  },
  {
   "cell_type": "code",
   "execution_count": 14,
   "id": "191d08b3",
   "metadata": {},
   "outputs": [
    {
     "data": {
      "text/plain": [
       "[1, 2, 3, 1, 2, 3, 1, 2, 3]"
      ]
     },
     "execution_count": 14,
     "metadata": {},
     "output_type": "execute_result"
    }
   ],
   "source": [
    "3 * [1,2,3]"
   ]
  }
 ],
 "metadata": {
  "kernelspec": {
   "display_name": "Python 3 (ipykernel)",
   "language": "python",
   "name": "python3"
  },
  "language_info": {
   "codemirror_mode": {
    "name": "ipython",
    "version": 3
   },
   "file_extension": ".py",
   "mimetype": "text/x-python",
   "name": "python",
   "nbconvert_exporter": "python",
   "pygments_lexer": "ipython3",
   "version": "3.9.7"
  }
 },
 "nbformat": 4,
 "nbformat_minor": 5
}
