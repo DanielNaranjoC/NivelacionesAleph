{
 "cells": [
  {
   "cell_type": "markdown",
   "id": "e49b4419",
   "metadata": {},
   "source": [
    "**Lectura, almacenamiento y actualización de una base de datos**\n",
    "\n",
    "* Definir un nombre para mi archivo\n",
    "* Definir un formato para mi archivo\n",
    "* Seleccionar los campos que tendrá la base\n",
    "* Se deben consevar los registros anteriores\n",
    "* Se deben poder ingresar nuevos registros"
   ]
  },
  {
   "cell_type": "code",
   "execution_count": 1,
   "id": "b356b18c",
   "metadata": {},
   "outputs": [],
   "source": [
    "nombre = 'base_datos.csv'"
   ]
  },
  {
   "cell_type": "markdown",
   "id": "2b6e907a",
   "metadata": {},
   "source": [
    "* Campos:\n",
    "    * Nombre\n",
    "    * Apellido\n",
    "    * Contraseña\n",
    "    * Fecha de nacimiento\n",
    "    * Nivel de educación"
   ]
  },
  {
   "cell_type": "code",
   "execution_count": 2,
   "id": "e6276c31",
   "metadata": {},
   "outputs": [],
   "source": [
    "import pandas as pd\n",
    "from datetime import datetime as dt\n",
    "try:\n",
    "    base = pd.read_csv(nombre, index_col='CI')\n",
    "    base.index = base.index.astype(str)\n",
    "except FileNotFoundError:\n",
    "    base = pd.DataFrame()"
   ]
  },
  {
   "cell_type": "code",
   "execution_count": 3,
   "id": "ff703c20",
   "metadata": {
    "scrolled": true
   },
   "outputs": [
    {
     "data": {
      "text/html": [
       "<div>\n",
       "<style scoped>\n",
       "    .dataframe tbody tr th:only-of-type {\n",
       "        vertical-align: middle;\n",
       "    }\n",
       "\n",
       "    .dataframe tbody tr th {\n",
       "        vertical-align: top;\n",
       "    }\n",
       "\n",
       "    .dataframe thead th {\n",
       "        text-align: right;\n",
       "    }\n",
       "</style>\n",
       "<table border=\"1\" class=\"dataframe\">\n",
       "  <thead>\n",
       "    <tr style=\"text-align: right;\">\n",
       "      <th></th>\n",
       "      <th>Nombre</th>\n",
       "      <th>Apellido</th>\n",
       "      <th>Contraseña</th>\n",
       "      <th>Fecha</th>\n",
       "      <th>Nivel instrucción</th>\n",
       "    </tr>\n",
       "    <tr>\n",
       "      <th>CI</th>\n",
       "      <th></th>\n",
       "      <th></th>\n",
       "      <th></th>\n",
       "      <th></th>\n",
       "      <th></th>\n",
       "    </tr>\n",
       "  </thead>\n",
       "  <tbody>\n",
       "    <tr>\n",
       "      <th>170000000000</th>\n",
       "      <td>Daniel Naranjo</td>\n",
       "      <td>Naranjo</td>\n",
       "      <td>1233</td>\n",
       "      <td>2000-01-01 00:00:00</td>\n",
       "      <td>2</td>\n",
       "    </tr>\n",
       "    <tr>\n",
       "      <th>1800000000</th>\n",
       "      <td>José</td>\n",
       "      <td>Pérez</td>\n",
       "      <td>1234124</td>\n",
       "      <td>2000-01-01 00:00:00</td>\n",
       "      <td>2</td>\n",
       "    </tr>\n",
       "    <tr>\n",
       "      <th>12</th>\n",
       "      <td>Daniel</td>\n",
       "      <td>Naranjo</td>\n",
       "      <td>11234567</td>\n",
       "      <td>2000-01-01 00:00:00</td>\n",
       "      <td>2</td>\n",
       "    </tr>\n",
       "  </tbody>\n",
       "</table>\n",
       "</div>"
      ],
      "text/plain": [
       "                      Nombre Apellido  Contraseña                Fecha  \\\n",
       "CI                                                                       \n",
       "170000000000  Daniel Naranjo  Naranjo        1233  2000-01-01 00:00:00   \n",
       "1800000000              José    Pérez     1234124  2000-01-01 00:00:00   \n",
       "12                    Daniel  Naranjo    11234567  2000-01-01 00:00:00   \n",
       "\n",
       "              Nivel instrucción  \n",
       "CI                               \n",
       "170000000000                  2  \n",
       "1800000000                    2  \n",
       "12                            2  "
      ]
     },
     "execution_count": 3,
     "metadata": {},
     "output_type": "execute_result"
    }
   ],
   "source": [
    "base"
   ]
  },
  {
   "cell_type": "code",
   "execution_count": 4,
   "id": "6d569ef1",
   "metadata": {},
   "outputs": [],
   "source": [
    "def leer_fecha():\n",
    "    f = input('Ingrese su fecha de nacimiento (Año-mes-día): ')\n",
    "    f = pd.to_datetime(f, format='%Y-%m-%d')\n",
    "    if dt.today().year - f.year > 100:\n",
    "        raise ValueError('No pueden haber personas de más de 100 años.')\n",
    "    return f\n",
    "\n",
    "def validar_c():\n",
    "    \"\"\"\n",
    "    Leer una contraseña y verifica que tenga:\n",
    "        - Al menos una mayúscula\n",
    "        - Al menos una minúscula\n",
    "        - Que tenga al menos un número\n",
    "        - La longitud sea de al menos 8 y máximo 16\n",
    "    \"\"\"\n",
    "    c = input('Ingrese su contraseña: ')\n",
    "    if len(c) < 8 or len(c) > 16:\n",
    "        raise ValueError('La contraseña debe tener entre 8 y 16 carcateres')\n",
    "    may = False\n",
    "    for i in c:\n",
    "        if i.upper() == i and i.isalpha():\n",
    "            may = True\n",
    "            break\n",
    "    minus = False\n",
    "    for i in c:\n",
    "        if i.lower() == i and i.isalpha():\n",
    "            minus = True\n",
    "            break\n",
    "    num = False\n",
    "    for i in c:\n",
    "        if i.isdigit():\n",
    "            num = True\n",
    "            break\n",
    "    if may and minus and num:\n",
    "        return c\n",
    "    else:\n",
    "        raise ValueError('La contraseña debe tener minúsculas, mayúsculas y números')"
   ]
  },
  {
   "cell_type": "code",
   "execution_count": 5,
   "id": "c61734c0",
   "metadata": {},
   "outputs": [
    {
     "name": "stdout",
     "output_type": "stream",
     "text": [
      "Ingrese su nombre: Daniel\n",
      "Ingrese su apellido: Naranjo\n",
      "Ingrese su contraseña: 123456Co\n",
      "Ingrese su fecha de nacimiento (Año-mes-día): 2000-01-01\n",
      "Ingrese su nivel de educación: 2\n",
      "Ingrese su CI: 170000000000\n"
     ]
    }
   ],
   "source": [
    "n = input('Ingrese su nombre: ')\n",
    "a = input('Ingrese su apellido: ')\n",
    "c = validar_c()\n",
    "f = leer_fecha()\n",
    "ne = input('Ingrese su nivel de educación: ')\n",
    "ci = input('Ingrese su CI: ')"
   ]
  },
  {
   "cell_type": "code",
   "execution_count": 10,
   "id": "98890e5e",
   "metadata": {},
   "outputs": [
    {
     "data": {
      "text/html": [
       "<div>\n",
       "<style scoped>\n",
       "    .dataframe tbody tr th:only-of-type {\n",
       "        vertical-align: middle;\n",
       "    }\n",
       "\n",
       "    .dataframe tbody tr th {\n",
       "        vertical-align: top;\n",
       "    }\n",
       "\n",
       "    .dataframe thead th {\n",
       "        text-align: right;\n",
       "    }\n",
       "</style>\n",
       "<table border=\"1\" class=\"dataframe\">\n",
       "  <thead>\n",
       "    <tr style=\"text-align: right;\">\n",
       "      <th></th>\n",
       "      <th>Nombre</th>\n",
       "      <th>Apellido</th>\n",
       "      <th>Contraseña</th>\n",
       "      <th>Fecha</th>\n",
       "      <th>Nivel instrucción</th>\n",
       "    </tr>\n",
       "    <tr>\n",
       "      <th>CI</th>\n",
       "      <th></th>\n",
       "      <th></th>\n",
       "      <th></th>\n",
       "      <th></th>\n",
       "      <th></th>\n",
       "    </tr>\n",
       "  </thead>\n",
       "  <tbody>\n",
       "    <tr>\n",
       "      <th>170000000000</th>\n",
       "      <td>Daniel</td>\n",
       "      <td>Naranjo</td>\n",
       "      <td>123456Co</td>\n",
       "      <td>2000-01-01</td>\n",
       "      <td>2</td>\n",
       "    </tr>\n",
       "  </tbody>\n",
       "</table>\n",
       "</div>"
      ],
      "text/plain": [
       "              Nombre Apellido Contraseña      Fecha Nivel instrucción\n",
       "CI                                                                   \n",
       "170000000000  Daniel  Naranjo   123456Co 2000-01-01                 2"
      ]
     },
     "execution_count": 10,
     "metadata": {},
     "output_type": "execute_result"
    }
   ],
   "source": [
    "nueva_fila = {'Nombre': n, 'Apellido': a, 'Contraseña': c, 'Fecha': f, 'Nivel instrucción': ne, 'CI': ci}\n",
    "nueva_fila = pd.Series(nueva_fila)\n",
    "nueva_fila = pd.DataFrame(nueva_fila)\n",
    "nueva_fila = nueva_fila.T\n",
    "nueva_fila = nueva_fila.set_index('CI')\n",
    "nueva_fila"
   ]
  },
  {
   "cell_type": "code",
   "execution_count": 11,
   "id": "5caf3f26",
   "metadata": {
    "scrolled": true
   },
   "outputs": [
    {
     "data": {
      "text/html": [
       "<div>\n",
       "<style scoped>\n",
       "    .dataframe tbody tr th:only-of-type {\n",
       "        vertical-align: middle;\n",
       "    }\n",
       "\n",
       "    .dataframe tbody tr th {\n",
       "        vertical-align: top;\n",
       "    }\n",
       "\n",
       "    .dataframe thead th {\n",
       "        text-align: right;\n",
       "    }\n",
       "</style>\n",
       "<table border=\"1\" class=\"dataframe\">\n",
       "  <thead>\n",
       "    <tr style=\"text-align: right;\">\n",
       "      <th></th>\n",
       "      <th>Nombre</th>\n",
       "      <th>Apellido</th>\n",
       "      <th>Contraseña</th>\n",
       "      <th>Fecha</th>\n",
       "      <th>Nivel instrucción</th>\n",
       "    </tr>\n",
       "    <tr>\n",
       "      <th>CI</th>\n",
       "      <th></th>\n",
       "      <th></th>\n",
       "      <th></th>\n",
       "      <th></th>\n",
       "      <th></th>\n",
       "    </tr>\n",
       "  </thead>\n",
       "  <tbody>\n",
       "    <tr>\n",
       "      <th>1800000000</th>\n",
       "      <td>José</td>\n",
       "      <td>Pérez</td>\n",
       "      <td>1234124</td>\n",
       "      <td>2000-01-01 00:00:00</td>\n",
       "      <td>2</td>\n",
       "    </tr>\n",
       "    <tr>\n",
       "      <th>12</th>\n",
       "      <td>Daniel</td>\n",
       "      <td>Naranjo</td>\n",
       "      <td>11234567</td>\n",
       "      <td>2000-01-01 00:00:00</td>\n",
       "      <td>2</td>\n",
       "    </tr>\n",
       "    <tr>\n",
       "      <th>170000000000</th>\n",
       "      <td>Daniel</td>\n",
       "      <td>Naranjo</td>\n",
       "      <td>123456Co</td>\n",
       "      <td>2000-01-01 00:00:00</td>\n",
       "      <td>2</td>\n",
       "    </tr>\n",
       "  </tbody>\n",
       "</table>\n",
       "</div>"
      ],
      "text/plain": [
       "              Nombre Apellido Contraseña                Fecha  \\\n",
       "CI                                                              \n",
       "1800000000      José    Pérez    1234124  2000-01-01 00:00:00   \n",
       "12            Daniel  Naranjo   11234567  2000-01-01 00:00:00   \n",
       "170000000000  Daniel  Naranjo   123456Co  2000-01-01 00:00:00   \n",
       "\n",
       "             Nivel instrucción  \n",
       "CI                              \n",
       "1800000000                   2  \n",
       "12                           2  \n",
       "170000000000                 2  "
      ]
     },
     "execution_count": 11,
     "metadata": {},
     "output_type": "execute_result"
    }
   ],
   "source": [
    "base = pd.concat([base, nueva_fila])\n",
    "base = base.loc[~base.index.duplicated(keep='last')].copy()\n",
    "base"
   ]
  },
  {
   "cell_type": "code",
   "execution_count": 12,
   "id": "1ee44cf6",
   "metadata": {},
   "outputs": [],
   "source": [
    "base.to_csv(nombre)"
   ]
  }
 ],
 "metadata": {
  "kernelspec": {
   "display_name": "Python 3 (ipykernel)",
   "language": "python",
   "name": "python3"
  },
  "language_info": {
   "codemirror_mode": {
    "name": "ipython",
    "version": 3
   },
   "file_extension": ".py",
   "mimetype": "text/x-python",
   "name": "python",
   "nbconvert_exporter": "python",
   "pygments_lexer": "ipython3",
   "version": "3.9.7"
  }
 },
 "nbformat": 4,
 "nbformat_minor": 5
}
