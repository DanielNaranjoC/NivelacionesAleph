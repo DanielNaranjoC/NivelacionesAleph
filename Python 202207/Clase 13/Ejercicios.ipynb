{
 "cells": [
  {
   "cell_type": "markdown",
   "id": "e49b4419",
   "metadata": {},
   "source": [
    "**Lectura, almacenamiento y actualización de una base de datos**\n",
    "\n",
    "* Definir un nombre para mi archivo\n",
    "* Definir un formato para mi archivo\n",
    "* Seleccionar los campos que tendrá la base\n",
    "* Se deben consevar los registros anteriores\n",
    "* Se deben poder ingresar nuevos registros"
   ]
  },
  {
   "cell_type": "code",
   "execution_count": 1,
   "id": "b356b18c",
   "metadata": {},
   "outputs": [],
   "source": [
    "nombre = 'base_datos.csv'"
   ]
  },
  {
   "cell_type": "markdown",
   "id": "2b6e907a",
   "metadata": {},
   "source": [
    "* Campos:\n",
    "    * Nombre\n",
    "    * Apellido\n",
    "    * Contraseña\n",
    "    * Fecha de nacimiento\n",
    "    * Nivel de educación"
   ]
  },
  {
   "cell_type": "code",
   "execution_count": 2,
   "id": "e6276c31",
   "metadata": {},
   "outputs": [],
   "source": [
    "import pandas as pd\n",
    "from datetime import datetime as dt\n",
    "try:\n",
    "    base = pd.read_csv(nombre, index_col='CI')\n",
    "    base.index = base.index.astype(str)\n",
    "except FileNotFoundError:\n",
    "    base = pd.DataFrame()"
   ]
  },
  {
   "cell_type": "code",
   "execution_count": 3,
   "id": "ff703c20",
   "metadata": {
    "scrolled": true
   },
   "outputs": [
    {
     "data": {
      "text/html": [
       "<div>\n",
       "<style scoped>\n",
       "    .dataframe tbody tr th:only-of-type {\n",
       "        vertical-align: middle;\n",
       "    }\n",
       "\n",
       "    .dataframe tbody tr th {\n",
       "        vertical-align: top;\n",
       "    }\n",
       "\n",
       "    .dataframe thead th {\n",
       "        text-align: right;\n",
       "    }\n",
       "</style>\n",
       "<table border=\"1\" class=\"dataframe\">\n",
       "  <thead>\n",
       "    <tr style=\"text-align: right;\">\n",
       "      <th></th>\n",
       "      <th>Nombre</th>\n",
       "      <th>Apellido</th>\n",
       "      <th>Contraseña</th>\n",
       "      <th>Fecha</th>\n",
       "      <th>Nivel instrucción</th>\n",
       "    </tr>\n",
       "    <tr>\n",
       "      <th>CI</th>\n",
       "      <th></th>\n",
       "      <th></th>\n",
       "      <th></th>\n",
       "      <th></th>\n",
       "      <th></th>\n",
       "    </tr>\n",
       "  </thead>\n",
       "  <tbody>\n",
       "    <tr>\n",
       "      <th>170000000000</th>\n",
       "      <td>Daniel Naranjo</td>\n",
       "      <td>Naranjo</td>\n",
       "      <td>1233</td>\n",
       "      <td>2000-01-01 00:00:00</td>\n",
       "      <td>2</td>\n",
       "    </tr>\n",
       "    <tr>\n",
       "      <th>1800000000</th>\n",
       "      <td>José</td>\n",
       "      <td>Pérez</td>\n",
       "      <td>1234124</td>\n",
       "      <td>2000-01-01 00:00:00</td>\n",
       "      <td>2</td>\n",
       "    </tr>\n",
       "  </tbody>\n",
       "</table>\n",
       "</div>"
      ],
      "text/plain": [
       "                      Nombre Apellido  Contraseña                Fecha  \\\n",
       "CI                                                                       \n",
       "170000000000  Daniel Naranjo  Naranjo        1233  2000-01-01 00:00:00   \n",
       "1800000000              José    Pérez     1234124  2000-01-01 00:00:00   \n",
       "\n",
       "              Nivel instrucción  \n",
       "CI                               \n",
       "170000000000                  2  \n",
       "1800000000                    2  "
      ]
     },
     "execution_count": 3,
     "metadata": {},
     "output_type": "execute_result"
    }
   ],
   "source": [
    "base"
   ]
  },
  {
   "cell_type": "code",
   "execution_count": 18,
   "id": "09d3bde4",
   "metadata": {},
   "outputs": [],
   "source": [
    "def leer_fecha():\n",
    "    f = input('Ingrese su fecha de nacimiento (Año-mes-día): ')\n",
    "    f = pd.to_datetime(f, format='%Y-%m-%d')\n",
    "    if dt.today().year - f.year > 100:\n",
    "        raise ValueError('No pueden haber personas de más de 100 años.')\n",
    "    return f\n",
    "\n",
    "def validar_c():\n",
    "    \"\"\"\n",
    "    Leer una contraseña y verifica que tenga:\n",
    "        - Al menos una mayúscula\n",
    "        - Al menos una minúscula\n",
    "        - Que tenga al menos un número\n",
    "    \"\"\"\n",
    "    c = input('Ingrese su contraseña: ')\n",
    "    may = False\n",
    "    for i in c:\n",
    "        if i.upper() == i and i.isalpha():\n",
    "            may = True\n",
    "            break\n",
    "    minus = False\n",
    "    for i in c:\n",
    "        if i.lower() == i and i.isalpha():\n",
    "            minus = True\n",
    "            break\n",
    "    num = False\n",
    "    for i in c:\n",
    "        if i.isdigit():\n",
    "            num = True\n",
    "            break\n",
    "    if may and minus and num:\n",
    "        return c\n",
    "    raise ValueError('La contraseña debe tener minúsculas, mayúsculas y números')"
   ]
  },
  {
   "cell_type": "code",
   "execution_count": 21,
   "id": "c61734c0",
   "metadata": {},
   "outputs": [
    {
     "name": "stdout",
     "output_type": "stream",
     "text": [
      "Ingrese su nombre: g\n",
      "Ingrese su apellido: g\n",
      "Ingrese su contraseña: 123Ab\n"
     ]
    },
    {
     "ename": "KeyboardInterrupt",
     "evalue": "Interrupted by user",
     "output_type": "error",
     "traceback": [
      "\u001b[1;31m---------------------------------------------------------------------------\u001b[0m",
      "\u001b[1;31mKeyboardInterrupt\u001b[0m                         Traceback (most recent call last)",
      "\u001b[1;32m~\\AppData\\Local\\Temp/ipykernel_13024/2415713036.py\u001b[0m in \u001b[0;36m<module>\u001b[1;34m\u001b[0m\n\u001b[0;32m      2\u001b[0m \u001b[0ma\u001b[0m \u001b[1;33m=\u001b[0m \u001b[0minput\u001b[0m\u001b[1;33m(\u001b[0m\u001b[1;34m'Ingrese su apellido: '\u001b[0m\u001b[1;33m)\u001b[0m\u001b[1;33m\u001b[0m\u001b[1;33m\u001b[0m\u001b[0m\n\u001b[0;32m      3\u001b[0m \u001b[0mc\u001b[0m \u001b[1;33m=\u001b[0m \u001b[0mvalidar_c\u001b[0m\u001b[1;33m(\u001b[0m\u001b[1;33m)\u001b[0m\u001b[1;33m\u001b[0m\u001b[1;33m\u001b[0m\u001b[0m\n\u001b[1;32m----> 4\u001b[1;33m \u001b[0mf\u001b[0m \u001b[1;33m=\u001b[0m \u001b[0mleer_fecha\u001b[0m\u001b[1;33m(\u001b[0m\u001b[1;33m)\u001b[0m\u001b[1;33m\u001b[0m\u001b[1;33m\u001b[0m\u001b[0m\n\u001b[0m\u001b[0;32m      5\u001b[0m \u001b[0mne\u001b[0m \u001b[1;33m=\u001b[0m \u001b[0minput\u001b[0m\u001b[1;33m(\u001b[0m\u001b[1;34m'Ingrese su nivel de educación: '\u001b[0m\u001b[1;33m)\u001b[0m\u001b[1;33m\u001b[0m\u001b[1;33m\u001b[0m\u001b[0m\n\u001b[0;32m      6\u001b[0m \u001b[0mci\u001b[0m \u001b[1;33m=\u001b[0m \u001b[0minput\u001b[0m\u001b[1;33m(\u001b[0m\u001b[1;34m'Ingrese su CI: '\u001b[0m\u001b[1;33m)\u001b[0m\u001b[1;33m\u001b[0m\u001b[1;33m\u001b[0m\u001b[0m\n",
      "\u001b[1;32m~\\AppData\\Local\\Temp/ipykernel_13024/491362139.py\u001b[0m in \u001b[0;36mleer_fecha\u001b[1;34m()\u001b[0m\n\u001b[0;32m      1\u001b[0m \u001b[1;32mdef\u001b[0m \u001b[0mleer_fecha\u001b[0m\u001b[1;33m(\u001b[0m\u001b[1;33m)\u001b[0m\u001b[1;33m:\u001b[0m\u001b[1;33m\u001b[0m\u001b[1;33m\u001b[0m\u001b[0m\n\u001b[1;32m----> 2\u001b[1;33m     \u001b[0mf\u001b[0m \u001b[1;33m=\u001b[0m \u001b[0minput\u001b[0m\u001b[1;33m(\u001b[0m\u001b[1;34m'Ingrese su fecha de nacimiento (Año-mes-día): '\u001b[0m\u001b[1;33m)\u001b[0m\u001b[1;33m\u001b[0m\u001b[1;33m\u001b[0m\u001b[0m\n\u001b[0m\u001b[0;32m      3\u001b[0m     \u001b[0mf\u001b[0m \u001b[1;33m=\u001b[0m \u001b[0mpd\u001b[0m\u001b[1;33m.\u001b[0m\u001b[0mto_datetime\u001b[0m\u001b[1;33m(\u001b[0m\u001b[0mf\u001b[0m\u001b[1;33m,\u001b[0m \u001b[0mformat\u001b[0m\u001b[1;33m=\u001b[0m\u001b[1;34m'%Y-%m-%d'\u001b[0m\u001b[1;33m)\u001b[0m\u001b[1;33m\u001b[0m\u001b[1;33m\u001b[0m\u001b[0m\n\u001b[0;32m      4\u001b[0m     \u001b[1;32mif\u001b[0m \u001b[0mdt\u001b[0m\u001b[1;33m.\u001b[0m\u001b[0mtoday\u001b[0m\u001b[1;33m(\u001b[0m\u001b[1;33m)\u001b[0m\u001b[1;33m.\u001b[0m\u001b[0myear\u001b[0m \u001b[1;33m-\u001b[0m \u001b[0mf\u001b[0m\u001b[1;33m.\u001b[0m\u001b[0myear\u001b[0m \u001b[1;33m>\u001b[0m \u001b[1;36m100\u001b[0m\u001b[1;33m:\u001b[0m\u001b[1;33m\u001b[0m\u001b[1;33m\u001b[0m\u001b[0m\n\u001b[0;32m      5\u001b[0m         \u001b[1;32mraise\u001b[0m \u001b[0mValueError\u001b[0m\u001b[1;33m(\u001b[0m\u001b[1;34m'No pueden haber personas de más de 100 años.'\u001b[0m\u001b[1;33m)\u001b[0m\u001b[1;33m\u001b[0m\u001b[1;33m\u001b[0m\u001b[0m\n",
      "\u001b[1;32m~\\anaconda3\\lib\\site-packages\\ipykernel\\kernelbase.py\u001b[0m in \u001b[0;36mraw_input\u001b[1;34m(self, prompt)\u001b[0m\n\u001b[0;32m   1004\u001b[0m                 \u001b[1;34m\"raw_input was called, but this frontend does not support input requests.\"\u001b[0m\u001b[1;33m\u001b[0m\u001b[1;33m\u001b[0m\u001b[0m\n\u001b[0;32m   1005\u001b[0m             )\n\u001b[1;32m-> 1006\u001b[1;33m         return self._input_request(\n\u001b[0m\u001b[0;32m   1007\u001b[0m             \u001b[0mstr\u001b[0m\u001b[1;33m(\u001b[0m\u001b[0mprompt\u001b[0m\u001b[1;33m)\u001b[0m\u001b[1;33m,\u001b[0m\u001b[1;33m\u001b[0m\u001b[1;33m\u001b[0m\u001b[0m\n\u001b[0;32m   1008\u001b[0m             \u001b[0mself\u001b[0m\u001b[1;33m.\u001b[0m\u001b[0m_parent_ident\u001b[0m\u001b[1;33m[\u001b[0m\u001b[1;34m\"shell\"\u001b[0m\u001b[1;33m]\u001b[0m\u001b[1;33m,\u001b[0m\u001b[1;33m\u001b[0m\u001b[1;33m\u001b[0m\u001b[0m\n",
      "\u001b[1;32m~\\anaconda3\\lib\\site-packages\\ipykernel\\kernelbase.py\u001b[0m in \u001b[0;36m_input_request\u001b[1;34m(self, prompt, ident, parent, password)\u001b[0m\n\u001b[0;32m   1049\u001b[0m             \u001b[1;32mexcept\u001b[0m \u001b[0mKeyboardInterrupt\u001b[0m\u001b[1;33m:\u001b[0m\u001b[1;33m\u001b[0m\u001b[1;33m\u001b[0m\u001b[0m\n\u001b[0;32m   1050\u001b[0m                 \u001b[1;31m# re-raise KeyboardInterrupt, to truncate traceback\u001b[0m\u001b[1;33m\u001b[0m\u001b[1;33m\u001b[0m\u001b[0m\n\u001b[1;32m-> 1051\u001b[1;33m                 \u001b[1;32mraise\u001b[0m \u001b[0mKeyboardInterrupt\u001b[0m\u001b[1;33m(\u001b[0m\u001b[1;34m\"Interrupted by user\"\u001b[0m\u001b[1;33m)\u001b[0m \u001b[1;32mfrom\u001b[0m \u001b[1;32mNone\u001b[0m\u001b[1;33m\u001b[0m\u001b[1;33m\u001b[0m\u001b[0m\n\u001b[0m\u001b[0;32m   1052\u001b[0m             \u001b[1;32mexcept\u001b[0m \u001b[0mException\u001b[0m\u001b[1;33m:\u001b[0m\u001b[1;33m\u001b[0m\u001b[1;33m\u001b[0m\u001b[0m\n\u001b[0;32m   1053\u001b[0m                 \u001b[0mself\u001b[0m\u001b[1;33m.\u001b[0m\u001b[0mlog\u001b[0m\u001b[1;33m.\u001b[0m\u001b[0mwarning\u001b[0m\u001b[1;33m(\u001b[0m\u001b[1;34m\"Invalid Message:\"\u001b[0m\u001b[1;33m,\u001b[0m \u001b[0mexc_info\u001b[0m\u001b[1;33m=\u001b[0m\u001b[1;32mTrue\u001b[0m\u001b[1;33m)\u001b[0m\u001b[1;33m\u001b[0m\u001b[1;33m\u001b[0m\u001b[0m\n",
      "\u001b[1;31mKeyboardInterrupt\u001b[0m: Interrupted by user"
     ]
    }
   ],
   "source": [
    "n = input('Ingrese su nombre: ')\n",
    "a = input('Ingrese su apellido: ')\n",
    "c = validar_c()\n",
    "f = leer_fecha()\n",
    "ne = input('Ingrese su nivel de educación: ')\n",
    "ci = input('Ingrese su CI: ')"
   ]
  },
  {
   "cell_type": "code",
   "execution_count": 17,
   "id": "494ccdab",
   "metadata": {},
   "outputs": [
    {
     "data": {
      "text/plain": [
       "False"
      ]
     },
     "execution_count": 17,
     "metadata": {},
     "output_type": "execute_result"
    }
   ],
   "source": [
    "'1'.isalpha()"
   ]
  },
  {
   "cell_type": "code",
   "execution_count": 6,
   "id": "98890e5e",
   "metadata": {},
   "outputs": [
    {
     "data": {
      "text/html": [
       "<div>\n",
       "<style scoped>\n",
       "    .dataframe tbody tr th:only-of-type {\n",
       "        vertical-align: middle;\n",
       "    }\n",
       "\n",
       "    .dataframe tbody tr th {\n",
       "        vertical-align: top;\n",
       "    }\n",
       "\n",
       "    .dataframe thead th {\n",
       "        text-align: right;\n",
       "    }\n",
       "</style>\n",
       "<table border=\"1\" class=\"dataframe\">\n",
       "  <thead>\n",
       "    <tr style=\"text-align: right;\">\n",
       "      <th></th>\n",
       "      <th>Nombre</th>\n",
       "      <th>Apellido</th>\n",
       "      <th>Contraseña</th>\n",
       "      <th>Fecha</th>\n",
       "      <th>Nivel instrucción</th>\n",
       "    </tr>\n",
       "    <tr>\n",
       "      <th>CI</th>\n",
       "      <th></th>\n",
       "      <th></th>\n",
       "      <th></th>\n",
       "      <th></th>\n",
       "      <th></th>\n",
       "    </tr>\n",
       "  </thead>\n",
       "  <tbody>\n",
       "    <tr>\n",
       "      <th>12</th>\n",
       "      <td>Daniel</td>\n",
       "      <td>Naranjo</td>\n",
       "      <td>11234567</td>\n",
       "      <td>2000-01-01</td>\n",
       "      <td>2</td>\n",
       "    </tr>\n",
       "  </tbody>\n",
       "</table>\n",
       "</div>"
      ],
      "text/plain": [
       "    Nombre Apellido Contraseña      Fecha Nivel instrucción\n",
       "CI                                                         \n",
       "12  Daniel  Naranjo   11234567 2000-01-01                 2"
      ]
     },
     "execution_count": 6,
     "metadata": {},
     "output_type": "execute_result"
    }
   ],
   "source": [
    "nueva_fila = {'Nombre': n, 'Apellido': a, 'Contraseña': c, 'Fecha': f, 'Nivel instrucción': ne, 'CI': ci}\n",
    "nueva_fila = pd.Series(nueva_fila)\n",
    "nueva_fila = pd.DataFrame(nueva_fila)\n",
    "nueva_fila = nueva_fila.T\n",
    "nueva_fila = nueva_fila.set_index('CI')\n",
    "nueva_fila"
   ]
  },
  {
   "cell_type": "code",
   "execution_count": 7,
   "id": "5caf3f26",
   "metadata": {
    "scrolled": true
   },
   "outputs": [
    {
     "data": {
      "text/html": [
       "<div>\n",
       "<style scoped>\n",
       "    .dataframe tbody tr th:only-of-type {\n",
       "        vertical-align: middle;\n",
       "    }\n",
       "\n",
       "    .dataframe tbody tr th {\n",
       "        vertical-align: top;\n",
       "    }\n",
       "\n",
       "    .dataframe thead th {\n",
       "        text-align: right;\n",
       "    }\n",
       "</style>\n",
       "<table border=\"1\" class=\"dataframe\">\n",
       "  <thead>\n",
       "    <tr style=\"text-align: right;\">\n",
       "      <th></th>\n",
       "      <th>Nombre</th>\n",
       "      <th>Apellido</th>\n",
       "      <th>Contraseña</th>\n",
       "      <th>Fecha</th>\n",
       "      <th>Nivel instrucción</th>\n",
       "    </tr>\n",
       "    <tr>\n",
       "      <th>CI</th>\n",
       "      <th></th>\n",
       "      <th></th>\n",
       "      <th></th>\n",
       "      <th></th>\n",
       "      <th></th>\n",
       "    </tr>\n",
       "  </thead>\n",
       "  <tbody>\n",
       "    <tr>\n",
       "      <th>170000000000</th>\n",
       "      <td>Daniel Naranjo</td>\n",
       "      <td>Naranjo</td>\n",
       "      <td>1233</td>\n",
       "      <td>2000-01-01 00:00:00</td>\n",
       "      <td>2</td>\n",
       "    </tr>\n",
       "    <tr>\n",
       "      <th>1800000000</th>\n",
       "      <td>José</td>\n",
       "      <td>Pérez</td>\n",
       "      <td>1234124</td>\n",
       "      <td>2000-01-01 00:00:00</td>\n",
       "      <td>2</td>\n",
       "    </tr>\n",
       "    <tr>\n",
       "      <th>12</th>\n",
       "      <td>Daniel</td>\n",
       "      <td>Naranjo</td>\n",
       "      <td>11234567</td>\n",
       "      <td>2000-01-01 00:00:00</td>\n",
       "      <td>2</td>\n",
       "    </tr>\n",
       "  </tbody>\n",
       "</table>\n",
       "</div>"
      ],
      "text/plain": [
       "                      Nombre Apellido Contraseña                Fecha  \\\n",
       "CI                                                                      \n",
       "170000000000  Daniel Naranjo  Naranjo       1233  2000-01-01 00:00:00   \n",
       "1800000000              José    Pérez    1234124  2000-01-01 00:00:00   \n",
       "12                    Daniel  Naranjo   11234567  2000-01-01 00:00:00   \n",
       "\n",
       "             Nivel instrucción  \n",
       "CI                              \n",
       "170000000000                 2  \n",
       "1800000000                   2  \n",
       "12                           2  "
      ]
     },
     "execution_count": 7,
     "metadata": {},
     "output_type": "execute_result"
    }
   ],
   "source": [
    "base = pd.concat([base, nueva_fila])\n",
    "base = base.loc[~base.index.duplicated(keep='last')].copy()\n",
    "base"
   ]
  },
  {
   "cell_type": "code",
   "execution_count": 8,
   "id": "1ee44cf6",
   "metadata": {},
   "outputs": [],
   "source": [
    "base.to_csv(nombre)"
   ]
  },
  {
   "cell_type": "code",
   "execution_count": null,
   "id": "8889273b",
   "metadata": {},
   "outputs": [],
   "source": []
  }
 ],
 "metadata": {
  "kernelspec": {
   "display_name": "Python 3 (ipykernel)",
   "language": "python",
   "name": "python3"
  },
  "language_info": {
   "codemirror_mode": {
    "name": "ipython",
    "version": 3
   },
   "file_extension": ".py",
   "mimetype": "text/x-python",
   "name": "python",
   "nbconvert_exporter": "python",
   "pygments_lexer": "ipython3",
   "version": "3.9.7"
  }
 },
 "nbformat": 4,
 "nbformat_minor": 5
}
