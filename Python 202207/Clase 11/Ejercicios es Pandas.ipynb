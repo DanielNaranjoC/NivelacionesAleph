{
 "cells": [
  {
   "cell_type": "markdown",
   "id": "ebf838e5",
   "metadata": {},
   "source": [
    "# Ejercicios\n",
    "\n",
    "###### Leer una lista de números desde un archivo y decir cuáles son primos y cuáles no"
   ]
  },
  {
   "cell_type": "code",
   "execution_count": 1,
   "id": "4f843dfa",
   "metadata": {},
   "outputs": [],
   "source": [
    "def EsPrimo(n):\n",
    "    if n < 2 or n % 1 != 0:\n",
    "        return False\n",
    "    primo = True\n",
    "    for i in range(2, n):\n",
    "        if n % i == 0:\n",
    "            primo = False\n",
    "            break\n",
    "    return primo"
   ]
  },
  {
   "cell_type": "code",
   "execution_count": 2,
   "id": "b9867a21",
   "metadata": {},
   "outputs": [
    {
     "name": "stdout",
     "output_type": "stream",
     "text": [
      "2 es primo.\n",
      "3 es primo.\n",
      "4 no es primo.\n",
      "5 es primo.\n",
      "6 no es primo.\n",
      "7 es primo.\n",
      "9 no es primo.\n",
      "23 es primo.\n",
      "32 no es primo.\n",
      "34 no es primo.\n",
      "67 es primo.\n",
      "78 no es primo.\n"
     ]
    }
   ],
   "source": [
    "import pandas as pd\n",
    "datos = pd.read_csv('numeros.txt', header=None)[0]\n",
    "for i in datos.sort_values().unique():\n",
    "    if EsPrimo(i):\n",
    "        print(i, 'es primo.')\n",
    "    else:\n",
    "        print(i, 'no es primo.')"
   ]
  },
  {
   "cell_type": "code",
   "execution_count": 3,
   "id": "54461cb0",
   "metadata": {},
   "outputs": [
    {
     "name": "stdout",
     "output_type": "stream",
     "text": [
      "Los primos son: 2, 3, 5, 7, 23, 67 .\n",
      "Los no primos son: 4, 6, 9, 32, 34, 78 .\n"
     ]
    }
   ],
   "source": [
    "datos = pd.read_csv('numeros.txt', header=None)[0]\n",
    "primos = []\n",
    "no_primos = []\n",
    "for i in datos.sort_values().unique():\n",
    "    if EsPrimo(i):\n",
    "        primos.append(i)\n",
    "    else:\n",
    "        no_primos.append(i)\n",
    "print('Los primos son:', ', '.join([str(i) for i in primos]),'.')\n",
    "print('Los no primos son:', ', '.join([str(i) for i in no_primos]),'.')"
   ]
  }
 ],
 "metadata": {
  "kernelspec": {
   "display_name": "Python 3 (ipykernel)",
   "language": "python",
   "name": "python3"
  },
  "language_info": {
   "codemirror_mode": {
    "name": "ipython",
    "version": 3
   },
   "file_extension": ".py",
   "mimetype": "text/x-python",
   "name": "python",
   "nbconvert_exporter": "python",
   "pygments_lexer": "ipython3",
   "version": "3.9.7"
  }
 },
 "nbformat": 4,
 "nbformat_minor": 5
}
