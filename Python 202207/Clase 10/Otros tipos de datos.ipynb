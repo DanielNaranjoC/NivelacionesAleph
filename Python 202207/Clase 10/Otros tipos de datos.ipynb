{
 "cells": [
  {
   "cell_type": "markdown",
   "id": "7ecabd7a",
   "metadata": {},
   "source": [
    "## Otros tipos de datos\n",
    "\n",
    "### None"
   ]
  },
  {
   "cell_type": "code",
   "execution_count": 1,
   "id": "655be22a",
   "metadata": {},
   "outputs": [
    {
     "name": "stdout",
     "output_type": "stream",
     "text": [
      "sdfnskfd\n",
      "None\n"
     ]
    }
   ],
   "source": [
    "def fun_vacia():\n",
    "    print('sdfnskfd')\n",
    "x = fun_vacia()\n",
    "print(x)"
   ]
  },
  {
   "cell_type": "code",
   "execution_count": 2,
   "id": "c17b0732",
   "metadata": {},
   "outputs": [
    {
     "data": {
      "text/plain": [
       "True"
      ]
     },
     "execution_count": 2,
     "metadata": {},
     "output_type": "execute_result"
    }
   ],
   "source": [
    "None == None"
   ]
  },
  {
   "cell_type": "code",
   "execution_count": 3,
   "id": "e5cfebc9",
   "metadata": {},
   "outputs": [
    {
     "name": "stdout",
     "output_type": "stream",
     "text": [
      "True\n"
     ]
    }
   ],
   "source": [
    "print(x == None)"
   ]
  },
  {
   "cell_type": "code",
   "execution_count": 4,
   "id": "ee253955",
   "metadata": {},
   "outputs": [
    {
     "data": {
      "text/plain": [
       "True"
      ]
     },
     "execution_count": 4,
     "metadata": {},
     "output_type": "execute_result"
    }
   ],
   "source": [
    "x is None"
   ]
  },
  {
   "cell_type": "code",
   "execution_count": 5,
   "id": "18303555",
   "metadata": {},
   "outputs": [
    {
     "name": "stdout",
     "output_type": "stream",
     "text": [
      "Falso\n",
      "Verdadero\n",
      "Verdadero\n",
      "Falso\n",
      "Verdadero\n",
      "Falso\n"
     ]
    }
   ],
   "source": [
    "if 0.0:\n",
    "    print('Verdadero')\n",
    "else:\n",
    "    print('Falso')\n",
    "if 445:\n",
    "    print('Verdadero')\n",
    "else:\n",
    "    print('Falso')\n",
    "if [12,3]:\n",
    "    print('Verdadero')\n",
    "else:\n",
    "    print('Falso')\n",
    "if []:\n",
    "    print('Verdadero')\n",
    "else:\n",
    "    print('Falso')\n",
    "if 'asfsdf':\n",
    "    print('Verdadero')\n",
    "else:\n",
    "    print('Falso')\n",
    "if '':\n",
    "    print('Verdadero')\n",
    "else:\n",
    "    print('Falso')"
   ]
  },
  {
   "cell_type": "code",
   "execution_count": 6,
   "id": "fd5e79bd",
   "metadata": {},
   "outputs": [
    {
     "name": "stdout",
     "output_type": "stream",
     "text": [
      "Falso\n"
     ]
    }
   ],
   "source": [
    "if None:\n",
    "    print('verdadero')\n",
    "else:\n",
    "    print('Falso')"
   ]
  },
  {
   "cell_type": "code",
   "execution_count": 7,
   "id": "84744a42",
   "metadata": {},
   "outputs": [
    {
     "data": {
      "text/plain": [
       "729"
      ]
     },
     "execution_count": 7,
     "metadata": {},
     "output_type": "execute_result"
    }
   ],
   "source": [
    "def func(x, y=None):\n",
    "    if y is None:\n",
    "        y = 2*x\n",
    "    return x**y\n",
    "func(3)"
   ]
  },
  {
   "cell_type": "markdown",
   "id": "cea057da",
   "metadata": {},
   "source": [
    "### Diccionarios"
   ]
  },
  {
   "cell_type": "code",
   "execution_count": 8,
   "id": "8dc6812e",
   "metadata": {},
   "outputs": [
    {
     "name": "stdout",
     "output_type": "stream",
     "text": [
      "12\n",
      "19\n"
     ]
    }
   ],
   "source": [
    "edades = {'Juan': 12, 'María': 17, 'José': 19}\n",
    "print(edades['Juan'])\n",
    "print(edades['José'])"
   ]
  },
  {
   "cell_type": "code",
   "execution_count": 9,
   "id": "85843948",
   "metadata": {},
   "outputs": [
    {
     "ename": "KeyError",
     "evalue": "'SinClave'",
     "output_type": "error",
     "traceback": [
      "\u001b[1;31m---------------------------------------------------------------------------\u001b[0m",
      "\u001b[1;31mKeyError\u001b[0m                                  Traceback (most recent call last)",
      "\u001b[1;32m~\\AppData\\Local\\Temp/ipykernel_12612/2147744393.py\u001b[0m in \u001b[0;36m<module>\u001b[1;34m\u001b[0m\n\u001b[1;32m----> 1\u001b[1;33m \u001b[0mprint\u001b[0m\u001b[1;33m(\u001b[0m\u001b[0medades\u001b[0m\u001b[1;33m[\u001b[0m\u001b[1;34m'SinClave'\u001b[0m\u001b[1;33m]\u001b[0m\u001b[1;33m)\u001b[0m\u001b[1;33m\u001b[0m\u001b[1;33m\u001b[0m\u001b[0m\n\u001b[0m",
      "\u001b[1;31mKeyError\u001b[0m: 'SinClave'"
     ]
    }
   ],
   "source": [
    "print(edades['SinClave'])"
   ]
  },
  {
   "cell_type": "code",
   "execution_count": 10,
   "id": "24d6cccf",
   "metadata": {},
   "outputs": [
    {
     "ename": "TypeError",
     "evalue": "unhashable type: 'list'",
     "output_type": "error",
     "traceback": [
      "\u001b[1;31m---------------------------------------------------------------------------\u001b[0m",
      "\u001b[1;31mTypeError\u001b[0m                                 Traceback (most recent call last)",
      "\u001b[1;32m~\\AppData\\Local\\Temp/ipykernel_12612/2325621106.py\u001b[0m in \u001b[0;36m<module>\u001b[1;34m\u001b[0m\n\u001b[1;32m----> 1\u001b[1;33m \u001b[0mdict_f\u001b[0m \u001b[1;33m=\u001b[0m \u001b[1;33m{\u001b[0m\u001b[1;33m[\u001b[0m\u001b[1;36m1\u001b[0m\u001b[1;33m,\u001b[0m\u001b[1;36m2\u001b[0m\u001b[1;33m]\u001b[0m\u001b[1;33m:\u001b[0m \u001b[1;36m9\u001b[0m\u001b[1;33m}\u001b[0m\u001b[1;33m\u001b[0m\u001b[1;33m\u001b[0m\u001b[0m\n\u001b[0m",
      "\u001b[1;31mTypeError\u001b[0m: unhashable type: 'list'"
     ]
    }
   ],
   "source": [
    "dict_f = {[1,2]: 9}"
   ]
  },
  {
   "cell_type": "markdown",
   "id": "7a575245",
   "metadata": {},
   "source": [
    "#### Funciones con diccionarios"
   ]
  },
  {
   "cell_type": "code",
   "execution_count": 11,
   "id": "8c278df9",
   "metadata": {},
   "outputs": [
    {
     "name": "stdout",
     "output_type": "stream",
     "text": [
      "{1: 1, 2: 4, 3: 'error', 4: 16}\n",
      "{1: 1, 2: 4, 3: 'error', 4: 16, 5: 25}\n",
      "{1: 1, 2: 4, 3: 9, 4: 16, 5: 25}\n"
     ]
    }
   ],
   "source": [
    "cuadrados = {1: 1, 2: 4, 3: 'error', 4: 16}\n",
    "print(cuadrados)\n",
    "cuadrados[5] = 25\n",
    "print(cuadrados)\n",
    "cuadrados[3] = 9\n",
    "print(cuadrados)"
   ]
  },
  {
   "cell_type": "code",
   "execution_count": 12,
   "id": "226ab24f",
   "metadata": {},
   "outputs": [
    {
     "name": "stdout",
     "output_type": "stream",
     "text": [
      "True\n",
      "False\n",
      "False\n",
      "True\n",
      "True\n"
     ]
    }
   ],
   "source": [
    "print(1 in cuadrados)\n",
    "print(6 in cuadrados)\n",
    "print(16 in cuadrados)\n",
    "print(16 not in cuadrados)\n",
    "print(not 16 in cuadrados)"
   ]
  },
  {
   "cell_type": "code",
   "execution_count": 13,
   "id": "2c72ad61",
   "metadata": {},
   "outputs": [
    {
     "ename": "KeyError",
     "evalue": "6",
     "output_type": "error",
     "traceback": [
      "\u001b[1;31m---------------------------------------------------------------------------\u001b[0m",
      "\u001b[1;31mKeyError\u001b[0m                                  Traceback (most recent call last)",
      "\u001b[1;32m~\\AppData\\Local\\Temp/ipykernel_12612/1989584252.py\u001b[0m in \u001b[0;36m<module>\u001b[1;34m\u001b[0m\n\u001b[0;32m      1\u001b[0m \u001b[0mkey\u001b[0m \u001b[1;33m=\u001b[0m \u001b[1;36m6\u001b[0m\u001b[1;33m\u001b[0m\u001b[1;33m\u001b[0m\u001b[0m\n\u001b[1;32m----> 2\u001b[1;33m \u001b[0mprint\u001b[0m\u001b[1;33m(\u001b[0m\u001b[0mcuadrados\u001b[0m\u001b[1;33m[\u001b[0m\u001b[0mkey\u001b[0m\u001b[1;33m]\u001b[0m\u001b[1;33m)\u001b[0m\u001b[1;33m\u001b[0m\u001b[1;33m\u001b[0m\u001b[0m\n\u001b[0m",
      "\u001b[1;31mKeyError\u001b[0m: 6"
     ]
    }
   ],
   "source": [
    "key = 6\n",
    "print(cuadrados[key])"
   ]
  },
  {
   "cell_type": "code",
   "execution_count": 14,
   "id": "a675ba8d",
   "metadata": {},
   "outputs": [],
   "source": [
    "key = 6\n",
    "if key in cuadrados:\n",
    "    print(key)"
   ]
  },
  {
   "cell_type": "code",
   "execution_count": 15,
   "id": "3fe644c8",
   "metadata": {},
   "outputs": [
    {
     "name": "stdout",
     "output_type": "stream",
     "text": [
      "None\n"
     ]
    }
   ],
   "source": [
    "print(cuadrados.get(6))"
   ]
  },
  {
   "cell_type": "code",
   "execution_count": 16,
   "id": "5e607816",
   "metadata": {},
   "outputs": [
    {
     "name": "stdout",
     "output_type": "stream",
     "text": [
      "dict_keys([1, 2, 3, 4, 5])\n"
     ]
    }
   ],
   "source": [
    "print(cuadrados.keys())"
   ]
  },
  {
   "cell_type": "code",
   "execution_count": 17,
   "id": "bb9b4f8f",
   "metadata": {},
   "outputs": [
    {
     "name": "stdout",
     "output_type": "stream",
     "text": [
      "[1, 2, 3, 4, 5]\n"
     ]
    }
   ],
   "source": [
    "print(list(cuadrados.keys()))"
   ]
  },
  {
   "cell_type": "code",
   "execution_count": 18,
   "id": "b7c40700",
   "metadata": {},
   "outputs": [],
   "source": [
    "dict_mix = {'1313': 12313,\n",
    "           '3ff': 'ldknwkjnkjw',\n",
    "           433: None,\n",
    "           1231: range(4),\n",
    "           '9886': [12,4,435,345],\n",
    "           '87686': {1:3, 2: 4}}"
   ]
  },
  {
   "cell_type": "code",
   "execution_count": 19,
   "id": "e274bf7e",
   "metadata": {},
   "outputs": [
    {
     "name": "stdout",
     "output_type": "stream",
     "text": [
      "[12313, 'ldknwkjnkjw', None, range(0, 4), [12, 4, 435, 345], {1: 3, 2: 4}]\n"
     ]
    }
   ],
   "source": [
    "print(list(dict_mix.values()))"
   ]
  },
  {
   "cell_type": "markdown",
   "id": "17728910",
   "metadata": {},
   "source": [
    "### Tuplas"
   ]
  },
  {
   "cell_type": "code",
   "execution_count": 20,
   "id": "1561f752",
   "metadata": {},
   "outputs": [
    {
     "name": "stdout",
     "output_type": "stream",
     "text": [
      "(1, 2, 3)\n",
      "('3212', 1, '42342')\n"
     ]
    }
   ],
   "source": [
    "x = (1,2,3)\n",
    "y = ('3212', 1, '42342')\n",
    "print(x)\n",
    "print(y)"
   ]
  },
  {
   "cell_type": "code",
   "execution_count": 21,
   "id": "5893b17f",
   "metadata": {},
   "outputs": [],
   "source": [
    "x = ({1: 7, 2: 2}, 3, 4)"
   ]
  },
  {
   "cell_type": "code",
   "execution_count": 22,
   "id": "5f68753a",
   "metadata": {},
   "outputs": [
    {
     "ename": "TypeError",
     "evalue": "'tuple' object does not support item assignment",
     "output_type": "error",
     "traceback": [
      "\u001b[1;31m---------------------------------------------------------------------------\u001b[0m",
      "\u001b[1;31mTypeError\u001b[0m                                 Traceback (most recent call last)",
      "\u001b[1;32m~\\AppData\\Local\\Temp/ipykernel_12612/3903581659.py\u001b[0m in \u001b[0;36m<module>\u001b[1;34m\u001b[0m\n\u001b[1;32m----> 1\u001b[1;33m \u001b[0mx\u001b[0m\u001b[1;33m[\u001b[0m\u001b[1;36m0\u001b[0m\u001b[1;33m]\u001b[0m \u001b[1;33m=\u001b[0m \u001b[1;36m5\u001b[0m\u001b[1;33m\u001b[0m\u001b[1;33m\u001b[0m\u001b[0m\n\u001b[0m",
      "\u001b[1;31mTypeError\u001b[0m: 'tuple' object does not support item assignment"
     ]
    }
   ],
   "source": [
    "x[0] = 5"
   ]
  },
  {
   "cell_type": "code",
   "execution_count": 23,
   "id": "ed76e949",
   "metadata": {},
   "outputs": [
    {
     "name": "stdout",
     "output_type": "stream",
     "text": [
      "(1, 2, 3)\n"
     ]
    }
   ],
   "source": [
    "x = 1, 2, 3\n",
    "print(x)"
   ]
  },
  {
   "cell_type": "code",
   "execution_count": 24,
   "id": "b3303edc",
   "metadata": {},
   "outputs": [
    {
     "name": "stdout",
     "output_type": "stream",
     "text": [
      "{(1, 2): 6, (1, 3): 7}\n"
     ]
    }
   ],
   "source": [
    "y = {(1,2):6, (1,3): 7}\n",
    "print(y)"
   ]
  },
  {
   "cell_type": "markdown",
   "id": "114d4571",
   "metadata": {},
   "source": [
    "### Listas por comprensión"
   ]
  },
  {
   "cell_type": "code",
   "execution_count": 25,
   "id": "4c657c6e",
   "metadata": {},
   "outputs": [
    {
     "name": "stdout",
     "output_type": "stream",
     "text": [
      "[8, 27, 64, 125, 216, 343, 512, 729]\n"
     ]
    }
   ],
   "source": [
    "lista = []\n",
    "for i in range(2, 10):\n",
    "    lista.append(i**3)\n",
    "print(lista)"
   ]
  },
  {
   "cell_type": "code",
   "execution_count": 26,
   "id": "a3b15200",
   "metadata": {},
   "outputs": [
    {
     "name": "stdout",
     "output_type": "stream",
     "text": [
      "[8, 27, 64, 125, 216, 343, 512, 729]\n"
     ]
    }
   ],
   "source": [
    "lista = [i**3 for i in range(2, 10)]\n",
    "print(lista)"
   ]
  },
  {
   "cell_type": "code",
   "execution_count": 27,
   "id": "586c5ec6",
   "metadata": {},
   "outputs": [
    {
     "name": "stdout",
     "output_type": "stream",
     "text": [
      "[0, 1, 4, 9, 16, 25, 36, 49, 64, 81, 100, 121, 144, 169, 196, 225, 256, 289, 324, 361, 400, 441, 484, 529, 576, 625, 676, 729, 784, 841]\n"
     ]
    }
   ],
   "source": [
    "lista = [i**2 for i in range(30)]\n",
    "print(lista)"
   ]
  },
  {
   "cell_type": "code",
   "execution_count": null,
   "id": "927c10fc",
   "metadata": {},
   "outputs": [
    {
     "ename": "KeyboardInterrupt",
     "evalue": "",
     "output_type": "error",
     "traceback": [
      "\u001b[1;31m---------------------------------------------------------------------------\u001b[0m",
      "\u001b[1;31mKeyboardInterrupt\u001b[0m                         Traceback (most recent call last)",
      "\u001b[1;32m~\\AppData\\Local\\Temp/ipykernel_12612/3760966895.py\u001b[0m in \u001b[0;36m<module>\u001b[1;34m\u001b[0m\n\u001b[1;32m----> 1\u001b[1;33m \u001b[0mlista\u001b[0m \u001b[1;33m=\u001b[0m \u001b[1;33m[\u001b[0m\u001b[0mi\u001b[0m\u001b[1;33m**\u001b[0m\u001b[1;36m2\u001b[0m \u001b[1;32mfor\u001b[0m \u001b[0mi\u001b[0m \u001b[1;32min\u001b[0m \u001b[0mrange\u001b[0m\u001b[1;33m(\u001b[0m\u001b[1;36m10\u001b[0m\u001b[1;33m**\u001b[0m\u001b[1;36m100\u001b[0m\u001b[1;33m)\u001b[0m\u001b[1;33m]\u001b[0m\u001b[1;33m\u001b[0m\u001b[1;33m\u001b[0m\u001b[0m\n\u001b[0m",
      "\u001b[1;32m~\\AppData\\Local\\Temp/ipykernel_12612/3760966895.py\u001b[0m in \u001b[0;36m<listcomp>\u001b[1;34m(.0)\u001b[0m\n\u001b[1;32m----> 1\u001b[1;33m \u001b[0mlista\u001b[0m \u001b[1;33m=\u001b[0m \u001b[1;33m[\u001b[0m\u001b[0mi\u001b[0m\u001b[1;33m**\u001b[0m\u001b[1;36m2\u001b[0m \u001b[1;32mfor\u001b[0m \u001b[0mi\u001b[0m \u001b[1;32min\u001b[0m \u001b[0mrange\u001b[0m\u001b[1;33m(\u001b[0m\u001b[1;36m10\u001b[0m\u001b[1;33m**\u001b[0m\u001b[1;36m100\u001b[0m\u001b[1;33m)\u001b[0m\u001b[1;33m]\u001b[0m\u001b[1;33m\u001b[0m\u001b[1;33m\u001b[0m\u001b[0m\n\u001b[0m",
      "\u001b[1;31mKeyboardInterrupt\u001b[0m: "
     ]
    }
   ],
   "source": [
    "lista = [i**2 for i in range(10**100)]"
   ]
  },
  {
   "cell_type": "code",
   "execution_count": 30,
   "id": "b452d35f",
   "metadata": {},
   "outputs": [
    {
     "name": "stdout",
     "output_type": "stream",
     "text": [
      "[0, 36, 144, 324, 576]\n"
     ]
    }
   ],
   "source": [
    "lista = [i**2 for i in range(30) if i%6 == 0]\n",
    "print(lista)"
   ]
  },
  {
   "cell_type": "markdown",
   "id": "9af5a7f3",
   "metadata": {},
   "source": [
    "#### Diccionario por comprensión"
   ]
  },
  {
   "cell_type": "code",
   "execution_count": 31,
   "id": "1dd36cf9",
   "metadata": {},
   "outputs": [
    {
     "name": "stdout",
     "output_type": "stream",
     "text": [
      "{0: 0, 1: 1, 2: 4, 3: 9, 4: 16, 5: 25, 6: 36, 7: 49, 8: 64, 9: 81}\n"
     ]
    }
   ],
   "source": [
    "ditc_c = {i: i**2 for i in range(10)}\n",
    "print(ditc_c)"
   ]
  },
  {
   "cell_type": "markdown",
   "id": "258efe7a",
   "metadata": {},
   "source": [
    "## Ejercicios"
   ]
  },
  {
   "cell_type": "markdown",
   "id": "9c2cf4a2",
   "metadata": {},
   "source": [
    "Crear una función que genere una lista de números primos menores o iguales a uno ingresado"
   ]
  },
  {
   "cell_type": "code",
   "execution_count": 32,
   "id": "3811e890",
   "metadata": {},
   "outputs": [],
   "source": [
    "def EsPrimo(n):\n",
    "    if n<2:\n",
    "        return False\n",
    "    for i in range(2, n):\n",
    "        if n % i == 0:\n",
    "            return False\n",
    "    return True"
   ]
  },
  {
   "cell_type": "code",
   "execution_count": 33,
   "id": "8f978e38",
   "metadata": {},
   "outputs": [
    {
     "name": "stdout",
     "output_type": "stream",
     "text": [
      "[2, 3, 5, 7, 11, 13, 17, 19, 23, 29]\n"
     ]
    }
   ],
   "source": [
    "def lista_p(n):\n",
    "    return [i for i in range(2, n+1) if EsPrimo(i)]\n",
    "print(lista_p(29))"
   ]
  },
  {
   "cell_type": "code",
   "execution_count": 34,
   "id": "0af261d1",
   "metadata": {},
   "outputs": [],
   "source": [
    "import os\n",
    "import sys"
   ]
  },
  {
   "cell_type": "code",
   "execution_count": 35,
   "id": "b7797d80",
   "metadata": {},
   "outputs": [
    {
     "data": {
      "text/plain": [
       "['C:\\\\Users\\\\Daniel\\\\Documents\\\\GitHub\\\\NivelacionesAleph\\\\Python 202207\\\\Clase 10',\n",
       " 'C:\\\\Users\\\\Daniel\\\\anaconda3\\\\python39.zip',\n",
       " 'C:\\\\Users\\\\Daniel\\\\anaconda3\\\\DLLs',\n",
       " 'C:\\\\Users\\\\Daniel\\\\anaconda3\\\\lib',\n",
       " 'C:\\\\Users\\\\Daniel\\\\anaconda3',\n",
       " '',\n",
       " 'C:\\\\Users\\\\Daniel\\\\anaconda3\\\\lib\\\\site-packages',\n",
       " 'C:\\\\Users\\\\Daniel\\\\anaconda3\\\\lib\\\\site-packages\\\\locket-0.2.1-py3.9.egg',\n",
       " 'C:\\\\Users\\\\Daniel\\\\anaconda3\\\\lib\\\\site-packages\\\\win32',\n",
       " 'C:\\\\Users\\\\Daniel\\\\anaconda3\\\\lib\\\\site-packages\\\\win32\\\\lib',\n",
       " 'C:\\\\Users\\\\Daniel\\\\anaconda3\\\\lib\\\\site-packages\\\\Pythonwin',\n",
       " 'C:\\\\Users\\\\Daniel\\\\anaconda3\\\\lib\\\\site-packages\\\\IPython\\\\extensions',\n",
       " 'C:\\\\Users\\\\Daniel\\\\.ipython']"
      ]
     },
     "execution_count": 35,
     "metadata": {},
     "output_type": "execute_result"
    }
   ],
   "source": [
    "sys.path"
   ]
  },
  {
   "cell_type": "code",
   "execution_count": 36,
   "id": "3c642387",
   "metadata": {},
   "outputs": [],
   "source": [
    "sys.path.append('C:\\\\Users\\\\Daniel\\\\Documents\\\\GitHub\\\\NivelacionesAleph\\\\Python 202207\\\\Clase 9')"
   ]
  },
  {
   "cell_type": "code",
   "execution_count": 37,
   "id": "7227ed40",
   "metadata": {},
   "outputs": [],
   "source": [
    "import Goldbach"
   ]
  },
  {
   "cell_type": "code",
   "execution_count": 38,
   "id": "9c0f0915",
   "metadata": {},
   "outputs": [
    {
     "name": "stdout",
     "output_type": "stream",
     "text": [
      "Help on module Goldbach:\n",
      "\n",
      "NAME\n",
      "    Goldbach - # coding: utf-8\n",
      "\n",
      "FUNCTIONS\n",
      "    Goldbach(lista, n)\n",
      "    \n",
      "    goldbach_debil(lista, n)\n",
      "    \n",
      "    goldbach_fuerte(lista, n)\n",
      "    \n",
      "    guardar(lista, nombre)\n",
      "    \n",
      "    leer_lista(nombre)\n",
      "    \n",
      "    list_primos(n)\n",
      "\n",
      "FILE\n",
      "    c:\\users\\daniel\\documents\\github\\nivelacionesaleph\\python 202207\\clase 9\\goldbach.py\n",
      "\n",
      "\n"
     ]
    }
   ],
   "source": [
    "help(Goldbach)"
   ]
  },
  {
   "cell_type": "code",
   "execution_count": 39,
   "id": "a072e212",
   "metadata": {},
   "outputs": [],
   "source": [
    "Goldbach.guardar(Goldbach.list_primos(20000), 'primos.txt')\n",
    "primos = Goldbach.leer_lista('primos.txt')"
   ]
  },
  {
   "cell_type": "code",
   "execution_count": 40,
   "id": "50f5fff5",
   "metadata": {},
   "outputs": [
    {
     "name": "stdout",
     "output_type": "stream",
     "text": [
      "{4: (2, 2), 6: (3, 3), 7: (2, 2, 3), 8: (3, 5), 9: (2, 2, 5), 10: (3, 7), 11: (2, 2, 7), 12: (5, 7), 13: (3, 3, 7), 14: (3, 11), 15: (2, 2, 11), 16: (3, 13), 17: (2, 2, 13), 18: (5, 13), 19: (3, 3, 13), 20: (3, 17)}\n",
      "4=2+2\n",
      "6=3+3\n",
      "7=2+2+3\n",
      "8=3+5\n",
      "9=2+2+5\n",
      "10=3+7\n",
      "11=2+2+7\n",
      "12=5+7\n",
      "13=3+3+7\n",
      "14=3+11\n",
      "15=2+2+11\n",
      "16=3+13\n",
      "17=2+2+13\n",
      "18=5+13\n",
      "19=3+3+13\n",
      "20=3+17\n"
     ]
    }
   ],
   "source": [
    "def goldbach_fuerte(lista, n):\n",
    "    for i in lista:\n",
    "        if i > n:\n",
    "            continue\n",
    "        for j in lista:\n",
    "            if j > n:\n",
    "                continue\n",
    "            if i + j == n:\n",
    "                return (i, j)\n",
    "def goldbach_debil(lista, n):\n",
    "    for i in lista:\n",
    "        if i > n:\n",
    "            continue\n",
    "        for j in lista:\n",
    "            if j > n:\n",
    "                continue\n",
    "            for k in lista:\n",
    "                if k > n:\n",
    "                    continue\n",
    "                if i + j + k == n:\n",
    "                    return (i, j, k)\n",
    "\n",
    "def Goldbach(lista, n):\n",
    "    if n % 2 == 0 and n > 2:\n",
    "        return goldbach_fuerte(lista, n)\n",
    "    elif n % 2 == 1 and n > 5:\n",
    "        return goldbach_debil(lista, n)\n",
    "def Goldbach_f(lista, n):\n",
    "    aux = {i: Goldbach(lista, i) for i in range(4, n+1)}\n",
    "    return {i: aux[i] for i in aux.keys() if aux[i] is not None}\n",
    "g_l = Goldbach_f(primos, 20)\n",
    "print(g_l)\n",
    "for i in g_l:\n",
    "    print(i, '=', end='', sep='')\n",
    "    for j in range(len(g_l[i])):\n",
    "        print(g_l[i][j], end='')\n",
    "        if j != len(g_l[i]) - 1:\n",
    "            print('+', end='')\n",
    "    print()"
   ]
  },
  {
   "cell_type": "markdown",
   "id": "51bd4d5a",
   "metadata": {},
   "source": [
    "### Conjuntos"
   ]
  },
  {
   "cell_type": "code",
   "execution_count": 41,
   "id": "158ce2c4",
   "metadata": {},
   "outputs": [
    {
     "name": "stdout",
     "output_type": "stream",
     "text": [
      "{1, 2, 3, 4}\n",
      "{1, 2, 3, 4}\n"
     ]
    }
   ],
   "source": [
    "x = {1,2,3,4}\n",
    "y = set(range(1, 5))\n",
    "print(x)\n",
    "print(y)"
   ]
  },
  {
   "cell_type": "code",
   "execution_count": 42,
   "id": "8f85ca59",
   "metadata": {},
   "outputs": [
    {
     "name": "stdout",
     "output_type": "stream",
     "text": [
      "{False, 1, 2, (1, 2), 'klbjb', None}\n"
     ]
    }
   ],
   "source": [
    "a = {1, 2, True, 'klbjb', (1,2), False, None}\n",
    "print(a)"
   ]
  },
  {
   "cell_type": "code",
   "execution_count": 43,
   "id": "d7c39be4",
   "metadata": {},
   "outputs": [
    {
     "data": {
      "text/plain": [
       "True"
      ]
     },
     "execution_count": 43,
     "metadata": {},
     "output_type": "execute_result"
    }
   ],
   "source": [
    "True in a"
   ]
  },
  {
   "cell_type": "code",
   "execution_count": 44,
   "id": "81e2b0bf",
   "metadata": {},
   "outputs": [
    {
     "ename": "TypeError",
     "evalue": "unhashable type: 'list'",
     "output_type": "error",
     "traceback": [
      "\u001b[1;31m---------------------------------------------------------------------------\u001b[0m",
      "\u001b[1;31mTypeError\u001b[0m                                 Traceback (most recent call last)",
      "\u001b[1;32m~\\AppData\\Local\\Temp/ipykernel_12612/1368458199.py\u001b[0m in \u001b[0;36m<module>\u001b[1;34m\u001b[0m\n\u001b[1;32m----> 1\u001b[1;33m \u001b[0ms\u001b[0m \u001b[1;33m=\u001b[0m \u001b[1;33m{\u001b[0m\u001b[1;33m[\u001b[0m\u001b[1;36m1\u001b[0m\u001b[1;33m,\u001b[0m\u001b[1;36m2\u001b[0m\u001b[1;33m]\u001b[0m\u001b[1;33m}\u001b[0m\u001b[1;33m\u001b[0m\u001b[1;33m\u001b[0m\u001b[0m\n\u001b[0m",
      "\u001b[1;31mTypeError\u001b[0m: unhashable type: 'list'"
     ]
    }
   ],
   "source": [
    "s = {[1,2]}"
   ]
  },
  {
   "cell_type": "code",
   "execution_count": 45,
   "id": "e6f109be",
   "metadata": {},
   "outputs": [
    {
     "name": "stdout",
     "output_type": "stream",
     "text": [
      "set()\n",
      "{}\n"
     ]
    }
   ],
   "source": [
    "print(set())\n",
    "print(dict())"
   ]
  },
  {
   "cell_type": "code",
   "execution_count": 46,
   "id": "081ab204",
   "metadata": {},
   "outputs": [
    {
     "ename": "TypeError",
     "evalue": "'int' object is not iterable",
     "output_type": "error",
     "traceback": [
      "\u001b[1;31m---------------------------------------------------------------------------\u001b[0m",
      "\u001b[1;31mTypeError\u001b[0m                                 Traceback (most recent call last)",
      "\u001b[1;32m~\\AppData\\Local\\Temp/ipykernel_12612/2363595463.py\u001b[0m in \u001b[0;36m<module>\u001b[1;34m\u001b[0m\n\u001b[1;32m----> 1\u001b[1;33m \u001b[0mset\u001b[0m\u001b[1;33m(\u001b[0m\u001b[1;36m1\u001b[0m\u001b[1;33m)\u001b[0m\u001b[1;33m\u001b[0m\u001b[1;33m\u001b[0m\u001b[0m\n\u001b[0m",
      "\u001b[1;31mTypeError\u001b[0m: 'int' object is not iterable"
     ]
    }
   ],
   "source": [
    "set(1)"
   ]
  },
  {
   "cell_type": "code",
   "execution_count": 47,
   "id": "ca2f2da0",
   "metadata": {},
   "outputs": [
    {
     "data": {
      "text/plain": [
       "{'a', 'f', 's'}"
      ]
     },
     "execution_count": 47,
     "metadata": {},
     "output_type": "execute_result"
    }
   ],
   "source": [
    "set('safasfasf')"
   ]
  },
  {
   "cell_type": "code",
   "execution_count": 48,
   "id": "f408ddf4",
   "metadata": {},
   "outputs": [
    {
     "name": "stdout",
     "output_type": "stream",
     "text": [
      "[1, 2, 6, 1, 3, 6, 3, 5, 6, 6, 4, 4, 6, 77]\n",
      "[1, 2, 3, 4, 5, 6, 77]\n"
     ]
    }
   ],
   "source": [
    "x = [1,2,6,1,3,6,3,5,6,6,4,4,6,77]\n",
    "print(x)\n",
    "x = list(set(x))\n",
    "print(x)"
   ]
  },
  {
   "cell_type": "code",
   "execution_count": 49,
   "id": "5d31cd8d",
   "metadata": {},
   "outputs": [
    {
     "name": "stdout",
     "output_type": "stream",
     "text": [
      "{1, 2, 3, 4, 5, 6, 77}\n",
      "{1, 2, 3, 4, 5, 6, 11, 77}\n"
     ]
    }
   ],
   "source": [
    "x = set(x)\n",
    "print(x)\n",
    "x.add(11)\n",
    "x.add(1)\n",
    "print(x)"
   ]
  },
  {
   "cell_type": "code",
   "execution_count": 50,
   "id": "ba14f6b8",
   "metadata": {},
   "outputs": [
    {
     "name": "stdout",
     "output_type": "stream",
     "text": [
      "{0, 1, 2, 3, 4, 5, 6, 7, 8, 9}\n",
      "{0, 1, 2, 3, 4, 5, 6, 8, 9}\n",
      "{0, 1, 2, 3, 4, 5, 6, 8, 9}\n"
     ]
    }
   ],
   "source": [
    "x = set(range(10))\n",
    "print(x)\n",
    "x.discard(7)\n",
    "print(x)\n",
    "x.discard(7)\n",
    "print(x)"
   ]
  },
  {
   "cell_type": "code",
   "execution_count": null,
   "id": "fa5ec8a3",
   "metadata": {},
   "outputs": [],
   "source": []
  }
 ],
 "metadata": {
  "kernelspec": {
   "display_name": "Python 3 (ipykernel)",
   "language": "python",
   "name": "python3"
  },
  "language_info": {
   "codemirror_mode": {
    "name": "ipython",
    "version": 3
   },
   "file_extension": ".py",
   "mimetype": "text/x-python",
   "name": "python",
   "nbconvert_exporter": "python",
   "pygments_lexer": "ipython3",
   "version": "3.9.7"
  }
 },
 "nbformat": 4,
 "nbformat_minor": 5
}
