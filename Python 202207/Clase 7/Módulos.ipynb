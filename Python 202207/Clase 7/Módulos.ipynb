{
 "cells": [
  {
   "cell_type": "markdown",
   "id": "d4b6960b",
   "metadata": {},
   "source": [
    "## Importar\n",
    "\n",
    "Todo el módulo\n",
    "\n",
    "```python\n",
    "import nombre\n",
    "```"
   ]
  },
  {
   "cell_type": "markdown",
   "id": "981eb395",
   "metadata": {},
   "source": [
    "### Números aleatorios"
   ]
  },
  {
   "cell_type": "code",
   "execution_count": 1,
   "id": "3f6d3f5b",
   "metadata": {},
   "outputs": [
    {
     "name": "stdout",
     "output_type": "stream",
     "text": [
      "<module 'random' from 'C:\\\\Users\\\\Daniel\\\\anaconda3\\\\lib\\\\random.py'>\n"
     ]
    }
   ],
   "source": [
    "import random\n",
    "print(random)"
   ]
  },
  {
   "cell_type": "code",
   "execution_count": 2,
   "id": "2c30273a",
   "metadata": {},
   "outputs": [
    {
     "name": "stdout",
     "output_type": "stream",
     "text": [
      "10\n",
      "7\n",
      "7\n",
      "5\n",
      "7\n"
     ]
    }
   ],
   "source": [
    "for i in range(5):\n",
    "    print(random.randint(5, 10))"
   ]
  },
  {
   "cell_type": "markdown",
   "id": "6870237a",
   "metadata": {},
   "source": [
    "Importar un elemento específico\n",
    "\n",
    "```python\n",
    "from modulo import elemento\n",
    "```"
   ]
  },
  {
   "cell_type": "markdown",
   "id": "72f105db",
   "metadata": {},
   "source": [
    "### Módulo de matemáticas"
   ]
  },
  {
   "cell_type": "code",
   "execution_count": 3,
   "id": "3acb4aa3",
   "metadata": {},
   "outputs": [
    {
     "name": "stdout",
     "output_type": "stream",
     "text": [
      "3.141592653589793\n"
     ]
    }
   ],
   "source": [
    "from math import pi\n",
    "print(pi)"
   ]
  },
  {
   "cell_type": "markdown",
   "id": "626629ba",
   "metadata": {},
   "source": [
    "* Errores al importar"
   ]
  },
  {
   "cell_type": "code",
   "execution_count": 4,
   "id": "e0fcf3cb",
   "metadata": {},
   "outputs": [
    {
     "ename": "ModuleNotFoundError",
     "evalue": "No module named 'modulo_inexistente'",
     "output_type": "error",
     "traceback": [
      "\u001b[1;31m---------------------------------------------------------------------------\u001b[0m",
      "\u001b[1;31mModuleNotFoundError\u001b[0m                       Traceback (most recent call last)",
      "\u001b[1;32m~\\AppData\\Local\\Temp/ipykernel_7240/4036507125.py\u001b[0m in \u001b[0;36m<module>\u001b[1;34m\u001b[0m\n\u001b[1;32m----> 1\u001b[1;33m \u001b[1;32mimport\u001b[0m \u001b[0mmodulo_inexistente\u001b[0m\u001b[1;33m\u001b[0m\u001b[1;33m\u001b[0m\u001b[0m\n\u001b[0m",
      "\u001b[1;31mModuleNotFoundError\u001b[0m: No module named 'modulo_inexistente'"
     ]
    }
   ],
   "source": [
    "import modulo_inexistente"
   ]
  },
  {
   "cell_type": "markdown",
   "id": "e22a3b18",
   "metadata": {},
   "source": [
    "Importar un elemento y cambiar el nombre\n",
    "\n",
    "```python\n",
    "from modulo import elemento as nuevo_nombre\n",
    "```"
   ]
  },
  {
   "cell_type": "code",
   "execution_count": 5,
   "id": "77a56aa6",
   "metadata": {},
   "outputs": [
    {
     "name": "stdout",
     "output_type": "stream",
     "text": [
      "3.0\n"
     ]
    }
   ],
   "source": [
    "from math import sqrt as raiz\n",
    "print(raiz(9))"
   ]
  },
  {
   "cell_type": "markdown",
   "id": "21729eb8",
   "metadata": {},
   "source": [
    "Importar un módulo con otro nombre\n",
    "\n",
    "```python\n",
    "import modulo as nuevo_nombre\n",
    "```\n"
   ]
  },
  {
   "cell_type": "code",
   "execution_count": 6,
   "id": "50f58222",
   "metadata": {},
   "outputs": [
    {
     "name": "stdout",
     "output_type": "stream",
     "text": [
      "7\n",
      "9\n",
      "8\n",
      "10\n",
      "9\n"
     ]
    }
   ],
   "source": [
    "import random as rd\n",
    "for i in range(5):\n",
    "    print(rd.randint(5, 10))"
   ]
  },
  {
   "cell_type": "code",
   "execution_count": 7,
   "id": "e00f6946",
   "metadata": {},
   "outputs": [
    {
     "name": "stdout",
     "output_type": "stream",
     "text": [
      "<module 'random' from 'C:\\\\Users\\\\Daniel\\\\anaconda3\\\\lib\\\\random.py'>\n"
     ]
    }
   ],
   "source": [
    "print(rd)"
   ]
  },
  {
   "cell_type": "code",
   "execution_count": 8,
   "id": "ef054fa5",
   "metadata": {},
   "outputs": [
    {
     "ename": "NameError",
     "evalue": "name 'math' is not defined",
     "output_type": "error",
     "traceback": [
      "\u001b[1;31m---------------------------------------------------------------------------\u001b[0m",
      "\u001b[1;31mNameError\u001b[0m                                 Traceback (most recent call last)",
      "\u001b[1;32m~\\AppData\\Local\\Temp/ipykernel_7240/23969007.py\u001b[0m in \u001b[0;36m<module>\u001b[1;34m\u001b[0m\n\u001b[1;32m----> 1\u001b[1;33m \u001b[0mprint\u001b[0m\u001b[1;33m(\u001b[0m\u001b[0mmath\u001b[0m\u001b[1;33m)\u001b[0m\u001b[1;33m\u001b[0m\u001b[1;33m\u001b[0m\u001b[0m\n\u001b[0m\u001b[0;32m      2\u001b[0m \u001b[0mprint\u001b[0m\u001b[1;33m(\u001b[0m\u001b[0mraiz\u001b[0m\u001b[1;33m)\u001b[0m\u001b[1;33m\u001b[0m\u001b[1;33m\u001b[0m\u001b[0m\n",
      "\u001b[1;31mNameError\u001b[0m: name 'math' is not defined"
     ]
    }
   ],
   "source": [
    "print(math)"
   ]
  },
  {
   "cell_type": "code",
   "execution_count": 9,
   "id": "e2fcb2f1",
   "metadata": {},
   "outputs": [
    {
     "name": "stdout",
     "output_type": "stream",
     "text": [
      "<built-in function sqrt>\n"
     ]
    }
   ],
   "source": [
    "print(raiz)"
   ]
  },
  {
   "cell_type": "markdown",
   "id": "f31a1b96",
   "metadata": {},
   "source": [
    "## Instalar módulos"
   ]
  },
  {
   "cell_type": "code",
   "execution_count": 12,
   "id": "e8044c4f",
   "metadata": {},
   "outputs": [
    {
     "name": "stdout",
     "output_type": "stream",
     "text": [
      "Collecting secure-smtplib\n",
      "  Downloading secure_smtplib-0.1.1-py2.py3-none-any.whl (3.4 kB)\n",
      "Installing collected packages: secure-smtplib\n",
      "Successfully installed secure-smtplib-0.1.1\n"
     ]
    }
   ],
   "source": [
    "!pip install secure-smtplib"
   ]
  },
  {
   "cell_type": "code",
   "execution_count": 13,
   "id": "0216a8bd",
   "metadata": {},
   "outputs": [
    {
     "name": "stdout",
     "output_type": "stream",
     "text": [
      "Collecting package metadata (current_repodata.json): ...working... done\n",
      "Solving environment: ...working... failed with initial frozen solve. Retrying with flexible solve.\n",
      "Collecting package metadata (repodata.json): ...working... done\n",
      "Solving environment: ...working... failed with initial frozen solve. Retrying with flexible solve.\n"
     ]
    },
    {
     "name": "stderr",
     "output_type": "stream",
     "text": [
      "\n",
      "PackagesNotFoundError: The following packages are not available from current channels:\n",
      "\n",
      "  - secure-smtplib\n",
      "\n",
      "Current channels:\n",
      "\n",
      "  - http://conda.anaconda.org/gurobi/win-64\n",
      "  - http://conda.anaconda.org/gurobi/noarch\n",
      "  - https://repo.anaconda.com/pkgs/main/win-64\n",
      "  - https://repo.anaconda.com/pkgs/main/noarch\n",
      "  - https://repo.anaconda.com/pkgs/r/win-64\n",
      "  - https://repo.anaconda.com/pkgs/r/noarch\n",
      "  - https://repo.anaconda.com/pkgs/msys2/win-64\n",
      "  - https://repo.anaconda.com/pkgs/msys2/noarch\n",
      "\n",
      "To search for alternate channels that may provide the conda package you're\n",
      "looking for, navigate to\n",
      "\n",
      "    https://anaconda.org\n",
      "\n",
      "and use the search bar at the top of the page.\n",
      "\n",
      "\n"
     ]
    }
   ],
   "source": [
    "!conda install secure-smtplib"
   ]
  }
 ],
 "metadata": {
  "kernelspec": {
   "display_name": "Python 3 (ipykernel)",
   "language": "python",
   "name": "python3"
  },
  "language_info": {
   "codemirror_mode": {
    "name": "ipython",
    "version": 3
   },
   "file_extension": ".py",
   "mimetype": "text/x-python",
   "name": "python",
   "nbconvert_exporter": "python",
   "pygments_lexer": "ipython3",
   "version": "3.9.7"
  }
 },
 "nbformat": 4,
 "nbformat_minor": 5
}
