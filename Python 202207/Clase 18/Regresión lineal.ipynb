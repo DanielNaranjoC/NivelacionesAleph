{
 "cells": [
  {
   "cell_type": "markdown",
   "id": "f62e5d41",
   "metadata": {},
   "source": [
    "# Regresión lineal"
   ]
  },
  {
   "cell_type": "code",
   "execution_count": 1,
   "id": "417e1181",
   "metadata": {},
   "outputs": [],
   "source": [
    "import statsmodels.api as sm"
   ]
  },
  {
   "cell_type": "markdown",
   "id": "b4b2ce98",
   "metadata": {},
   "source": [
    "## Regresión lineal simple\n",
    "\n",
    "$y = \\beta_0 + \\beta_1 x + \\epsilon$\n"
   ]
  },
  {
   "cell_type": "code",
   "execution_count": 2,
   "id": "2f8ebd93",
   "metadata": {},
   "outputs": [
    {
     "name": "stdout",
     "output_type": "stream",
     "text": [
      "x= [0.07390388 0.20155042 0.3313821  0.45352948 0.46538585 0.48480027\n",
      " 0.49568124 0.49986043 0.53833256 0.96598237] \n",
      "y= [0.48369007 0.28438664 0.7860455  0.49374203 0.86625471 0.44949532\n",
      " 0.36434044 0.04644474 0.19517576 0.52831261]\n"
     ]
    }
   ],
   "source": [
    "import numpy as np\n",
    "\n",
    "x = np.random.rand(10)\n",
    "x.sort()\n",
    "y = np.random.rand(10)\n",
    "print('x=',x,'\\ny=',y)"
   ]
  },
  {
   "cell_type": "code",
   "execution_count": 3,
   "id": "2282440f",
   "metadata": {},
   "outputs": [
    {
     "data": {
      "image/png": "[encoded data removed]",
      "text/plain": [
       "<Figure size 432x288 with 1 Axes>"
      ]
     },
     "metadata": {
      "needs_background": "light"
     },
     "output_type": "display_data"
    }
   ],
   "source": [
    "import matplotlib.pyplot as plt\n",
    "plt.scatter(x,y)\n",
    "plt.show()"
   ]
  },
  {
   "cell_type": "code",
   "execution_count": 4,
   "id": "c8174e7a",
   "metadata": {},
   "outputs": [
    {
     "name": "stdout",
     "output_type": "stream",
     "text": [
      "[[1.         0.07390388]\n",
      " [1.         0.20155042]\n",
      " [1.         0.3313821 ]\n",
      " [1.         0.45352948]\n",
      " [1.         0.46538585]\n",
      " [1.         0.48480027]\n",
      " [1.         0.49568124]\n",
      " [1.         0.49986043]\n",
      " [1.         0.53833256]\n",
      " [1.         0.96598237]]\n"
     ]
    }
   ],
   "source": [
    "x_ = sm.add_constant(x)\n",
    "print(x_)"
   ]
  },
  {
   "cell_type": "code",
   "execution_count": 5,
   "id": "d6254b1a",
   "metadata": {},
   "outputs": [],
   "source": [
    "modelo = sm.OLS(y, x_)"
   ]
  },
  {
   "cell_type": "code",
   "execution_count": 6,
   "id": "2da8ec5f",
   "metadata": {},
   "outputs": [],
   "source": [
    "resultado = modelo.fit()"
   ]
  },
  {
   "cell_type": "code",
   "execution_count": 7,
   "id": "5fa2d868",
   "metadata": {},
   "outputs": [
    {
     "name": "stderr",
     "output_type": "stream",
     "text": [
      "C:\\Users\\Daniel\\anaconda3\\lib\\site-packages\\scipy\\stats\\stats.py:1541: UserWarning: kurtosistest only valid for n>=20 ... continuing anyway, n=10\n",
      "  warnings.warn(\"kurtosistest only valid for n>=20 ... continuing \"\n"
     ]
    },
    {
     "data": {
      "text/html": [
       "<table class=\"simpletable\">\n",
       "<caption>OLS Regression Results</caption>\n",
       "<tr>\n",
       "  <th>Dep. Variable:</th>            <td>y</td>        <th>  R-squared:         </th> <td>   0.000</td>\n",
       "</tr>\n",
       "<tr>\n",
       "  <th>Model:</th>                   <td>OLS</td>       <th>  Adj. R-squared:    </th> <td>  -0.125</td>\n",
       "</tr>\n",
       "<tr>\n",
       "  <th>Method:</th>             <td>Least Squares</td>  <th>  F-statistic:       </th> <td>0.003476</td>\n",
       "</tr>\n",
       "<tr>\n",
       "  <th>Date:</th>             <td>Wed, 17 Aug 2022</td> <th>  Prob (F-statistic):</th>  <td> 0.954</td> \n",
       "</tr>\n",
       "<tr>\n",
       "  <th>Time:</th>                 <td>18:37:24</td>     <th>  Log-Likelihood:    </th> <td> 0.24329</td>\n",
       "</tr>\n",
       "<tr>\n",
       "  <th>No. Observations:</th>      <td>    10</td>      <th>  AIC:               </th> <td>   3.513</td>\n",
       "</tr>\n",
       "<tr>\n",
       "  <th>Df Residuals:</th>          <td>     8</td>      <th>  BIC:               </th> <td>   4.119</td>\n",
       "</tr>\n",
       "<tr>\n",
       "  <th>Df Model:</th>              <td>     1</td>      <th>                     </th>     <td> </td>   \n",
       "</tr>\n",
       "<tr>\n",
       "  <th>Covariance Type:</th>      <td>nonrobust</td>    <th>                     </th>     <td> </td>   \n",
       "</tr>\n",
       "</table>\n",
       "<table class=\"simpletable\">\n",
       "<tr>\n",
       "    <td></td>       <th>coef</th>     <th>std err</th>      <th>t</th>      <th>P>|t|</th>  <th>[0.025</th>    <th>0.975]</th>  \n",
       "</tr>\n",
       "<tr>\n",
       "  <th>const</th> <td>    0.4597</td> <td>    0.188</td> <td>    2.440</td> <td> 0.041</td> <td>    0.025</td> <td>    0.894</td>\n",
       "</tr>\n",
       "<tr>\n",
       "  <th>x1</th>    <td>   -0.0221</td> <td>    0.374</td> <td>   -0.059</td> <td> 0.954</td> <td>   -0.885</td> <td>    0.841</td>\n",
       "</tr>\n",
       "</table>\n",
       "<table class=\"simpletable\">\n",
       "<tr>\n",
       "  <th>Omnibus:</th>       <td> 0.109</td> <th>  Durbin-Watson:     </th> <td>   1.681</td>\n",
       "</tr>\n",
       "<tr>\n",
       "  <th>Prob(Omnibus):</th> <td> 0.947</td> <th>  Jarque-Bera (JB):  </th> <td>   0.217</td>\n",
       "</tr>\n",
       "<tr>\n",
       "  <th>Skew:</th>          <td> 0.179</td> <th>  Prob(JB):          </th> <td>   0.897</td>\n",
       "</tr>\n",
       "<tr>\n",
       "  <th>Kurtosis:</th>      <td> 2.373</td> <th>  Cond. No.          </th> <td>    5.44</td>\n",
       "</tr>\n",
       "</table><br/><br/>Notes:<br/>[1] Standard Errors assume that the covariance matrix of the errors is correctly specified."
      ],
      "text/plain": [
       "<class 'statsmodels.iolib.summary.Summary'>\n",
       "\"\"\"\n",
       "                            OLS Regression Results                            \n",
       "==============================================================================\n",
       "Dep. Variable:                      y   R-squared:                       0.000\n",
       "Model:                            OLS   Adj. R-squared:                 -0.125\n",
       "Method:                 Least Squares   F-statistic:                  0.003476\n",
       "Date:                Wed, 17 Aug 2022   Prob (F-statistic):              0.954\n",
       "Time:                        18:37:24   Log-Likelihood:                0.24329\n",
       "No. Observations:                  10   AIC:                             3.513\n",
       "Df Residuals:                       8   BIC:                             4.119\n",
       "Df Model:                           1                                         \n",
       "Covariance Type:            nonrobust                                         \n",
       "==============================================================================\n",
       "                 coef    std err          t      P>|t|      [0.025      0.975]\n",
       "------------------------------------------------------------------------------\n",
       "const          0.4597      0.188      2.440      0.041       0.025       0.894\n",
       "x1            -0.0221      0.374     -0.059      0.954      -0.885       0.841\n",
       "==============================================================================\n",
       "Omnibus:                        0.109   Durbin-Watson:                   1.681\n",
       "Prob(Omnibus):                  0.947   Jarque-Bera (JB):                0.217\n",
       "Skew:                           0.179   Prob(JB):                        0.897\n",
       "Kurtosis:                       2.373   Cond. No.                         5.44\n",
       "==============================================================================\n",
       "\n",
       "Notes:\n",
       "[1] Standard Errors assume that the covariance matrix of the errors is correctly specified.\n",
       "\"\"\""
      ]
     },
     "execution_count": 7,
     "metadata": {},
     "output_type": "execute_result"
    }
   ],
   "source": [
    "resultado.summary()"
   ]
  },
  {
   "cell_type": "code",
   "execution_count": 8,
   "id": "f5f00bb9",
   "metadata": {},
   "outputs": [
    {
     "data": {
      "text/plain": [
       "array([ 0.459745  , -0.02207387])"
      ]
     },
     "execution_count": 8,
     "metadata": {},
     "output_type": "execute_result"
    }
   ],
   "source": [
    "resultado.params"
   ]
  },
  {
   "cell_type": "code",
   "execution_count": 9,
   "id": "b1d9a652",
   "metadata": {},
   "outputs": [],
   "source": [
    "def reg1(x):\n",
    "    if isinstance(x, int) or isinstance(x, float):\n",
    "        return resultado.params[0] + x * resultado.params[1]\n",
    "    x = np.array(x)\n",
    "    if len(x) == 1:\n",
    "        return reg1(x[0])\n",
    "    else:\n",
    "        x = sm.add_constant(x)\n",
    "        y = x * resultado.params\n",
    "        return sum(y.T)"
   ]
  },
  {
   "cell_type": "code",
   "execution_count": 10,
   "id": "473683f7",
   "metadata": {
    "scrolled": true
   },
   "outputs": [
    {
     "data": {
      "image/png": "[encoded data removed]",
      "text/plain": [
       "<Figure size 432x288 with 1 Axes>"
      ]
     },
     "metadata": {
      "needs_background": "light"
     },
     "output_type": "display_data"
    }
   ],
   "source": [
    "y_ = reg1(x)\n",
    "plt.scatter(x,y)\n",
    "plt.plot(x, y_)\n",
    "plt.show()"
   ]
  },
  {
   "cell_type": "code",
   "execution_count": 11,
   "id": "bca43696",
   "metadata": {},
   "outputs": [
    {
     "data": {
      "image/png": "[encoded data removed]",
      "text/plain": [
       "<Figure size 432x288 with 1 Axes>"
      ]
     },
     "metadata": {
      "needs_background": "light"
     },
     "output_type": "display_data"
    }
   ],
   "source": [
    "def reg2(x):\n",
    "    if isinstance(x, int) or isinstance(x, float):\n",
    "        return resultado.params[0] + x * resultado.params[1]\n",
    "    return [reg2(i) for i in x]\n",
    "y_ = reg2(x)\n",
    "plt.scatter(x,y)\n",
    "plt.plot(x, y_)\n",
    "plt.show()"
   ]
  },
  {
   "cell_type": "markdown",
   "id": "f42fffb9",
   "metadata": {},
   "source": [
    "## Regresión con dos variables\n",
    "\n",
    "$y = \\beta_0+\\beta_1x_1 + \\beta_2x_2$"
   ]
  },
  {
   "cell_type": "code",
   "execution_count": 12,
   "id": "3b9e8190",
   "metadata": {},
   "outputs": [
    {
     "name": "stdout",
     "output_type": "stream",
     "text": [
      "x=\n",
      " [[0.9714161  0.41812628]\n",
      " [0.89262475 0.04352201]\n",
      " [0.69489218 0.5508525 ]\n",
      " [0.28579588 0.93784401]\n",
      " [0.35307679 0.58805888]\n",
      " [0.34446533 0.3078113 ]\n",
      " [0.56148341 0.68507212]\n",
      " [0.73171753 0.50911469]\n",
      " [0.09391352 0.54911306]\n",
      " [0.50868437 0.76906071]\n",
      " [0.84683056 0.83394277]\n",
      " [0.85427646 0.27725919]\n",
      " [0.48456898 0.85350108]\n",
      " [0.21001724 0.38034521]\n",
      " [0.90643466 0.84613677]\n",
      " [0.11416514 0.77300012]\n",
      " [0.39294304 0.71677551]\n",
      " [0.89052731 0.27698796]\n",
      " [0.65974273 0.85902987]\n",
      " [0.68051368 0.71551808]]\n",
      "y=\n",
      " [0.96913412 0.46796767 0.45198969 0.28146487 0.49027926 0.52451061\n",
      " 0.45632102 0.90182308 0.21516725 0.10739692 0.12536939 0.53482808\n",
      " 0.59611538 0.56147824 0.68240327 0.1075259  0.28156455 0.9513792\n",
      " 0.51664355 0.03195599]\n"
     ]
    }
   ],
   "source": [
    "x = np.random.rand(20, 2)\n",
    "y = np.random.rand(20)\n",
    "print('x=\\n',x)\n",
    "print('y=\\n',y)"
   ]
  },
  {
   "cell_type": "code",
   "execution_count": 13,
   "id": "6fabcb90",
   "metadata": {},
   "outputs": [
    {
     "data": {
      "image/png": "[encoded data removed]",
      "text/plain": [
       "<Figure size 432x288 with 1 Axes>"
      ]
     },
     "metadata": {
      "needs_background": "light"
     },
     "output_type": "display_data"
    }
   ],
   "source": [
    "plt.scatter(y, x[:, 0])\n",
    "plt.scatter(y, x[:, 1])\n",
    "plt.show()"
   ]
  },
  {
   "cell_type": "code",
   "execution_count": 14,
   "id": "62743ca7",
   "metadata": {},
   "outputs": [
    {
     "data": {
      "text/plain": [
       "array([[1.        , 0.9714161 , 0.41812628],\n",
       "       [1.        , 0.89262475, 0.04352201],\n",
       "       [1.        , 0.69489218, 0.5508525 ],\n",
       "       [1.        , 0.28579588, 0.93784401],\n",
       "       [1.        , 0.35307679, 0.58805888],\n",
       "       [1.        , 0.34446533, 0.3078113 ],\n",
       "       [1.        , 0.56148341, 0.68507212],\n",
       "       [1.        , 0.73171753, 0.50911469],\n",
       "       [1.        , 0.09391352, 0.54911306],\n",
       "       [1.        , 0.50868437, 0.76906071],\n",
       "       [1.        , 0.84683056, 0.83394277],\n",
       "       [1.        , 0.85427646, 0.27725919],\n",
       "       [1.        , 0.48456898, 0.85350108],\n",
       "       [1.        , 0.21001724, 0.38034521],\n",
       "       [1.        , 0.90643466, 0.84613677],\n",
       "       [1.        , 0.11416514, 0.77300012],\n",
       "       [1.        , 0.39294304, 0.71677551],\n",
       "       [1.        , 0.89052731, 0.27698796],\n",
       "       [1.        , 0.65974273, 0.85902987],\n",
       "       [1.        , 0.68051368, 0.71551808]])"
      ]
     },
     "execution_count": 14,
     "metadata": {},
     "output_type": "execute_result"
    }
   ],
   "source": [
    "x_ = sm.add_constant(x)\n",
    "x_"
   ]
  },
  {
   "cell_type": "code",
   "execution_count": 15,
   "id": "13dee4b1",
   "metadata": {},
   "outputs": [
    {
     "data": {
      "text/html": [
       "<table class=\"simpletable\">\n",
       "<caption>OLS Regression Results</caption>\n",
       "<tr>\n",
       "  <th>Dep. Variable:</th>            <td>y</td>        <th>  R-squared:         </th> <td>   0.340</td>\n",
       "</tr>\n",
       "<tr>\n",
       "  <th>Model:</th>                   <td>OLS</td>       <th>  Adj. R-squared:    </th> <td>   0.263</td>\n",
       "</tr>\n",
       "<tr>\n",
       "  <th>Method:</th>             <td>Least Squares</td>  <th>  F-statistic:       </th> <td>   4.385</td>\n",
       "</tr>\n",
       "<tr>\n",
       "  <th>Date:</th>             <td>Wed, 17 Aug 2022</td> <th>  Prob (F-statistic):</th>  <td>0.0291</td> \n",
       "</tr>\n",
       "<tr>\n",
       "  <th>Time:</th>                 <td>18:37:25</td>     <th>  Log-Likelihood:    </th> <td>  1.9850</td>\n",
       "</tr>\n",
       "<tr>\n",
       "  <th>No. Observations:</th>      <td>    20</td>      <th>  AIC:               </th> <td>   2.030</td>\n",
       "</tr>\n",
       "<tr>\n",
       "  <th>Df Residuals:</th>          <td>    17</td>      <th>  BIC:               </th> <td>   5.017</td>\n",
       "</tr>\n",
       "<tr>\n",
       "  <th>Df Model:</th>              <td>     2</td>      <th>                     </th>     <td> </td>   \n",
       "</tr>\n",
       "<tr>\n",
       "  <th>Covariance Type:</th>      <td>nonrobust</td>    <th>                     </th>     <td> </td>   \n",
       "</tr>\n",
       "</table>\n",
       "<table class=\"simpletable\">\n",
       "<tr>\n",
       "    <td></td>       <th>coef</th>     <th>std err</th>      <th>t</th>      <th>P>|t|</th>  <th>[0.025</th>    <th>0.975]</th>  \n",
       "</tr>\n",
       "<tr>\n",
       "  <th>const</th> <td>    0.4680</td> <td>    0.208</td> <td>    2.254</td> <td> 0.038</td> <td>    0.030</td> <td>    0.906</td>\n",
       "</tr>\n",
       "<tr>\n",
       "  <th>x1</th>    <td>    0.3884</td> <td>    0.202</td> <td>    1.923</td> <td> 0.071</td> <td>   -0.038</td> <td>    0.815</td>\n",
       "</tr>\n",
       "<tr>\n",
       "  <th>x2</th>    <td>   -0.3837</td> <td>    0.229</td> <td>   -1.672</td> <td> 0.113</td> <td>   -0.868</td> <td>    0.100</td>\n",
       "</tr>\n",
       "</table>\n",
       "<table class=\"simpletable\">\n",
       "<tr>\n",
       "  <th>Omnibus:</th>       <td> 1.274</td> <th>  Durbin-Watson:     </th> <td>   1.581</td>\n",
       "</tr>\n",
       "<tr>\n",
       "  <th>Prob(Omnibus):</th> <td> 0.529</td> <th>  Jarque-Bera (JB):  </th> <td>   1.026</td>\n",
       "</tr>\n",
       "<tr>\n",
       "  <th>Skew:</th>          <td>-0.331</td> <th>  Prob(JB):          </th> <td>   0.599</td>\n",
       "</tr>\n",
       "<tr>\n",
       "  <th>Kurtosis:</th>      <td> 2.109</td> <th>  Cond. No.          </th> <td>    7.81</td>\n",
       "</tr>\n",
       "</table><br/><br/>Notes:<br/>[1] Standard Errors assume that the covariance matrix of the errors is correctly specified."
      ],
      "text/plain": [
       "<class 'statsmodels.iolib.summary.Summary'>\n",
       "\"\"\"\n",
       "                            OLS Regression Results                            \n",
       "==============================================================================\n",
       "Dep. Variable:                      y   R-squared:                       0.340\n",
       "Model:                            OLS   Adj. R-squared:                  0.263\n",
       "Method:                 Least Squares   F-statistic:                     4.385\n",
       "Date:                Wed, 17 Aug 2022   Prob (F-statistic):             0.0291\n",
       "Time:                        18:37:25   Log-Likelihood:                 1.9850\n",
       "No. Observations:                  20   AIC:                             2.030\n",
       "Df Residuals:                      17   BIC:                             5.017\n",
       "Df Model:                           2                                         \n",
       "Covariance Type:            nonrobust                                         \n",
       "==============================================================================\n",
       "                 coef    std err          t      P>|t|      [0.025      0.975]\n",
       "------------------------------------------------------------------------------\n",
       "const          0.4680      0.208      2.254      0.038       0.030       0.906\n",
       "x1             0.3884      0.202      1.923      0.071      -0.038       0.815\n",
       "x2            -0.3837      0.229     -1.672      0.113      -0.868       0.100\n",
       "==============================================================================\n",
       "Omnibus:                        1.274   Durbin-Watson:                   1.581\n",
       "Prob(Omnibus):                  0.529   Jarque-Bera (JB):                1.026\n",
       "Skew:                          -0.331   Prob(JB):                        0.599\n",
       "Kurtosis:                       2.109   Cond. No.                         7.81\n",
       "==============================================================================\n",
       "\n",
       "Notes:\n",
       "[1] Standard Errors assume that the covariance matrix of the errors is correctly specified.\n",
       "\"\"\""
      ]
     },
     "execution_count": 15,
     "metadata": {},
     "output_type": "execute_result"
    }
   ],
   "source": [
    "modelo = sm.OLS(y, x_)\n",
    "resultado = modelo.fit()\n",
    "resultado.summary()"
   ]
  },
  {
   "cell_type": "code",
   "execution_count": 16,
   "id": "7f373b75",
   "metadata": {},
   "outputs": [],
   "source": [
    "def reg_2(x):\n",
    "    x = np.array(x)\n",
    "    d = np.shape(x)\n",
    "    if len(d) == 1 and d[0] == 2:\n",
    "        x = np.concatenate([[1], x])\n",
    "        return sum(x * resultado.params)\n",
    "    elif len(d) == 2:\n",
    "        return np.array([reg_2(i) for i in x])"
   ]
  },
  {
   "cell_type": "code",
   "execution_count": 17,
   "id": "def2aedd",
   "metadata": {
    "scrolled": true
   },
   "outputs": [
    {
     "name": "stdout",
     "output_type": "stream",
     "text": [
      "Y=\n",
      " [0.68485347 0.79800513 0.52652485 0.21913515 0.37949375 0.4836928\n",
      " 0.42320583 0.55684365 0.29378587 0.3704697  0.47689986 0.6934161\n",
      " 0.32870027 0.4036417  0.49536936 0.21573564 0.34558256 0.70759919\n",
      " 0.39461214 0.45775101]\n"
     ]
    },
    {
     "data": {
      "image/png": "[encoded data removed]",
      "text/plain": [
       "<Figure size 432x288 with 2 Axes>"
      ]
     },
     "metadata": {
      "needs_background": "light"
     },
     "output_type": "display_data"
    }
   ],
   "source": [
    "y_ = reg_2(x)\n",
    "print('Y=\\n', y_)\n",
    "plt.subplot(2,1,1)\n",
    "plt.scatter(x[:, 0], y)\n",
    "plt.scatter(x[:, 0], y_)\n",
    "plt.subplot(2,1,2)\n",
    "plt.scatter(x[:, 1], y)\n",
    "plt.scatter(x[:, 1], y_)\n",
    "plt.show()"
   ]
  },
  {
   "cell_type": "markdown",
   "id": "138ba9e3",
   "metadata": {},
   "source": [
    "### Datos desde archivo\n"
   ]
  },
  {
   "cell_type": "code",
   "execution_count": 19,
   "id": "ad6e6149",
   "metadata": {},
   "outputs": [
    {
     "data": {
      "text/html": [
       "<div>\n",
       "<style scoped>\n",
       "    .dataframe tbody tr th:only-of-type {\n",
       "        vertical-align: middle;\n",
       "    }\n",
       "\n",
       "    .dataframe tbody tr th {\n",
       "        vertical-align: top;\n",
       "    }\n",
       "\n",
       "    .dataframe thead th {\n",
       "        text-align: right;\n",
       "    }\n",
       "</style>\n",
       "<table border=\"1\" class=\"dataframe\">\n",
       "  <thead>\n",
       "    <tr style=\"text-align: right;\">\n",
       "      <th></th>\n",
       "      <th>X1</th>\n",
       "      <th>X2</th>\n",
       "    </tr>\n",
       "    <tr>\n",
       "      <th>Individuo</th>\n",
       "      <th></th>\n",
       "      <th></th>\n",
       "    </tr>\n",
       "  </thead>\n",
       "  <tbody>\n",
       "    <tr>\n",
       "      <th>1</th>\n",
       "      <td>1.6</td>\n",
       "      <td>1.3</td>\n",
       "    </tr>\n",
       "    <tr>\n",
       "      <th>2</th>\n",
       "      <td>0.6</td>\n",
       "      <td>1.7</td>\n",
       "    </tr>\n",
       "    <tr>\n",
       "      <th>3</th>\n",
       "      <td>-1.4</td>\n",
       "      <td>0.1</td>\n",
       "    </tr>\n",
       "    <tr>\n",
       "      <th>4</th>\n",
       "      <td>2.6</td>\n",
       "      <td>1.8</td>\n",
       "    </tr>\n",
       "    <tr>\n",
       "      <th>5</th>\n",
       "      <td>-0.4</td>\n",
       "      <td>1.3</td>\n",
       "    </tr>\n",
       "    <tr>\n",
       "      <th>6</th>\n",
       "      <td>1.6</td>\n",
       "      <td>0.3</td>\n",
       "    </tr>\n",
       "    <tr>\n",
       "      <th>7</th>\n",
       "      <td>3.6</td>\n",
       "      <td>2.3</td>\n",
       "    </tr>\n",
       "    <tr>\n",
       "      <th>8</th>\n",
       "      <td>0.6</td>\n",
       "      <td>0.3</td>\n",
       "    </tr>\n",
       "    <tr>\n",
       "      <th>9</th>\n",
       "      <td>2.6</td>\n",
       "      <td>0.8</td>\n",
       "    </tr>\n",
       "    <tr>\n",
       "      <th>10</th>\n",
       "      <td>-1.4</td>\n",
       "      <td>-1.5</td>\n",
       "    </tr>\n",
       "    <tr>\n",
       "      <th>11</th>\n",
       "      <td>-0.4</td>\n",
       "      <td>-1.3</td>\n",
       "    </tr>\n",
       "    <tr>\n",
       "      <th>12</th>\n",
       "      <td>-0.4</td>\n",
       "      <td>-0.6</td>\n",
       "    </tr>\n",
       "    <tr>\n",
       "      <th>13</th>\n",
       "      <td>-2.4</td>\n",
       "      <td>-1.1</td>\n",
       "    </tr>\n",
       "    <tr>\n",
       "      <th>14</th>\n",
       "      <td>0.6</td>\n",
       "      <td>-0.6</td>\n",
       "    </tr>\n",
       "    <tr>\n",
       "      <th>15</th>\n",
       "      <td>-1.4</td>\n",
       "      <td>-1.0</td>\n",
       "    </tr>\n",
       "    <tr>\n",
       "      <th>16</th>\n",
       "      <td>-2.4</td>\n",
       "      <td>-1.7</td>\n",
       "    </tr>\n",
       "    <tr>\n",
       "      <th>17</th>\n",
       "      <td>-3.4</td>\n",
       "      <td>-1.7</td>\n",
       "    </tr>\n",
       "    <tr>\n",
       "      <th>18</th>\n",
       "      <td>-3.4</td>\n",
       "      <td>-2.3</td>\n",
       "    </tr>\n",
       "    <tr>\n",
       "      <th>19</th>\n",
       "      <td>3.6</td>\n",
       "      <td>1.9</td>\n",
       "    </tr>\n",
       "    <tr>\n",
       "      <th>20</th>\n",
       "      <td>-0.4</td>\n",
       "      <td>0.0</td>\n",
       "    </tr>\n",
       "  </tbody>\n",
       "</table>\n",
       "</div>"
      ],
      "text/plain": [
       "            X1   X2\n",
       "Individuo          \n",
       "1          1.6  1.3\n",
       "2          0.6  1.7\n",
       "3         -1.4  0.1\n",
       "4          2.6  1.8\n",
       "5         -0.4  1.3\n",
       "6          1.6  0.3\n",
       "7          3.6  2.3\n",
       "8          0.6  0.3\n",
       "9          2.6  0.8\n",
       "10        -1.4 -1.5\n",
       "11        -0.4 -1.3\n",
       "12        -0.4 -0.6\n",
       "13        -2.4 -1.1\n",
       "14         0.6 -0.6\n",
       "15        -1.4 -1.0\n",
       "16        -2.4 -1.7\n",
       "17        -3.4 -1.7\n",
       "18        -3.4 -2.3\n",
       "19         3.6  1.9\n",
       "20        -0.4  0.0"
      ]
     },
     "execution_count": 19,
     "metadata": {},
     "output_type": "execute_result"
    }
   ],
   "source": [
    "import pandas as pd\n",
    "data = pd.read_excel('../datos.xlsx', sheet_name='Hoja1', index_col=0)\n",
    "data"
   ]
  },
  {
   "cell_type": "code",
   "execution_count": 21,
   "id": "ff48052e",
   "metadata": {},
   "outputs": [
    {
     "data": {
      "image/png": "[encoded data removed]",
      "text/plain": [
       "<Figure size 432x288 with 1 Axes>"
      ]
     },
     "metadata": {
      "needs_background": "light"
     },
     "output_type": "display_data"
    }
   ],
   "source": [
    "g = data.plot.scatter('X1', 'X2')\n",
    "plt.show()"
   ]
  },
  {
   "cell_type": "code",
   "execution_count": 23,
   "id": "d4f0e431",
   "metadata": {},
   "outputs": [
    {
     "name": "stdout",
     "output_type": "stream",
     "text": [
      "x=            const   X2\n",
      "Individuo            \n",
      "1            1.0  1.3\n",
      "2            1.0  1.7\n",
      "3            1.0  0.1\n",
      "4            1.0  1.8\n",
      "5            1.0  1.3\n",
      "6            1.0  0.3\n",
      "7            1.0  2.3\n",
      "8            1.0  0.3\n",
      "9            1.0  0.8\n",
      "10           1.0 -1.5\n",
      "11           1.0 -1.3\n",
      "12           1.0 -0.6\n",
      "13           1.0 -1.1\n",
      "14           1.0 -0.6\n",
      "15           1.0 -1.0\n",
      "16           1.0 -1.7\n",
      "17           1.0 -1.7\n",
      "18           1.0 -2.3\n",
      "19           1.0  1.9\n",
      "20           1.0  0.0\n",
      "y= Individuo\n",
      "1     1.6\n",
      "2     0.6\n",
      "3    -1.4\n",
      "4     2.6\n",
      "5    -0.4\n",
      "6     1.6\n",
      "7     3.6\n",
      "8     0.6\n",
      "9     2.6\n",
      "10   -1.4\n",
      "11   -0.4\n",
      "12   -0.4\n",
      "13   -2.4\n",
      "14    0.6\n",
      "15   -1.4\n",
      "16   -2.4\n",
      "17   -3.4\n",
      "18   -3.4\n",
      "19    3.6\n",
      "20   -0.4\n",
      "Name: X1, dtype: float64\n"
     ]
    }
   ],
   "source": [
    "y = data['X1']\n",
    "x = sm.add_constant(data['X2'])\n",
    "print('x=',x)\n",
    "print('y=',y)"
   ]
  },
  {
   "cell_type": "code",
   "execution_count": 24,
   "id": "28bc497d",
   "metadata": {},
   "outputs": [
    {
     "data": {
      "text/html": [
       "<table class=\"simpletable\">\n",
       "<caption>OLS Regression Results</caption>\n",
       "<tr>\n",
       "  <th>Dep. Variable:</th>           <td>X1</td>        <th>  R-squared:         </th> <td>   0.750</td>\n",
       "</tr>\n",
       "<tr>\n",
       "  <th>Model:</th>                   <td>OLS</td>       <th>  Adj. R-squared:    </th> <td>   0.736</td>\n",
       "</tr>\n",
       "<tr>\n",
       "  <th>Method:</th>             <td>Least Squares</td>  <th>  F-statistic:       </th> <td>   54.02</td>\n",
       "</tr>\n",
       "<tr>\n",
       "  <th>Date:</th>             <td>Wed, 17 Aug 2022</td> <th>  Prob (F-statistic):</th> <td>8.02e-07</td>\n",
       "</tr>\n",
       "<tr>\n",
       "  <th>Time:</th>                 <td>18:42:48</td>     <th>  Log-Likelihood:    </th> <td> -29.192</td>\n",
       "</tr>\n",
       "<tr>\n",
       "  <th>No. Observations:</th>      <td>    20</td>      <th>  AIC:               </th> <td>   62.38</td>\n",
       "</tr>\n",
       "<tr>\n",
       "  <th>Df Residuals:</th>          <td>    18</td>      <th>  BIC:               </th> <td>   64.38</td>\n",
       "</tr>\n",
       "<tr>\n",
       "  <th>Df Model:</th>              <td>     1</td>      <th>                     </th>     <td> </td>   \n",
       "</tr>\n",
       "<tr>\n",
       "  <th>Covariance Type:</th>      <td>nonrobust</td>    <th>                     </th>     <td> </td>   \n",
       "</tr>\n",
       "</table>\n",
       "<table class=\"simpletable\">\n",
       "<tr>\n",
       "    <td></td>       <th>coef</th>     <th>std err</th>      <th>t</th>      <th>P>|t|</th>  <th>[0.025</th>    <th>0.975]</th>  \n",
       "</tr>\n",
       "<tr>\n",
       "  <th>const</th> <td>-4.441e-16</td> <td>    0.245</td> <td>-1.81e-15</td> <td> 1.000</td> <td>   -0.516</td> <td>    0.516</td>\n",
       "</tr>\n",
       "<tr>\n",
       "  <th>X2</th>    <td>    1.3233</td> <td>    0.180</td> <td>    7.350</td> <td> 0.000</td> <td>    0.945</td> <td>    1.702</td>\n",
       "</tr>\n",
       "</table>\n",
       "<table class=\"simpletable\">\n",
       "<tr>\n",
       "  <th>Omnibus:</th>       <td> 1.027</td> <th>  Durbin-Watson:     </th> <td>   1.932</td>\n",
       "</tr>\n",
       "<tr>\n",
       "  <th>Prob(Omnibus):</th> <td> 0.598</td> <th>  Jarque-Bera (JB):  </th> <td>   0.939</td>\n",
       "</tr>\n",
       "<tr>\n",
       "  <th>Skew:</th>          <td>-0.352</td> <th>  Prob(JB):          </th> <td>   0.625</td>\n",
       "</tr>\n",
       "<tr>\n",
       "  <th>Kurtosis:</th>      <td> 2.206</td> <th>  Cond. No.          </th> <td>    1.36</td>\n",
       "</tr>\n",
       "</table><br/><br/>Notes:<br/>[1] Standard Errors assume that the covariance matrix of the errors is correctly specified."
      ],
      "text/plain": [
       "<class 'statsmodels.iolib.summary.Summary'>\n",
       "\"\"\"\n",
       "                            OLS Regression Results                            \n",
       "==============================================================================\n",
       "Dep. Variable:                     X1   R-squared:                       0.750\n",
       "Model:                            OLS   Adj. R-squared:                  0.736\n",
       "Method:                 Least Squares   F-statistic:                     54.02\n",
       "Date:                Wed, 17 Aug 2022   Prob (F-statistic):           8.02e-07\n",
       "Time:                        18:42:48   Log-Likelihood:                -29.192\n",
       "No. Observations:                  20   AIC:                             62.38\n",
       "Df Residuals:                      18   BIC:                             64.38\n",
       "Df Model:                           1                                         \n",
       "Covariance Type:            nonrobust                                         \n",
       "==============================================================================\n",
       "                 coef    std err          t      P>|t|      [0.025      0.975]\n",
       "------------------------------------------------------------------------------\n",
       "const      -4.441e-16      0.245  -1.81e-15      1.000      -0.516       0.516\n",
       "X2             1.3233      0.180      7.350      0.000       0.945       1.702\n",
       "==============================================================================\n",
       "Omnibus:                        1.027   Durbin-Watson:                   1.932\n",
       "Prob(Omnibus):                  0.598   Jarque-Bera (JB):                0.939\n",
       "Skew:                          -0.352   Prob(JB):                        0.625\n",
       "Kurtosis:                       2.206   Cond. No.                         1.36\n",
       "==============================================================================\n",
       "\n",
       "Notes:\n",
       "[1] Standard Errors assume that the covariance matrix of the errors is correctly specified.\n",
       "\"\"\""
      ]
     },
     "execution_count": 24,
     "metadata": {},
     "output_type": "execute_result"
    }
   ],
   "source": [
    "modelo_df = sm.OLS(y, x)\n",
    "\n",
    "reultado_df = modelo_df.fit()\n",
    "reultado_df.summary()"
   ]
  },
  {
   "cell_type": "code",
   "execution_count": 27,
   "id": "4657a218",
   "metadata": {
    "scrolled": true
   },
   "outputs": [
    {
     "data": {
      "text/html": [
       "<table class=\"simpletable\">\n",
       "<caption>OLS Regression Results</caption>\n",
       "<tr>\n",
       "  <th>Dep. Variable:</th>           <td>X1</td>        <th>  R-squared (uncentered):</th>      <td>   0.750</td>\n",
       "</tr>\n",
       "<tr>\n",
       "  <th>Model:</th>                   <td>OLS</td>       <th>  Adj. R-squared (uncentered):</th> <td>   0.737</td>\n",
       "</tr>\n",
       "<tr>\n",
       "  <th>Method:</th>             <td>Least Squares</td>  <th>  F-statistic:       </th>          <td>   57.02</td>\n",
       "</tr>\n",
       "<tr>\n",
       "  <th>Date:</th>             <td>Wed, 17 Aug 2022</td> <th>  Prob (F-statistic):</th>          <td>3.91e-07</td>\n",
       "</tr>\n",
       "<tr>\n",
       "  <th>Time:</th>                 <td>18:44:32</td>     <th>  Log-Likelihood:    </th>          <td> -29.192</td>\n",
       "</tr>\n",
       "<tr>\n",
       "  <th>No. Observations:</th>      <td>    20</td>      <th>  AIC:               </th>          <td>   60.38</td>\n",
       "</tr>\n",
       "<tr>\n",
       "  <th>Df Residuals:</th>          <td>    19</td>      <th>  BIC:               </th>          <td>   61.38</td>\n",
       "</tr>\n",
       "<tr>\n",
       "  <th>Df Model:</th>              <td>     1</td>      <th>                     </th>              <td> </td>   \n",
       "</tr>\n",
       "<tr>\n",
       "  <th>Covariance Type:</th>      <td>nonrobust</td>    <th>                     </th>              <td> </td>   \n",
       "</tr>\n",
       "</table>\n",
       "<table class=\"simpletable\">\n",
       "<tr>\n",
       "   <td></td>     <th>coef</th>     <th>std err</th>      <th>t</th>      <th>P>|t|</th>  <th>[0.025</th>    <th>0.975]</th>  \n",
       "</tr>\n",
       "<tr>\n",
       "  <th>X2</th> <td>    1.3233</td> <td>    0.175</td> <td>    7.551</td> <td> 0.000</td> <td>    0.957</td> <td>    1.690</td>\n",
       "</tr>\n",
       "</table>\n",
       "<table class=\"simpletable\">\n",
       "<tr>\n",
       "  <th>Omnibus:</th>       <td> 1.027</td> <th>  Durbin-Watson:     </th> <td>   1.932</td>\n",
       "</tr>\n",
       "<tr>\n",
       "  <th>Prob(Omnibus):</th> <td> 0.598</td> <th>  Jarque-Bera (JB):  </th> <td>   0.939</td>\n",
       "</tr>\n",
       "<tr>\n",
       "  <th>Skew:</th>          <td>-0.352</td> <th>  Prob(JB):          </th> <td>   0.625</td>\n",
       "</tr>\n",
       "<tr>\n",
       "  <th>Kurtosis:</th>      <td> 2.206</td> <th>  Cond. No.          </th> <td>    1.00</td>\n",
       "</tr>\n",
       "</table><br/><br/>Notes:<br/>[1] R² is computed without centering (uncentered) since the model does not contain a constant.<br/>[2] Standard Errors assume that the covariance matrix of the errors is correctly specified."
      ],
      "text/plain": [
       "<class 'statsmodels.iolib.summary.Summary'>\n",
       "\"\"\"\n",
       "                                 OLS Regression Results                                \n",
       "=======================================================================================\n",
       "Dep. Variable:                     X1   R-squared (uncentered):                   0.750\n",
       "Model:                            OLS   Adj. R-squared (uncentered):              0.737\n",
       "Method:                 Least Squares   F-statistic:                              57.02\n",
       "Date:                Wed, 17 Aug 2022   Prob (F-statistic):                    3.91e-07\n",
       "Time:                        18:44:32   Log-Likelihood:                         -29.192\n",
       "No. Observations:                  20   AIC:                                      60.38\n",
       "Df Residuals:                      19   BIC:                                      61.38\n",
       "Df Model:                           1                                                  \n",
       "Covariance Type:            nonrobust                                                  \n",
       "==============================================================================\n",
       "                 coef    std err          t      P>|t|      [0.025      0.975]\n",
       "------------------------------------------------------------------------------\n",
       "X2             1.3233      0.175      7.551      0.000       0.957       1.690\n",
       "==============================================================================\n",
       "Omnibus:                        1.027   Durbin-Watson:                   1.932\n",
       "Prob(Omnibus):                  0.598   Jarque-Bera (JB):                0.939\n",
       "Skew:                          -0.352   Prob(JB):                        0.625\n",
       "Kurtosis:                       2.206   Cond. No.                         1.00\n",
       "==============================================================================\n",
       "\n",
       "Notes:\n",
       "[1] R² is computed without centering (uncentered) since the model does not contain a constant.\n",
       "[2] Standard Errors assume that the covariance matrix of the errors is correctly specified.\n",
       "\"\"\""
      ]
     },
     "execution_count": 27,
     "metadata": {},
     "output_type": "execute_result"
    }
   ],
   "source": [
    "modelo_df_ = sm.OLS(data['X1'], data['X2'])\n",
    "\n",
    "reultado_df_ = modelo_df_.fit()\n",
    "reultado_df_.summary()"
   ]
  },
  {
   "cell_type": "code",
   "execution_count": 30,
   "id": "2fa564ef",
   "metadata": {
    "scrolled": false
   },
   "outputs": [
    {
     "data": {
      "text/plain": [
       "X2    1.323292\n",
       "dtype: float64"
      ]
     },
     "execution_count": 30,
     "metadata": {},
     "output_type": "execute_result"
    }
   ],
   "source": [
    "reultado_df_.params"
   ]
  },
  {
   "cell_type": "markdown",
   "id": "ca3ff2d9",
   "metadata": {},
   "source": [
    "### Fórmula"
   ]
  },
  {
   "cell_type": "code",
   "execution_count": 31,
   "id": "3d202bd1",
   "metadata": {},
   "outputs": [],
   "source": [
    "import statsmodels.formula.api as smf"
   ]
  },
  {
   "cell_type": "code",
   "execution_count": 34,
   "id": "20f1c158",
   "metadata": {},
   "outputs": [
    {
     "data": {
      "text/plain": [
       "<statsmodels.regression.linear_model.OLS at 0x199d5d99190>"
      ]
     },
     "execution_count": 34,
     "metadata": {},
     "output_type": "execute_result"
    }
   ],
   "source": [
    "datos = data.copy()\n",
    "modelo_3 = smf.ols('X1 ~ X2', data=datos)\n",
    "modelo_3"
   ]
  },
  {
   "cell_type": "code",
   "execution_count": 35,
   "id": "eb7b057a",
   "metadata": {},
   "outputs": [
    {
     "data": {
      "text/html": [
       "<table class=\"simpletable\">\n",
       "<caption>OLS Regression Results</caption>\n",
       "<tr>\n",
       "  <th>Dep. Variable:</th>           <td>X2</td>        <th>  R-squared:         </th> <td>   0.750</td>\n",
       "</tr>\n",
       "<tr>\n",
       "  <th>Model:</th>                   <td>OLS</td>       <th>  Adj. R-squared:    </th> <td>   0.736</td>\n",
       "</tr>\n",
       "<tr>\n",
       "  <th>Method:</th>             <td>Least Squares</td>  <th>  F-statistic:       </th> <td>   54.02</td>\n",
       "</tr>\n",
       "<tr>\n",
       "  <th>Date:</th>             <td>Wed, 17 Aug 2022</td> <th>  Prob (F-statistic):</th> <td>8.02e-07</td>\n",
       "</tr>\n",
       "<tr>\n",
       "  <th>Time:</th>                 <td>18:50:47</td>     <th>  Log-Likelihood:    </th> <td> -20.713</td>\n",
       "</tr>\n",
       "<tr>\n",
       "  <th>No. Observations:</th>      <td>    20</td>      <th>  AIC:               </th> <td>   45.43</td>\n",
       "</tr>\n",
       "<tr>\n",
       "  <th>Df Residuals:</th>          <td>    18</td>      <th>  BIC:               </th> <td>   47.42</td>\n",
       "</tr>\n",
       "<tr>\n",
       "  <th>Df Model:</th>              <td>     1</td>      <th>                     </th>     <td> </td>   \n",
       "</tr>\n",
       "<tr>\n",
       "  <th>Covariance Type:</th>      <td>nonrobust</td>    <th>                     </th>     <td> </td>   \n",
       "</tr>\n",
       "</table>\n",
       "<table class=\"simpletable\">\n",
       "<tr>\n",
       "      <td></td>         <th>coef</th>     <th>std err</th>      <th>t</th>      <th>P>|t|</th>  <th>[0.025</th>    <th>0.975]</th>  \n",
       "</tr>\n",
       "<tr>\n",
       "  <th>Intercept</th> <td>-5.274e-16</td> <td>    0.161</td> <td>-3.28e-15</td> <td> 1.000</td> <td>   -0.338</td> <td>    0.338</td>\n",
       "</tr>\n",
       "<tr>\n",
       "  <th>X1</th>        <td>    0.5668</td> <td>    0.077</td> <td>    7.350</td> <td> 0.000</td> <td>    0.405</td> <td>    0.729</td>\n",
       "</tr>\n",
       "</table>\n",
       "<table class=\"simpletable\">\n",
       "<tr>\n",
       "  <th>Omnibus:</th>       <td> 1.904</td> <th>  Durbin-Watson:     </th> <td>   1.356</td>\n",
       "</tr>\n",
       "<tr>\n",
       "  <th>Prob(Omnibus):</th> <td> 0.386</td> <th>  Jarque-Bera (JB):  </th> <td>   1.243</td>\n",
       "</tr>\n",
       "<tr>\n",
       "  <th>Skew:</th>          <td> 0.606</td> <th>  Prob(JB):          </th> <td>   0.537</td>\n",
       "</tr>\n",
       "<tr>\n",
       "  <th>Kurtosis:</th>      <td> 2.847</td> <th>  Cond. No.          </th> <td>    2.08</td>\n",
       "</tr>\n",
       "</table><br/><br/>Notes:<br/>[1] Standard Errors assume that the covariance matrix of the errors is correctly specified."
      ],
      "text/plain": [
       "<class 'statsmodels.iolib.summary.Summary'>\n",
       "\"\"\"\n",
       "                            OLS Regression Results                            \n",
       "==============================================================================\n",
       "Dep. Variable:                     X2   R-squared:                       0.750\n",
       "Model:                            OLS   Adj. R-squared:                  0.736\n",
       "Method:                 Least Squares   F-statistic:                     54.02\n",
       "Date:                Wed, 17 Aug 2022   Prob (F-statistic):           8.02e-07\n",
       "Time:                        18:50:47   Log-Likelihood:                -20.713\n",
       "No. Observations:                  20   AIC:                             45.43\n",
       "Df Residuals:                      18   BIC:                             47.42\n",
       "Df Model:                           1                                         \n",
       "Covariance Type:            nonrobust                                         \n",
       "==============================================================================\n",
       "                 coef    std err          t      P>|t|      [0.025      0.975]\n",
       "------------------------------------------------------------------------------\n",
       "Intercept  -5.274e-16      0.161  -3.28e-15      1.000      -0.338       0.338\n",
       "X1             0.5668      0.077      7.350      0.000       0.405       0.729\n",
       "==============================================================================\n",
       "Omnibus:                        1.904   Durbin-Watson:                   1.356\n",
       "Prob(Omnibus):                  0.386   Jarque-Bera (JB):                1.243\n",
       "Skew:                           0.606   Prob(JB):                        0.537\n",
       "Kurtosis:                       2.847   Cond. No.                         2.08\n",
       "==============================================================================\n",
       "\n",
       "Notes:\n",
       "[1] Standard Errors assume that the covariance matrix of the errors is correctly specified.\n",
       "\"\"\""
      ]
     },
     "execution_count": 35,
     "metadata": {},
     "output_type": "execute_result"
    }
   ],
   "source": [
    "resultado_3 = modelo_3.fit()\n",
    "resultado_3.summary()"
   ]
  },
  {
   "cell_type": "code",
   "execution_count": 36,
   "id": "a406f3b9",
   "metadata": {},
   "outputs": [
    {
     "data": {
      "text/html": [
       "<table class=\"simpletable\">\n",
       "<caption>OLS Regression Results</caption>\n",
       "<tr>\n",
       "  <th>Dep. Variable:</th>           <td>X1</td>        <th>  R-squared (uncentered):</th>      <td>   0.750</td>\n",
       "</tr>\n",
       "<tr>\n",
       "  <th>Model:</th>                   <td>OLS</td>       <th>  Adj. R-squared (uncentered):</th> <td>   0.737</td>\n",
       "</tr>\n",
       "<tr>\n",
       "  <th>Method:</th>             <td>Least Squares</td>  <th>  F-statistic:       </th>          <td>   57.02</td>\n",
       "</tr>\n",
       "<tr>\n",
       "  <th>Date:</th>             <td>Wed, 17 Aug 2022</td> <th>  Prob (F-statistic):</th>          <td>3.91e-07</td>\n",
       "</tr>\n",
       "<tr>\n",
       "  <th>Time:</th>                 <td>18:53:58</td>     <th>  Log-Likelihood:    </th>          <td> -29.192</td>\n",
       "</tr>\n",
       "<tr>\n",
       "  <th>No. Observations:</th>      <td>    20</td>      <th>  AIC:               </th>          <td>   60.38</td>\n",
       "</tr>\n",
       "<tr>\n",
       "  <th>Df Residuals:</th>          <td>    19</td>      <th>  BIC:               </th>          <td>   61.38</td>\n",
       "</tr>\n",
       "<tr>\n",
       "  <th>Df Model:</th>              <td>     1</td>      <th>                     </th>              <td> </td>   \n",
       "</tr>\n",
       "<tr>\n",
       "  <th>Covariance Type:</th>      <td>nonrobust</td>    <th>                     </th>              <td> </td>   \n",
       "</tr>\n",
       "</table>\n",
       "<table class=\"simpletable\">\n",
       "<tr>\n",
       "   <td></td>     <th>coef</th>     <th>std err</th>      <th>t</th>      <th>P>|t|</th>  <th>[0.025</th>    <th>0.975]</th>  \n",
       "</tr>\n",
       "<tr>\n",
       "  <th>X2</th> <td>    1.3233</td> <td>    0.175</td> <td>    7.551</td> <td> 0.000</td> <td>    0.957</td> <td>    1.690</td>\n",
       "</tr>\n",
       "</table>\n",
       "<table class=\"simpletable\">\n",
       "<tr>\n",
       "  <th>Omnibus:</th>       <td> 1.027</td> <th>  Durbin-Watson:     </th> <td>   1.932</td>\n",
       "</tr>\n",
       "<tr>\n",
       "  <th>Prob(Omnibus):</th> <td> 0.598</td> <th>  Jarque-Bera (JB):  </th> <td>   0.939</td>\n",
       "</tr>\n",
       "<tr>\n",
       "  <th>Skew:</th>          <td>-0.352</td> <th>  Prob(JB):          </th> <td>   0.625</td>\n",
       "</tr>\n",
       "<tr>\n",
       "  <th>Kurtosis:</th>      <td> 2.206</td> <th>  Cond. No.          </th> <td>    1.00</td>\n",
       "</tr>\n",
       "</table><br/><br/>Notes:<br/>[1] R² is computed without centering (uncentered) since the model does not contain a constant.<br/>[2] Standard Errors assume that the covariance matrix of the errors is correctly specified."
      ],
      "text/plain": [
       "<class 'statsmodels.iolib.summary.Summary'>\n",
       "\"\"\"\n",
       "                                 OLS Regression Results                                \n",
       "=======================================================================================\n",
       "Dep. Variable:                     X1   R-squared (uncentered):                   0.750\n",
       "Model:                            OLS   Adj. R-squared (uncentered):              0.737\n",
       "Method:                 Least Squares   F-statistic:                              57.02\n",
       "Date:                Wed, 17 Aug 2022   Prob (F-statistic):                    3.91e-07\n",
       "Time:                        18:53:58   Log-Likelihood:                         -29.192\n",
       "No. Observations:                  20   AIC:                                      60.38\n",
       "Df Residuals:                      19   BIC:                                      61.38\n",
       "Df Model:                           1                                                  \n",
       "Covariance Type:            nonrobust                                                  \n",
       "==============================================================================\n",
       "                 coef    std err          t      P>|t|      [0.025      0.975]\n",
       "------------------------------------------------------------------------------\n",
       "X2             1.3233      0.175      7.551      0.000       0.957       1.690\n",
       "==============================================================================\n",
       "Omnibus:                        1.027   Durbin-Watson:                   1.932\n",
       "Prob(Omnibus):                  0.598   Jarque-Bera (JB):                0.939\n",
       "Skew:                          -0.352   Prob(JB):                        0.625\n",
       "Kurtosis:                       2.206   Cond. No.                         1.00\n",
       "==============================================================================\n",
       "\n",
       "Notes:\n",
       "[1] R² is computed without centering (uncentered) since the model does not contain a constant.\n",
       "[2] Standard Errors assume that the covariance matrix of the errors is correctly specified.\n",
       "\"\"\""
      ]
     },
     "execution_count": 36,
     "metadata": {},
     "output_type": "execute_result"
    }
   ],
   "source": [
    "datos = data.copy()\n",
    "modelo_4 = smf.ols('X1 ~ X2 - 1', data=datos)\n",
    "resultado_4 = modelo_4.fit()\n",
    "resultado_4.summary()"
   ]
  }
 ],
 "metadata": {
  "kernelspec": {
   "display_name": "Python 3 (ipykernel)",
   "language": "python",
   "name": "python3"
  },
  "language_info": {
   "codemirror_mode": {
    "name": "ipython",
    "version": 3
   },
   "file_extension": ".py",
   "mimetype": "text/x-python",
   "name": "python",
   "nbconvert_exporter": "python",
   "pygments_lexer": "ipython3",
   "version": "3.9.7"
  }
 },
 "nbformat": 4,
 "nbformat_minor": 5
}
