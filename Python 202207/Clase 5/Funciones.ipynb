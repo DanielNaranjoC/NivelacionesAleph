{
 "cells": [
  {
   "cell_type": "markdown",
   "id": "4560e05c",
   "metadata": {},
   "source": [
    "# Funciones que retornan objetos\n",
    "## Algunas funciones a revisar"
   ]
  },
  {
   "cell_type": "code",
   "execution_count": 3,
   "id": "b13bda40",
   "metadata": {},
   "outputs": [],
   "source": [
    "def EsPrimo(n):\n",
    "    if n < 2:\n",
    "        return False\n",
    "    primo = True\n",
    "    for i in range(2, n):\n",
    "        if n % i == 0:\n",
    "            primo = False\n",
    "            break\n",
    "    return primo"
   ]
  },
  {
   "cell_type": "code",
   "execution_count": 4,
   "id": "c80442a0",
   "metadata": {},
   "outputs": [
    {
     "name": "stdout",
     "output_type": "stream",
     "text": [
      "2\n",
      "3\n",
      "5\n",
      "7\n",
      "11\n",
      "13\n",
      "17\n",
      "19\n"
     ]
    }
   ],
   "source": [
    "for i in range(20):\n",
    "    if EsPrimo(i):\n",
    "        print(i)"
   ]
  },
  {
   "cell_type": "code",
   "execution_count": 5,
   "id": "0606cac9",
   "metadata": {},
   "outputs": [
    {
     "name": "stdout",
     "output_type": "stream",
     "text": [
      "Sumado:  9\n",
      "9\n"
     ]
    }
   ],
   "source": [
    "def suma(x, y):\n",
    "    print('Sumado: ', x + y)\n",
    "    return x + y\n",
    "x = suma(4,5)\n",
    "print(x)"
   ]
  },
  {
   "cell_type": "code",
   "execution_count": 11,
   "id": "4e251c53",
   "metadata": {},
   "outputs": [
    {
     "name": "stdout",
     "output_type": "stream",
     "text": [
      "25\t25*\t*625\t625\t625\tFin"
     ]
    }
   ],
   "source": [
    "def potencia(x, y=2):\n",
    "    return x ** y\n",
    "print(potencia(5, 2), end='\\t')\n",
    "print(potencia(5), end='*\\t*')\n",
    "print(potencia(5, y=4), end='\\t')\n",
    "print(potencia(y=4, x=5), end='\\t')\n",
    "print(potencia(5, 4), end='\\tFin')"
   ]
  },
  {
   "cell_type": "markdown",
   "id": "95a4f3c6",
   "metadata": {},
   "source": [
    "## Ejercicios\n",
    "### Ejercicios con números primos"
   ]
  },
  {
   "cell_type": "markdown",
   "id": "b0046417",
   "metadata": {},
   "source": [
    "**Escribir una función que retorne una lista con los primos menores que n**"
   ]
  },
  {
   "cell_type": "code",
   "execution_count": 13,
   "id": "a9ac7748",
   "metadata": {},
   "outputs": [
    {
     "name": "stdout",
     "output_type": "stream",
     "text": [
      "[2, 3, 5, 7, 11, 13, 17, 19]\n"
     ]
    }
   ],
   "source": [
    "def PrimoM(n):\n",
    "    lista_p = []\n",
    "    for i in range(n):\n",
    "        if EsPrimo(i):\n",
    "            lista_p.append(i)\n",
    "    return lista_p\n",
    "print(PrimoM(20))"
   ]
  },
  {
   "cell_type": "markdown",
   "id": "63c7d79c",
   "metadata": {},
   "source": [
    "**Crear una función que busque dos números en una lista tales que sumanos den n**\n",
    "\n",
    "lista = [1,2,3,4,5]\n",
    "n = 6\n",
    "\n",
    "Los números son: [2, 4]"
   ]
  },
  {
   "cell_type": "code",
   "execution_count": 16,
   "id": "914b9fc4",
   "metadata": {},
   "outputs": [
    {
     "name": "stdout",
     "output_type": "stream",
     "text": [
      "[1, 5]\n",
      "[4, 5]\n",
      "[]\n"
     ]
    }
   ],
   "source": [
    "def BuscarL(lista, n):\n",
    "    for i in lista:\n",
    "        for j in lista:\n",
    "            if i + j == n:\n",
    "                return [i, j]\n",
    "    return []\n",
    "print(BuscarL([1,2,3,4,5], 6))\n",
    "print(BuscarL([1,2,3,4,5], 9))\n",
    "print(BuscarL([1,2,3,4,5], 20))"
   ]
  },
  {
   "cell_type": "markdown",
   "id": "477dfbce",
   "metadata": {},
   "source": [
    "**Escribir una función que reciba un número \"n\" y busque dos números primos tales que sumados den \"n\"**\n",
    "\n",
    "n = 10\n",
    "\n",
    "Devuelva: [3, 7]"
   ]
  }
 ],
 "metadata": {
  "kernelspec": {
   "display_name": "Python 3 (ipykernel)",
   "language": "python",
   "name": "python3"
  },
  "language_info": {
   "codemirror_mode": {
    "name": "ipython",
    "version": 3
   },
   "file_extension": ".py",
   "mimetype": "text/x-python",
   "name": "python",
   "nbconvert_exporter": "python",
   "pygments_lexer": "ipython3",
   "version": "3.9.7"
  }
 },
 "nbformat": 4,
 "nbformat_minor": 5
}
