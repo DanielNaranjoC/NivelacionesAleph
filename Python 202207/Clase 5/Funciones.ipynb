{
 "cells": [
  {
   "cell_type": "markdown",
   "id": "2f088987",
   "metadata": {},
   "source": [
    "# Funciones que retornan objetos\n",
    "## Algunas funciones a revisar"
   ]
  },
  {
   "cell_type": "code",
   "execution_count": 1,
   "id": "78a27675",
   "metadata": {},
   "outputs": [],
   "source": [
    "def EsPrimo(n):\n",
    "    if n < 2:\n",
    "        return False\n",
    "    primo = True\n",
    "    for i in range(2, n):\n",
    "        if n % i == 0:\n",
    "            primo = False\n",
    "            break\n",
    "    return primo"
   ]
  },
  {
   "cell_type": "code",
   "execution_count": 2,
   "id": "da3f8092",
   "metadata": {},
   "outputs": [
    {
     "name": "stdout",
     "output_type": "stream",
     "text": [
      "2\n",
      "3\n",
      "5\n",
      "7\n",
      "11\n",
      "13\n",
      "17\n",
      "19\n"
     ]
    }
   ],
   "source": [
    "for i in range(20):\n",
    "    if EsPrimo(i):\n",
    "        print(i)"
   ]
  },
  {
   "cell_type": "code",
   "execution_count": 3,
   "id": "3ea060b4",
   "metadata": {},
   "outputs": [
    {
     "name": "stdout",
     "output_type": "stream",
     "text": [
      "Sumado:  9\n",
      "9\n"
     ]
    }
   ],
   "source": [
    "def suma(x, y):\n",
    "    print('Sumado: ', x + y)\n",
    "    return x + y\n",
    "x = suma(4,5)\n",
    "print(x)"
   ]
  },
  {
   "cell_type": "code",
   "execution_count": 4,
   "id": "be874c9c",
   "metadata": {},
   "outputs": [
    {
     "name": "stdout",
     "output_type": "stream",
     "text": [
      "25\t25*\t*625\t625\t625\tFin"
     ]
    }
   ],
   "source": [
    "def potencia(x, y=2):\n",
    "    return x ** y\n",
    "print(potencia(5, 2), end='\\t')\n",
    "print(potencia(5), end='*\\t*')\n",
    "print(potencia(5, y=4), end='\\t')\n",
    "print(potencia(y=4, x=5), end='\\t')\n",
    "print(potencia(5, 4), end='\\tFin')"
   ]
  },
  {
   "cell_type": "markdown",
   "id": "1b7c3e47",
   "metadata": {},
   "source": [
    "## Ejercicios\n",
    "### Ejercicios con números primos"
   ]
  },
  {
   "cell_type": "markdown",
   "id": "b7948aed",
   "metadata": {},
   "source": [
    "**Escribir una función que retorne una lista con los primos menores que n**"
   ]
  },
  {
   "cell_type": "code",
   "execution_count": 5,
   "id": "4d896d4f",
   "metadata": {},
   "outputs": [
    {
     "name": "stdout",
     "output_type": "stream",
     "text": [
      "[2, 3, 5, 7, 11, 13, 17, 19]\n"
     ]
    }
   ],
   "source": [
    "def PrimoM(n):\n",
    "    \"\"\"\n",
    "    La función retorna una lista con los primos menores que n\n",
    "    \"\"\"\n",
    "    lista_p = []\n",
    "    for i in range(n):\n",
    "        if EsPrimo(i):\n",
    "            lista_p.append(i)\n",
    "    return lista_p\n",
    "print(PrimoM(20))"
   ]
  },
  {
   "cell_type": "markdown",
   "id": "718e6212",
   "metadata": {},
   "source": [
    "**Crear una función que busque dos números en una lista tales que sumanos den n**\n",
    "\n",
    "lista = [1,2,3,4,5]\n",
    "n = 6\n",
    "\n",
    "Los números son: [2, 4]"
   ]
  },
  {
   "cell_type": "code",
   "execution_count": 6,
   "id": "728e7dc6",
   "metadata": {},
   "outputs": [
    {
     "name": "stdout",
     "output_type": "stream",
     "text": [
      "[1, 5]\n",
      "[4, 5]\n",
      "[]\n"
     ]
    }
   ],
   "source": [
    "def BuscarL(lista, n):\n",
    "    \"\"\"\n",
    "    La función retorna una lista con dos números tales que sumados den n y estén en la lista ingresada.\n",
    "    Si no encuentra dichos números, retorna una lista vacía.\n",
    "    \"\"\"\n",
    "    for i in lista:\n",
    "        for j in lista:\n",
    "            if i + j == n:\n",
    "                return [i, j]\n",
    "    return []\n",
    "print(BuscarL([1,2,3,4,5], 6))\n",
    "print(BuscarL([1,2,3,4,5], 9))\n",
    "print(BuscarL([1,2,3,4,5], 20))"
   ]
  },
  {
   "cell_type": "markdown",
   "id": "7e79ef77",
   "metadata": {},
   "source": [
    "**Escribir una función que reciba un número \"n\" y busque dos números primos tales que sumados den \"n\"**\n",
    "\n",
    "n = 10\n",
    "\n",
    "Devuelva: [3, 7]"
   ]
  },
  {
   "cell_type": "code",
   "execution_count": 7,
   "id": "63adc3bc",
   "metadata": {},
   "outputs": [
    {
     "name": "stdout",
     "output_type": "stream",
     "text": [
      "0 :  []\n",
      "1 :  []\n",
      "2 :  []\n",
      "3 :  []\n",
      "4 :  [2, 2]\n",
      "5 :  [2, 3]\n",
      "6 :  [3, 3]\n",
      "7 :  [2, 5]\n",
      "8 :  [3, 5]\n",
      "9 :  [2, 7]\n",
      "10 :  [3, 7]\n",
      "11 :  []\n",
      "12 :  [5, 7]\n",
      "13 :  [2, 11]\n",
      "14 :  [3, 11]\n",
      "15 :  [2, 13]\n",
      "16 :  [3, 13]\n",
      "17 :  []\n",
      "18 :  [5, 13]\n",
      "19 :  [2, 17]\n"
     ]
    }
   ],
   "source": [
    "def BuscarPrimos(n):\n",
    "    \"\"\"\n",
    "    Esta función retorna dos números primos tales que sumados den n, si no los encuentra retorna una lista vacía\n",
    "    \"\"\"\n",
    "    lista = PrimoM(n)\n",
    "    return BuscarL(lista, n)\n",
    "for i in range(20):\n",
    "    print(i, ': ', BuscarPrimos(i))"
   ]
  },
  {
   "cell_type": "code",
   "execution_count": 8,
   "id": "5c96d3df",
   "metadata": {},
   "outputs": [
    {
     "name": "stdout",
     "output_type": "stream",
     "text": [
      "Help on built-in function print in module builtins:\n",
      "\n",
      "print(...)\n",
      "    print(value, ..., sep=' ', end='\\n', file=sys.stdout, flush=False)\n",
      "    \n",
      "    Prints the values to a stream, or to sys.stdout by default.\n",
      "    Optional keyword arguments:\n",
      "    file:  a file-like object (stream); defaults to the current sys.stdout.\n",
      "    sep:   string inserted between values, default a space.\n",
      "    end:   string appended after the last value, default a newline.\n",
      "    flush: whether to forcibly flush the stream.\n",
      "\n"
     ]
    }
   ],
   "source": [
    "help(print)"
   ]
  },
  {
   "cell_type": "code",
   "execution_count": 9,
   "id": "4cc5b7cd",
   "metadata": {},
   "outputs": [
    {
     "name": "stdout",
     "output_type": "stream",
     "text": [
      "Help on function BuscarPrimos in module __main__:\n",
      "\n",
      "BuscarPrimos(n)\n",
      "    Esta función retorna dos números primos tales que sumados den n, si no los encuentra retorna una lista vacía\n",
      "\n"
     ]
    }
   ],
   "source": [
    "help(BuscarPrimos)"
   ]
  },
  {
   "cell_type": "code",
   "execution_count": 10,
   "id": "78508265",
   "metadata": {},
   "outputs": [
    {
     "name": "stdout",
     "output_type": "stream",
     "text": [
      "Help on function BuscarL in module __main__:\n",
      "\n",
      "BuscarL(lista, n)\n",
      "    La función retorna una lista con dos números tales que sumados den n y estén en la lista ingresada.\n",
      "    Si no encuentra dichos números, retorna una lista vacía.\n",
      "\n"
     ]
    }
   ],
   "source": [
    "help(BuscarL)"
   ]
  },
  {
   "cell_type": "markdown",
   "id": "42af5b21",
   "metadata": {},
   "source": [
    "## Funciones como objeto"
   ]
  },
  {
   "cell_type": "code",
   "execution_count": 11,
   "id": "4ab7d3b8",
   "metadata": {},
   "outputs": [
    {
     "name": "stdout",
     "output_type": "stream",
     "text": [
      "5 5\n"
     ]
    }
   ],
   "source": [
    "x = 5\n",
    "y = x\n",
    "print(x, y)"
   ]
  },
  {
   "cell_type": "code",
   "execution_count": 12,
   "id": "19205178",
   "metadata": {},
   "outputs": [
    {
     "name": "stdout",
     "output_type": "stream",
     "text": [
      "Hola\n"
     ]
    }
   ],
   "source": [
    "imprimir = print\n",
    "imprimir('Hola')"
   ]
  },
  {
   "cell_type": "code",
   "execution_count": 13,
   "id": "a6078bd9",
   "metadata": {},
   "outputs": [
    {
     "data": {
      "text/plain": [
       "<function print>"
      ]
     },
     "execution_count": 13,
     "metadata": {},
     "output_type": "execute_result"
    }
   ],
   "source": [
    "imprimir"
   ]
  },
  {
   "cell_type": "code",
   "execution_count": 14,
   "id": "66e00c16",
   "metadata": {},
   "outputs": [
    {
     "data": {
      "text/plain": [
       "<function print>"
      ]
     },
     "execution_count": 14,
     "metadata": {},
     "output_type": "execute_result"
    }
   ],
   "source": [
    "print"
   ]
  },
  {
   "cell_type": "code",
   "execution_count": 15,
   "id": "b7b26bb3",
   "metadata": {},
   "outputs": [
    {
     "name": "stdout",
     "output_type": "stream",
     "text": [
      "2\n",
      "3\n",
      "5\n"
     ]
    }
   ],
   "source": [
    "EP = EsPrimo\n",
    "for i in range(6):\n",
    "    if EP(i):\n",
    "        print(i)"
   ]
  },
  {
   "cell_type": "code",
   "execution_count": 16,
   "id": "b6db9064",
   "metadata": {},
   "outputs": [
    {
     "data": {
      "text/plain": [
       "<function __main__.EsPrimo(n)>"
      ]
     },
     "execution_count": 16,
     "metadata": {},
     "output_type": "execute_result"
    }
   ],
   "source": [
    "EP"
   ]
  },
  {
   "cell_type": "code",
   "execution_count": 17,
   "id": "70fe52f0",
   "metadata": {},
   "outputs": [
    {
     "name": "stdout",
     "output_type": "stream",
     "text": [
      "0\n",
      "0\n",
      "10239\n",
      "-9\n",
      "5\n",
      "0\n"
     ]
    },
    {
     "ename": "TypeError",
     "evalue": "'int' object is not callable",
     "output_type": "error",
     "traceback": [
      "\u001b[1;31m---------------------------------------------------------------------------\u001b[0m",
      "\u001b[1;31mTypeError\u001b[0m                                 Traceback (most recent call last)",
      "\u001b[1;32m~\\AppData\\Local\\Temp/ipykernel_21928/2588853284.py\u001b[0m in \u001b[0;36m<module>\u001b[1;34m\u001b[0m\n\u001b[0;32m     20\u001b[0m \u001b[0mprint\u001b[0m\u001b[1;33m(\u001b[0m\u001b[0msumar\u001b[0m\u001b[1;33m(\u001b[0m\u001b[0mval1\u001b[0m\u001b[1;33m,\u001b[0m \u001b[1;36m10\u001b[0m\u001b[1;33m,\u001b[0m \u001b[1;33m-\u001b[0m\u001b[1;36m5\u001b[0m\u001b[1;33m)\u001b[0m\u001b[1;33m)\u001b[0m\u001b[1;33m\u001b[0m\u001b[1;33m\u001b[0m\u001b[0m\n\u001b[0;32m     21\u001b[0m \u001b[0mprint\u001b[0m\u001b[1;33m(\u001b[0m\u001b[0msumar\u001b[0m\u001b[1;33m(\u001b[0m\u001b[0mval1\u001b[0m\u001b[1;33m,\u001b[0m \u001b[1;36m10234\u001b[0m\u001b[1;33m,\u001b[0m \u001b[1;36m5\u001b[0m\u001b[1;33m)\u001b[0m\u001b[1;33m)\u001b[0m\u001b[1;33m\u001b[0m\u001b[1;33m\u001b[0m\u001b[0m\n\u001b[1;32m---> 22\u001b[1;33m \u001b[0mprint\u001b[0m\u001b[1;33m(\u001b[0m\u001b[0msumar\u001b[0m\u001b[1;33m(\u001b[0m\u001b[1;36m5\u001b[0m\u001b[1;33m,\u001b[0m \u001b[1;36m10234\u001b[0m\u001b[1;33m,\u001b[0m \u001b[1;36m5\u001b[0m\u001b[1;33m)\u001b[0m\u001b[1;33m)\u001b[0m\u001b[1;33m\u001b[0m\u001b[1;33m\u001b[0m\u001b[0m\n\u001b[0m",
      "\u001b[1;32m~\\AppData\\Local\\Temp/ipykernel_21928/2588853284.py\u001b[0m in \u001b[0;36msumar\u001b[1;34m(validar, x, y)\u001b[0m\n\u001b[0;32m      1\u001b[0m \u001b[1;32mdef\u001b[0m \u001b[0msumar\u001b[0m\u001b[1;33m(\u001b[0m\u001b[0mvalidar\u001b[0m\u001b[1;33m,\u001b[0m \u001b[0mx\u001b[0m\u001b[1;33m,\u001b[0m \u001b[0my\u001b[0m\u001b[1;33m)\u001b[0m\u001b[1;33m:\u001b[0m\u001b[1;33m\u001b[0m\u001b[1;33m\u001b[0m\u001b[0m\n\u001b[1;32m----> 2\u001b[1;33m     \u001b[1;32mif\u001b[0m \u001b[0mvalidar\u001b[0m\u001b[1;33m(\u001b[0m\u001b[0mx\u001b[0m\u001b[1;33m)\u001b[0m \u001b[1;32mand\u001b[0m \u001b[0mvalidar\u001b[0m\u001b[1;33m(\u001b[0m\u001b[0my\u001b[0m\u001b[1;33m)\u001b[0m\u001b[1;33m:\u001b[0m\u001b[1;33m\u001b[0m\u001b[1;33m\u001b[0m\u001b[0m\n\u001b[0m\u001b[0;32m      3\u001b[0m         \u001b[1;32mreturn\u001b[0m \u001b[0mx\u001b[0m \u001b[1;33m+\u001b[0m \u001b[0my\u001b[0m\u001b[1;33m\u001b[0m\u001b[1;33m\u001b[0m\u001b[0m\n\u001b[0;32m      4\u001b[0m     \u001b[1;32melse\u001b[0m\u001b[1;33m:\u001b[0m\u001b[1;33m\u001b[0m\u001b[1;33m\u001b[0m\u001b[0m\n\u001b[0;32m      5\u001b[0m         \u001b[1;32mreturn\u001b[0m \u001b[1;36m0\u001b[0m\u001b[1;33m\u001b[0m\u001b[1;33m\u001b[0m\u001b[0m\n",
      "\u001b[1;31mTypeError\u001b[0m: 'int' object is not callable"
     ]
    }
   ],
   "source": [
    "def sumar(validar, x, y):\n",
    "    if validar(x) and validar(y):\n",
    "        return x + y\n",
    "    else:\n",
    "        return 0\n",
    "def aux1(x):\n",
    "    if x > 0:\n",
    "        return True\n",
    "    else:\n",
    "        return False\n",
    "print(sumar(aux1, -4, -5))\n",
    "print(sumar(aux1, 10, -5))\n",
    "print(sumar(aux1, 10234, 5))\n",
    "def val1(x):\n",
    "    if not EsPrimo(x):\n",
    "        return True\n",
    "    else:\n",
    "        return False\n",
    "print(sumar(val1, -4, -5))\n",
    "print(sumar(val1, 10, -5))\n",
    "print(sumar(val1, 10234, 5))\n",
    "print(sumar(5, 10234, 5))"
   ]
  },
  {
   "cell_type": "markdown",
   "id": "88f9ff39",
   "metadata": {},
   "source": [
    "## Recursividad\n",
    "Una función que está definicida en función de sí misma"
   ]
  },
  {
   "cell_type": "markdown",
   "id": "973fea60",
   "metadata": {},
   "source": [
    "n! = n * (n-1)!\n",
    "\n",
    "0! = 1"
   ]
  },
  {
   "cell_type": "markdown",
   "id": "36ba83b8",
   "metadata": {},
   "source": [
    "n^k = n * n^(k-1)\n",
    "\n",
    "n ^0 = 1"
   ]
  },
  {
   "cell_type": "markdown",
   "id": "7f080891",
   "metadata": {},
   "source": [
    "Fibonacci_n = Fibonacci_{n-1} + Fibonacci_{n-2}\n",
    "\n",
    "Fibonacci_0 = 0\n",
    "\n",
    "Fibonacci_1 = 1"
   ]
  },
  {
   "cell_type": "code",
   "execution_count": 18,
   "id": "77204ad5",
   "metadata": {},
   "outputs": [
    {
     "name": "stdout",
     "output_type": "stream",
     "text": [
      "0 != 1\n",
      "1 != 1\n",
      "2 != 2\n",
      "3 != 6\n",
      "4 != 24\n",
      "5 != 120\n",
      "6 != 720\n",
      "7 != 5040\n",
      "8 != 40320\n",
      "9 != 362880\n"
     ]
    }
   ],
   "source": [
    "def factorial(n):\n",
    "    if n == 0:\n",
    "        return 1\n",
    "    else:\n",
    "        return n * factorial(n-1)\n",
    "for i in range(10):\n",
    "    print(i, '!=', factorial(i))"
   ]
  },
  {
   "cell_type": "code",
   "execution_count": 19,
   "id": "3116d961",
   "metadata": {},
   "outputs": [
    {
     "name": "stdout",
     "output_type": "stream",
     "text": [
      "Fibonacci_0=0\n",
      "Fibonacci_1=1\n",
      "Fibonacci_2=1\n",
      "Fibonacci_3=2\n",
      "Fibonacci_4=3\n",
      "Fibonacci_5=5\n",
      "Fibonacci_6=8\n",
      "Fibonacci_7=13\n",
      "Fibonacci_8=21\n",
      "Fibonacci_9=34\n"
     ]
    }
   ],
   "source": [
    "def Fibonacci(n):\n",
    "    if n == 0:\n",
    "        return 0\n",
    "    elif n == 1:\n",
    "        return 1\n",
    "    else:\n",
    "        return Fibonacci(n-1) + Fibonacci(n-2)\n",
    "for i in range(10):\n",
    "    print('Fibonacci_', i, '=', Fibonacci(i), sep='')"
   ]
  },
  {
   "cell_type": "markdown",
   "id": "ea0bdafb",
   "metadata": {},
   "source": [
    "## Otros Ejercicios\n"
   ]
  },
  {
   "cell_type": "markdown",
   "id": "a811dc6e",
   "metadata": {},
   "source": [
    "### Métodos numéricos\n",
    "**Raíz cuadrada de a** (a>0)\n",
    "\\begin{equation}\n",
    "x = \\sqrt{a}\\\\\n",
    "x^2 = a\\\\\n",
    "x^2 - a = 0\n",
    "\\end{equation}\n",
    "\n",
    "$$x_i = x_{i-1} - \\frac{x_{i-1}^2-a}{2x_{i-1}}$$\n",
    "error$_i$ = $|x_i^2-a|$\n",
    "\n",
    "*Buscar un $i$ tal que error$_i$<tolerancia*"
   ]
  },
  {
   "cell_type": "code",
   "execution_count": 20,
   "id": "47a6fba3",
   "metadata": {},
   "outputs": [
    {
     "name": "stdout",
     "output_type": "stream",
     "text": [
      "Raíz(0)=0\n",
      "Raíz(1)=1\n",
      "Raíz(2)=1.4142136675623491\n",
      "Raíz(3)=1.7320510395127195\n",
      "Raíz(4)=2.0000001873526045\n",
      "Raíz(5)=2.2360681865820387\n",
      "Raíz(6)=2.4494899280542386\n",
      "Raíz(7)=2.645751457361796\n",
      "Raíz(8)=2.8284272926068246\n",
      "Raíz(9)=3.0000001165269796\n",
      "Raíz(10)=3.162277776733573\n",
      "Raíz(11)=3.3166249012937072\n",
      "Raíz(12)=3.464101758328263\n",
      "Raíz(13)=3.605551401486065\n",
      "Raíz(14)=3.741657495716301\n",
      "Raíz(15)=3.8729834714655698\n",
      "Raíz(16)=4.000000104591169\n",
      "Raíz(17)=4.123105740149037\n",
      "Raíz(18)=4.242640780801176\n",
      "Raíz(19)=4.358899042695895\n",
      "Raíz(0)=0\n",
      "Raíz(1)=1\n",
      "Raíz(2)=1.4142135623732384\n",
      "Raíz(3)=1.732050807569118\n",
      "Raíz(4)=2.0000000000001785\n",
      "Raíz(5)=2.2360679774999284\n",
      "Raíz(6)=2.4494897427833084\n",
      "Raíz(7)=2.645751311064744\n",
      "Raíz(8)=2.828427124746335\n",
      "Raíz(9)=3.0000000000001203\n",
      "Raíz(10)=3.1622776601685123\n",
      "Raíz(11)=3.3166247903555326\n",
      "Raíz(12)=3.464101615137878\n",
      "Raíz(13)=3.6055512754640975\n",
      "Raíz(14)=3.741657386774066\n",
      "Raíz(15)=3.872983346207517\n",
      "Raíz(16)=4.000000000000105\n",
      "Raíz(17)=4.123105625617767\n",
      "Raíz(18)=4.24264068711939\n",
      "Raíz(19)=4.3588989435407735\n",
      "Raíz(0)=0\n",
      "Raíz(1)=1\n",
      "Raíz(2)=1.4142135623731074\n",
      "Raíz(3)=1.7320508075688954\n",
      "Raíz(4)=2.000000000000022\n",
      "Raíz(5)=2.2360679774998027\n",
      "Raíz(6)=2.449489742783194\n",
      "Raíz(7)=2.645751311064605\n",
      "Raíz(8)=2.8284271247462067\n",
      "Raíz(9)=3.000000000000016\n",
      "Raíz(10)=3.162277660168393\n",
      "Raíz(11)=3.3166247903554105\n",
      "Raíz(12)=3.464101615137766\n",
      "Raíz(13)=3.6055512754640002\n",
      "Raíz(14)=3.7416573867739515\n",
      "Raíz(15)=3.872983346207429\n",
      "Raíz(16)=4.000000000000011\n",
      "Raíz(17)=4.123105625617672\n",
      "Raíz(18)=4.2426406871192945\n",
      "Raíz(19)=4.358898943540684\n"
     ]
    }
   ],
   "source": [
    "def raiz(a, tolerancia=1e-6):\n",
    "    x = a\n",
    "    error = abs(x**2 - a)\n",
    "    while error > tolerancia:\n",
    "        x = x - (x**2-a)/(2*a)\n",
    "        error = abs(x**2 - a)\n",
    "    return x\n",
    "for i in range(20):\n",
    "    print('Raíz(', i, ')=', raiz(i), sep='')\n",
    "for i in range(20):\n",
    "    print('Raíz(', i, ')=', raiz(i, 1e-12), sep='')\n",
    "for i in range(20):\n",
    "    print('Raíz(', i, ')=', raiz(i, 1e-13), sep='')"
   ]
  }
 ],
 "metadata": {
  "kernelspec": {
   "display_name": "Python 3 (ipykernel)",
   "language": "python",
   "name": "python3"
  },
  "language_info": {
   "codemirror_mode": {
    "name": "ipython",
    "version": 3
   },
   "file_extension": ".py",
   "mimetype": "text/x-python",
   "name": "python",
   "nbconvert_exporter": "python",
   "pygments_lexer": "ipython3",
   "version": "3.9.7"
  }
 },
 "nbformat": 4,
 "nbformat_minor": 5
}
