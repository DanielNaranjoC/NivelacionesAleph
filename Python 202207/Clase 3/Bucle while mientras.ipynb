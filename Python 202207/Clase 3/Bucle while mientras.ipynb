{
 "cells": [
  {
   "cell_type": "code",
   "execution_count": 1,
   "metadata": {
    "colab": {
     "base_uri": "https://localhost:8080/"
    },
    "executionInfo": {
     "elapsed": 5,
     "status": "ok",
     "timestamp": 1658964710923,
     "user": {
      "displayName": "DANIEL N",
      "userId": "11353743326285474936"
     },
     "user_tz": 300
    },
    "id": "XQjvC9Or_tU9",
    "outputId": "23c15c12-56c0-4f22-ef7a-ced9aa9cdaee"
   },
   "outputs": [
    {
     "name": "stdout",
     "output_type": "stream",
     "text": [
      "5\n",
      "6\n",
      "7\n",
      "8\n",
      "9\n"
     ]
    }
   ],
   "source": [
    "i = 5\n",
    "while i < 10:\n",
    "    print(i)\n",
    "    i = i + 1"
   ]
  },
  {
   "cell_type": "code",
   "execution_count": 3,
   "metadata": {
    "colab": {
     "base_uri": "https://localhost:8080/"
    },
    "executionInfo": {
     "elapsed": 9722,
     "status": "ok",
     "timestamp": 1658964936983,
     "user": {
      "displayName": "DANIEL N",
      "userId": "11353743326285474936"
     },
     "user_tz": 300
    },
    "id": "RWB-KiwDAYYH",
    "outputId": "5407dd24-b69f-4876-8b71-e953bb2784a1"
   },
   "outputs": [
    {
     "name": "stdout",
     "output_type": "stream",
     "text": [
      "Ingrese el primer número: 10\n",
      "Ingrese el segundo número: 20\n",
      "Ingrese el segundo número: 40\n",
      "Ingrese el segundo número: 5\n",
      "La resta es:  5.0\n"
     ]
    }
   ],
   "source": [
    "a = float(input('Ingrese el primer número: '))\n",
    "b = float(input('Ingrese el segundo número: '))\n",
    "while a < b:\n",
    "    b = float(input('Ingrese el segundo número: '))\n",
    "print('La resta es: ', a - b)"
   ]
  },
  {
   "cell_type": "code",
   "execution_count": 4,
   "metadata": {
    "colab": {
     "base_uri": "https://localhost:8080/"
    },
    "executionInfo": {
     "elapsed": 11330,
     "status": "ok",
     "timestamp": 1658965245883,
     "user": {
      "displayName": "DANIEL N",
      "userId": "11353743326285474936"
     },
     "user_tz": 300
    },
    "id": "tM_X-RebBMOG",
    "outputId": "ac78e612-b5c4-42f0-a1b3-01b619e67397"
   },
   "outputs": [
    {
     "name": "stdout",
     "output_type": "stream",
     "text": [
      "Ingrese el primer número: 10\n",
      "Ingrese el segundo número: 20\n",
      "Ingrese el segundo número: 20\n",
      "Ingrese el segundo número: 20\n",
      "Ingrese el segundo número: 20\n",
      "Ingrese el segundo número: 20\n",
      "Ingrese el segundo número: 20\n",
      "La resta es:  -10.0\n"
     ]
    }
   ],
   "source": [
    "a = float(input('Ingrese el primer número: '))\n",
    "b = float(input('Ingrese el segundo número: '))\n",
    "i = 0\n",
    "while a < b:\n",
    "    b = float(input('Ingrese el segundo número: '))\n",
    "    i = i + 1\n",
    "    if i == 5:\n",
    "        break\n",
    "print('La resta es: ', a - b)"
   ]
  },
  {
   "cell_type": "code",
   "execution_count": 5,
   "metadata": {
    "colab": {
     "base_uri": "https://localhost:8080/"
    },
    "executionInfo": {
     "elapsed": 201,
     "status": "ok",
     "timestamp": 1658965322558,
     "user": {
      "displayName": "DANIEL N",
      "userId": "11353743326285474936"
     },
     "user_tz": 300
    },
    "id": "PkfRTDpwCTu6",
    "outputId": "034534bb-f431-4c69-d644-15c57aad0876"
   },
   "outputs": [
    {
     "name": "stdout",
     "output_type": "stream",
     "text": [
      "0\n",
      "0\n",
      "0\n"
     ]
    }
   ],
   "source": [
    "i = 0\n",
    "j = 0\n",
    "while i < 3:\n",
    "    print(i)\n",
    "    j = j + 1\n",
    "    if j == 3:\n",
    "        break"
   ]
  },
  {
   "cell_type": "code",
   "execution_count": 9,
   "metadata": {
    "colab": {
     "base_uri": "https://localhost:8080/"
    },
    "executionInfo": {
     "elapsed": 209,
     "status": "ok",
     "timestamp": 1658965532253,
     "user": {
      "displayName": "DANIEL N",
      "userId": "11353743326285474936"
     },
     "user_tz": 300
    },
    "id": "vjsx5KhrC31t",
    "outputId": "b6b2e79e-abc7-448b-9e38-6d379b91999a"
   },
   "outputs": [
    {
     "name": "stdout",
     "output_type": "stream",
     "text": [
      "1\n",
      "2\n",
      "4\n",
      "5\n",
      "6\n",
      "7\n",
      "8\n",
      "10\n"
     ]
    }
   ],
   "source": [
    "i = 0\n",
    "while i < 10:\n",
    "  i = i + 1\n",
    "  if i == 3 or i == 9:\n",
    "    continue\n",
    "  print(i)"
   ]
  },
  {
   "cell_type": "code",
   "execution_count": 13,
   "metadata": {
    "colab": {
     "base_uri": "https://localhost:8080/"
    },
    "executionInfo": {
     "elapsed": 2386,
     "status": "ok",
     "timestamp": 1658965862521,
     "user": {
      "displayName": "DANIEL N",
      "userId": "11353743326285474936"
     },
     "user_tz": 300
    },
    "id": "otGSUnrQDpfG",
    "outputId": "9435b96c-a97c-4bab-a2d5-fa8e10920179"
   },
   "outputs": [
    {
     "name": "stdout",
     "output_type": "stream",
     "text": [
      "Ingrese un número: 10\n",
      "10.0\n",
      "5.0\n",
      "2.5\n",
      "1.25\n",
      "0.625\n",
      "0.3125\n",
      "0.15625\n",
      "0.078125\n",
      "0.0390625\n",
      "0.01953125\n",
      "0.009765625\n",
      "0.0048828125\n",
      "0.00244140625\n",
      "0.001220703125\n",
      "0.0006103515625\n",
      "0.00030517578125\n",
      "0.000152587890625\n",
      "7.62939453125e-05\n",
      "3.814697265625e-05\n",
      "1.9073486328125e-05\n",
      "9.5367431640625e-06\n",
      "4.76837158203125e-06\n",
      "2.384185791015625e-06\n",
      "1.1920928955078125e-06\n"
     ]
    }
   ],
   "source": [
    "a = float(input('Ingrese un número: '))\n",
    "while a <= 0:\n",
    "  a = float(input('Ingrese un número: '))\n",
    "while a > 1e-6:\n",
    "  print(a)\n",
    "  a = a / 2"
   ]
  },
  {
   "cell_type": "code",
   "execution_count": 17,
   "metadata": {
    "colab": {
     "base_uri": "https://localhost:8080/"
    },
    "executionInfo": {
     "elapsed": 2019,
     "status": "ok",
     "timestamp": 1658966404375,
     "user": {
      "displayName": "DANIEL N",
      "userId": "11353743326285474936"
     },
     "user_tz": 300
    },
    "id": "LssSMFy6EqcP",
    "outputId": "d673f70f-fc18-4727-9757-efb5f320e76b"
   },
   "outputs": [
    {
     "name": "stdout",
     "output_type": "stream",
     "text": [
      "Ingrese un número: 345345366\n",
      "No es primo\n"
     ]
    }
   ],
   "source": [
    "# Número primo: es divisible solamente para 1 y para sí mismo\n",
    "\"\"\"\n",
    "Dividir para cada numero entre 2 y n-1, si es divisible para alguno de ellos, no es primo\n",
    "\n",
    "i = 2\n",
    "primo = Verdadero\n",
    "mientras i < n\n",
    "  si n es divisible para i:\n",
    "    primo = Falso\n",
    "  i = i + 1\n",
    "si primo es Verdadero:\n",
    "  Imprimir: Es primo\n",
    "sino\n",
    "  imprimir: No es primo\n",
    "\"\"\"\n",
    "\n",
    "n = int(input('Ingrese un número: '))\n",
    "i = 2\n",
    "primo = True\n",
    "while i < n:\n",
    "  if n % i == 0:\n",
    "    primo = False\n",
    "    break\n",
    "  i = i + 1\n",
    "if primo == True:\n",
    "  print('Es primo')\n",
    "else:\n",
    "  print('No es primo')\n"
   ]
  }
 ],
 "metadata": {
  "colab": {
   "authorship_tag": "ABX9TyOEHQs3fz15wn8++q3bpycr",
   "collapsed_sections": [],
   "name": "Bucle while mientras.ipynb",
   "provenance": []
  },
  "kernelspec": {
   "display_name": "Python 3 (ipykernel)",
   "language": "python",
   "name": "python3"
  },
  "language_info": {
   "codemirror_mode": {
    "name": "ipython",
    "version": 3
   },
   "file_extension": ".py",
   "mimetype": "text/x-python",
   "name": "python",
   "nbconvert_exporter": "python",
   "pygments_lexer": "ipython3",
   "version": "3.9.7"
  }
 },
 "nbformat": 4,
 "nbformat_minor": 1
}
