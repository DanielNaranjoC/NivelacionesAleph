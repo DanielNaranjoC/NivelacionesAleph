{
 "cells": [
  {
   "cell_type": "markdown",
   "id": "72e818a8",
   "metadata": {},
   "source": [
    "Bucle for"
   ]
  },
  {
   "cell_type": "code",
   "execution_count": 1,
   "id": "74bcd038",
   "metadata": {},
   "outputs": [
    {
     "name": "stdout",
     "output_type": "stream",
     "text": [
      "0\n",
      "1\n",
      "2\n",
      "3\n",
      "4\n"
     ]
    }
   ],
   "source": [
    "x = range(5)\n",
    "contador = 0\n",
    "max_idx = len(x)\n",
    "\n",
    "while contador < max_idx:\n",
    "    print(x[contador])\n",
    "    contador = contador + 1"
   ]
  },
  {
   "cell_type": "code",
   "execution_count": 2,
   "id": "50eee50a",
   "metadata": {},
   "outputs": [
    {
     "name": "stdout",
     "output_type": "stream",
     "text": [
      "0\n",
      "1\n",
      "2\n",
      "3\n",
      "4\n"
     ]
    }
   ],
   "source": [
    "for i in range(5):\n",
    "    print(i)"
   ]
  },
  {
   "cell_type": "code",
   "execution_count": 3,
   "id": "411c61cc",
   "metadata": {},
   "outputs": [
    {
     "name": "stdout",
     "output_type": "stream",
     "text": [
      "1\n",
      "2\n",
      "3\n",
      "345345\n",
      "345345\n"
     ]
    }
   ],
   "source": [
    "for i in [1,2,3, '345345', '345345']:\n",
    "    print(i)"
   ]
  },
  {
   "cell_type": "code",
   "execution_count": 4,
   "id": "7bffe9c0",
   "metadata": {},
   "outputs": [
    {
     "name": "stdout",
     "output_type": "stream",
     "text": [
      "i antes:  1\n",
      "i después:  5\n",
      "i antes:  2\n",
      "i después:  5\n",
      "i antes:  3\n",
      "i después:  5\n",
      "i antes:  345345\n",
      "i después:  5\n",
      "i antes:  345345\n",
      "i después:  5\n"
     ]
    }
   ],
   "source": [
    "for i in [1,2,3, '345345', '345345']:\n",
    "    print('i antes: ', i)\n",
    "    i = 5\n",
    "    print('i después: ', i)"
   ]
  },
  {
   "cell_type": "markdown",
   "id": "663b0f55",
   "metadata": {},
   "source": [
    "**Es primo o no**\n",
    "\n",
    "primo = verdadero\n",
    "para cada número \"i\" entre 2 y \"n-1\", si \"n\" es divisible para \"i\", entonces primo=falso\n",
    "\n",
    "\n",
    "primo = verdadero\n",
    "Para i desde 2 hasta n - 1:\n",
    "    Si n es divisible para i:\n",
    "        primo = falso\n"
   ]
  },
  {
   "cell_type": "code",
   "execution_count": 5,
   "id": "72f3e0cd",
   "metadata": {},
   "outputs": [
    {
     "name": "stdout",
     "output_type": "stream",
     "text": [
      "Ingrese un entero mayor que uno: 59\n",
      "59 es primo.\n"
     ]
    }
   ],
   "source": [
    "n = int(input('Ingrese un entero mayor que uno: '))\n",
    "while n <= 1:\n",
    "    n = int(input('Ingrese un entero mayor que uno: '))\n",
    "primo = True\n",
    "for i in range(2, n):\n",
    "    if n % i == 0:\n",
    "        primo = False\n",
    "        break\n",
    "if primo:\n",
    "    print(n, 'es primo.')\n",
    "else:\n",
    "    print(n, 'no es primo.')"
   ]
  }
 ],
 "metadata": {
  "kernelspec": {
   "display_name": "Python 3 (ipykernel)",
   "language": "python",
   "name": "python3"
  },
  "language_info": {
   "codemirror_mode": {
    "name": "ipython",
    "version": 3
   },
   "file_extension": ".py",
   "mimetype": "text/x-python",
   "name": "python",
   "nbconvert_exporter": "python",
   "pygments_lexer": "ipython3",
   "version": "3.9.7"
  }
 },
 "nbformat": 4,
 "nbformat_minor": 5
}
