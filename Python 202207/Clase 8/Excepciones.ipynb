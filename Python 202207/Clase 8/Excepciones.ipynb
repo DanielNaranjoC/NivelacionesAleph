{
 "cells": [
  {
   "cell_type": "markdown",
   "id": "5e2b1536",
   "metadata": {},
   "source": [
    "## Ejemplo"
   ]
  },
  {
   "cell_type": "code",
   "execution_count": 1,
   "id": "421f507b",
   "metadata": {},
   "outputs": [
    {
     "ename": "ZeroDivisionError",
     "evalue": "division by zero",
     "output_type": "error",
     "traceback": [
      "\u001b[1;31m---------------------------------------------------------------------------\u001b[0m",
      "\u001b[1;31mZeroDivisionError\u001b[0m                         Traceback (most recent call last)",
      "\u001b[1;32m~\\AppData\\Local\\Temp/ipykernel_14416/478009535.py\u001b[0m in \u001b[0;36m<module>\u001b[1;34m\u001b[0m\n\u001b[0;32m      1\u001b[0m \u001b[0ma\u001b[0m \u001b[1;33m=\u001b[0m \u001b[1;36m7\u001b[0m\u001b[1;33m\u001b[0m\u001b[1;33m\u001b[0m\u001b[0m\n\u001b[0;32m      2\u001b[0m \u001b[0mb\u001b[0m \u001b[1;33m=\u001b[0m \u001b[1;36m0\u001b[0m\u001b[1;33m\u001b[0m\u001b[1;33m\u001b[0m\u001b[0m\n\u001b[1;32m----> 3\u001b[1;33m \u001b[0mprint\u001b[0m\u001b[1;33m(\u001b[0m\u001b[0ma\u001b[0m\u001b[1;33m/\u001b[0m\u001b[0mb\u001b[0m\u001b[1;33m)\u001b[0m\u001b[1;33m\u001b[0m\u001b[1;33m\u001b[0m\u001b[0m\n\u001b[0m",
      "\u001b[1;31mZeroDivisionError\u001b[0m: division by zero"
     ]
    }
   ],
   "source": [
    "a = 7\n",
    "b = 0\n",
    "print(a/b)"
   ]
  },
  {
   "cell_type": "code",
   "execution_count": 2,
   "id": "0b9e8829",
   "metadata": {},
   "outputs": [
    {
     "ename": "NameError",
     "evalue": "name 'x' is not defined",
     "output_type": "error",
     "traceback": [
      "\u001b[1;31m---------------------------------------------------------------------------\u001b[0m",
      "\u001b[1;31mNameError\u001b[0m                                 Traceback (most recent call last)",
      "\u001b[1;32m~\\AppData\\Local\\Temp/ipykernel_14416/32546335.py\u001b[0m in \u001b[0;36m<module>\u001b[1;34m\u001b[0m\n\u001b[1;32m----> 1\u001b[1;33m \u001b[0mx\u001b[0m\u001b[1;33m\u001b[0m\u001b[1;33m\u001b[0m\u001b[0m\n\u001b[0m",
      "\u001b[1;31mNameError\u001b[0m: name 'x' is not defined"
     ]
    }
   ],
   "source": [
    "x"
   ]
  },
  {
   "cell_type": "code",
   "execution_count": 3,
   "id": "c7c859cb",
   "metadata": {},
   "outputs": [
    {
     "ename": "ImportError",
     "evalue": "cannot import name 'no_existe' from 'random' (C:\\Users\\Daniel\\anaconda3\\lib\\random.py)",
     "output_type": "error",
     "traceback": [
      "\u001b[1;31m---------------------------------------------------------------------------\u001b[0m",
      "\u001b[1;31mImportError\u001b[0m                               Traceback (most recent call last)",
      "\u001b[1;32m~\\AppData\\Local\\Temp/ipykernel_14416/1672406509.py\u001b[0m in \u001b[0;36m<module>\u001b[1;34m\u001b[0m\n\u001b[1;32m----> 1\u001b[1;33m \u001b[1;32mfrom\u001b[0m \u001b[0mrandom\u001b[0m \u001b[1;32mimport\u001b[0m \u001b[0mno_existe\u001b[0m\u001b[1;33m\u001b[0m\u001b[1;33m\u001b[0m\u001b[0m\n\u001b[0m",
      "\u001b[1;31mImportError\u001b[0m: cannot import name 'no_existe' from 'random' (C:\\Users\\Daniel\\anaconda3\\lib\\random.py)"
     ]
    }
   ],
   "source": [
    "from random import no_existe"
   ]
  },
  {
   "cell_type": "code",
   "execution_count": 4,
   "id": "e0d23895",
   "metadata": {},
   "outputs": [
    {
     "ename": "TypeError",
     "evalue": "'in <string>' requires string as left operand, not int",
     "output_type": "error",
     "traceback": [
      "\u001b[1;31m---------------------------------------------------------------------------\u001b[0m",
      "\u001b[1;31mTypeError\u001b[0m                                 Traceback (most recent call last)",
      "\u001b[1;32m~\\AppData\\Local\\Temp/ipykernel_14416/1655318763.py\u001b[0m in \u001b[0;36m<module>\u001b[1;34m\u001b[0m\n\u001b[1;32m----> 1\u001b[1;33m \u001b[1;36m0\u001b[0m \u001b[1;32min\u001b[0m \u001b[1;34m'123'\u001b[0m\u001b[1;33m\u001b[0m\u001b[1;33m\u001b[0m\u001b[0m\n\u001b[0m",
      "\u001b[1;31mTypeError\u001b[0m: 'in <string>' requires string as left operand, not int"
     ]
    }
   ],
   "source": [
    "0 in '123'"
   ]
  },
  {
   "cell_type": "code",
   "execution_count": 5,
   "id": "2cf08ca3",
   "metadata": {},
   "outputs": [
    {
     "ename": "SyntaxError",
     "evalue": "cannot assign to literal (Temp/ipykernel_14416/3627014994.py, line 1)",
     "output_type": "error",
     "traceback": [
      "\u001b[1;36m  File \u001b[1;32m\"C:\\Users\\Daniel\\AppData\\Local\\Temp/ipykernel_14416/3627014994.py\"\u001b[1;36m, line \u001b[1;32m1\u001b[0m\n\u001b[1;33m    x = 1, y = 2\u001b[0m\n\u001b[1;37m        ^\u001b[0m\n\u001b[1;31mSyntaxError\u001b[0m\u001b[1;31m:\u001b[0m cannot assign to literal\n"
     ]
    }
   ],
   "source": [
    "x = 1, y = 2"
   ]
  },
  {
   "cell_type": "code",
   "execution_count": 6,
   "id": "625f1d10",
   "metadata": {},
   "outputs": [
    {
     "ename": "ModuleNotFoundError",
     "evalue": "No module named 'no_existe'",
     "output_type": "error",
     "traceback": [
      "\u001b[1;31m---------------------------------------------------------------------------\u001b[0m",
      "\u001b[1;31mModuleNotFoundError\u001b[0m                       Traceback (most recent call last)",
      "\u001b[1;32m~\\AppData\\Local\\Temp/ipykernel_14416/3487746671.py\u001b[0m in \u001b[0;36m<module>\u001b[1;34m\u001b[0m\n\u001b[1;32m----> 1\u001b[1;33m \u001b[1;32mimport\u001b[0m \u001b[0mno_existe\u001b[0m\u001b[1;33m\u001b[0m\u001b[1;33m\u001b[0m\u001b[0m\n\u001b[0m",
      "\u001b[1;31mModuleNotFoundError\u001b[0m: No module named 'no_existe'"
     ]
    }
   ],
   "source": [
    "import no_existe"
   ]
  },
  {
   "cell_type": "markdown",
   "id": "2ee38c47",
   "metadata": {},
   "source": [
    "## Manejo de excepciones\n",
    "\n",
    "```python\n",
    "try:\n",
    "    codigo\n",
    "except Error1:\n",
    "    codigo\n",
    "except Error2:\n",
    "    codigo\n",
    "except (Error3, Error4):\n",
    "    codigo\n",
    ".\n",
    ".\n",
    ".\n",
    "```\n"
   ]
  },
  {
   "cell_type": "code",
   "execution_count": 7,
   "id": "df2a73ce",
   "metadata": {
    "scrolled": true
   },
   "outputs": [
    {
     "name": "stdout",
     "output_type": "stream",
     "text": [
      "Se ha divido para cero, verifique.\n"
     ]
    }
   ],
   "source": [
    "try:\n",
    "    a = 7\n",
    "    b = 0\n",
    "    print('La división es:', a/b)\n",
    "except ZeroDivisionError:\n",
    "    print('Se ha divido para cero, verifique.')"
   ]
  },
  {
   "cell_type": "code",
   "execution_count": 8,
   "id": "a34b26a8",
   "metadata": {},
   "outputs": [
    {
     "ename": "TypeError",
     "evalue": "can only concatenate str (not \"int\") to str",
     "output_type": "error",
     "traceback": [
      "\u001b[1;31m---------------------------------------------------------------------------\u001b[0m",
      "\u001b[1;31mTypeError\u001b[0m                                 Traceback (most recent call last)",
      "\u001b[1;32m~\\AppData\\Local\\Temp/ipykernel_14416/925893798.py\u001b[0m in \u001b[0;36m<module>\u001b[1;34m\u001b[0m\n\u001b[0;32m      1\u001b[0m \u001b[0mx\u001b[0m \u001b[1;33m=\u001b[0m \u001b[1;36m10\u001b[0m\u001b[1;33m\u001b[0m\u001b[1;33m\u001b[0m\u001b[0m\n\u001b[1;32m----> 2\u001b[1;33m \u001b[0my\u001b[0m \u001b[1;33m=\u001b[0m \u001b[1;34m'Hola '\u001b[0m \u001b[1;33m+\u001b[0m \u001b[0mx\u001b[0m\u001b[1;33m\u001b[0m\u001b[1;33m\u001b[0m\u001b[0m\n\u001b[0m\u001b[0;32m      3\u001b[0m \u001b[0mprint\u001b[0m\u001b[1;33m(\u001b[0m\u001b[0my\u001b[0m\u001b[1;33m)\u001b[0m\u001b[1;33m\u001b[0m\u001b[1;33m\u001b[0m\u001b[0m\n",
      "\u001b[1;31mTypeError\u001b[0m: can only concatenate str (not \"int\") to str"
     ]
    }
   ],
   "source": [
    "x = 10\n",
    "y = 'Hola ' + x\n",
    "print(y)"
   ]
  },
  {
   "cell_type": "code",
   "execution_count": 9,
   "id": "86139733",
   "metadata": {},
   "outputs": [
    {
     "name": "stdout",
     "output_type": "stream",
     "text": [
      "Ha ingresado un parámetro incorrecto.\n"
     ]
    }
   ],
   "source": [
    "try:\n",
    "    x = 10\n",
    "    y = 'Hola ' + x\n",
    "    print(y)\n",
    "except ZeroDivisionError:\n",
    "    print('Se ha divido para cero, verifique.')\n",
    "except (ValueError, TypeError):\n",
    "    print('Ha ingresado un parámetro incorrecto.')"
   ]
  },
  {
   "cell_type": "code",
   "execution_count": 10,
   "id": "9be68c65",
   "metadata": {},
   "outputs": [
    {
     "name": "stdout",
     "output_type": "stream",
     "text": [
      "Ocurrió un error\n"
     ]
    }
   ],
   "source": [
    "try:\n",
    "    x = 0\n",
    "    b = 0\n",
    "    print(x/y)\n",
    "except:\n",
    "    print('Ocurrió un error')"
   ]
  },
  {
   "cell_type": "code",
   "execution_count": 11,
   "id": "73296eae",
   "metadata": {},
   "outputs": [
    {
     "name": "stdout",
     "output_type": "stream",
     "text": [
      "Ingrese su nombre: Daniel\n",
      "Hola Daniel\n",
      "Ingrese un monto: sdfff\n"
     ]
    },
    {
     "ename": "ValueError",
     "evalue": "could not convert string to float: 'sdfff'",
     "output_type": "error",
     "traceback": [
      "\u001b[1;31m---------------------------------------------------------------------------\u001b[0m",
      "\u001b[1;31mValueError\u001b[0m                                Traceback (most recent call last)",
      "\u001b[1;32m~\\AppData\\Local\\Temp/ipykernel_14416/1726216305.py\u001b[0m in \u001b[0;36m<module>\u001b[1;34m\u001b[0m\n\u001b[0;32m      2\u001b[0m \u001b[0my\u001b[0m \u001b[1;33m=\u001b[0m \u001b[1;34m'Hola '\u001b[0m \u001b[1;33m+\u001b[0m \u001b[0mx\u001b[0m\u001b[1;33m\u001b[0m\u001b[1;33m\u001b[0m\u001b[0m\n\u001b[0;32m      3\u001b[0m \u001b[0mprint\u001b[0m\u001b[1;33m(\u001b[0m\u001b[0my\u001b[0m\u001b[1;33m)\u001b[0m\u001b[1;33m\u001b[0m\u001b[1;33m\u001b[0m\u001b[0m\n\u001b[1;32m----> 4\u001b[1;33m \u001b[0mm\u001b[0m \u001b[1;33m=\u001b[0m \u001b[0mfloat\u001b[0m\u001b[1;33m(\u001b[0m\u001b[0minput\u001b[0m\u001b[1;33m(\u001b[0m\u001b[1;34m'Ingrese un monto: '\u001b[0m\u001b[1;33m)\u001b[0m\u001b[1;33m)\u001b[0m\u001b[1;33m\u001b[0m\u001b[1;33m\u001b[0m\u001b[0m\n\u001b[0m\u001b[0;32m      5\u001b[0m \u001b[0mM\u001b[0m \u001b[1;33m=\u001b[0m \u001b[1;36m3000\u001b[0m\u001b[1;33m\u001b[0m\u001b[1;33m\u001b[0m\u001b[0m\n\u001b[0;32m      6\u001b[0m \u001b[1;32mif\u001b[0m \u001b[0mm\u001b[0m \u001b[1;33m<=\u001b[0m \u001b[0mM\u001b[0m\u001b[1;33m:\u001b[0m\u001b[1;33m\u001b[0m\u001b[1;33m\u001b[0m\u001b[0m\n",
      "\u001b[1;31mValueError\u001b[0m: could not convert string to float: 'sdfff'"
     ]
    }
   ],
   "source": [
    "x = input('Ingrese su nombre: ')\n",
    "y = 'Hola ' + x\n",
    "print(y)\n",
    "m = float(input('Ingrese un monto: '))\n",
    "M = 3000\n",
    "if m <= M:\n",
    "    M = 3000 - m\n",
    "    print('Se ha entregado', m, 'de dinero.')\n",
    "    print('Los fondos restantes son', M/m, 'más grades que su retiro.')\n",
    "else:\n",
    "    print('Fondos insuficientes')"
   ]
  },
  {
   "cell_type": "code",
   "execution_count": null,
   "id": "860a24a3",
   "metadata": {},
   "outputs": [],
   "source": [
    "try:\n",
    "    x = input('Ingrese su nombre: ')\n",
    "    y = 'Hola ' + x\n",
    "    print(y)\n",
    "    m = float(input('Ingrese un monto: '))\n",
    "    M = 3000\n",
    "    if m <= M:\n",
    "        M = 3000 - m\n",
    "        print('Se ha entregado', m, 'de dinero.')\n",
    "        print('Los fondos restantes son', M/m, 'más grades que su retiro.')\n",
    "    else:\n",
    "        print('Fondos insuficientes')\n",
    "except ValueError:\n",
    "    print('Ha ingresado un monto incorrecto.')\n",
    "except ZeroDivisionError:\n",
    "    print('No ha retirado fondos.')"
   ]
  },
  {
   "cell_type": "code",
   "execution_count": null,
   "id": "b4c2b3cf",
   "metadata": {},
   "outputs": [],
   "source": [
    "try:\n",
    "    x = input('Ingrese su nombre: ')\n",
    "    y = 'Hola ' + x\n",
    "    print(y)\n",
    "    m = float(input('Ingrese un monto: '))\n",
    "    M = 3000\n",
    "    if m <= M:\n",
    "        M = 3000 - m\n",
    "        print('Se ha entregado', m, 'de dinero.')\n",
    "        print('Los fondos restantes son', M/m, 'más grades que su retiro.')\n",
    "    else:\n",
    "        print('Fondos insuficientes')\n",
    "except ValueError as e:\n",
    "    print(e)\n",
    "except ZeroDivisionError as e:\n",
    "    print(e)"
   ]
  },
  {
   "cell_type": "code",
   "execution_count": null,
   "id": "ef91834a",
   "metadata": {},
   "outputs": [],
   "source": [
    "try:\n",
    "    x = input('Ingrese su nombre: ')\n",
    "    y = 'Hola ' + x\n",
    "    print(y)\n",
    "    m = float(input('Ingrese un monto: '))\n",
    "    M = 3000\n",
    "    if m <= M:\n",
    "        M = 3000 - m\n",
    "        print('Se ha entregado', m, 'de dinero.')\n",
    "        print('Los fondos restantes son', M/m, 'más grades que su retiro.')\n",
    "    else:\n",
    "        print('Fondos insuficientes')\n",
    "except (ValueError, ZeroDivisionError) as e:\n",
    "    print(e)"
   ]
  },
  {
   "cell_type": "code",
   "execution_count": null,
   "id": "11f4b3fc",
   "metadata": {},
   "outputs": [],
   "source": [
    "try:\n",
    "    x = input('Ingrese su nombre: ')\n",
    "    y = 'Hola ' + x\n",
    "    print(y)\n",
    "    m = float(input('Ingrese un monto: '))\n",
    "    M = 3000\n",
    "    if m <= M:\n",
    "        M = 3000 - m\n",
    "        print('Se ha entregado', m, 'de dinero.')\n",
    "        print('Los fondos restantes son', M/m, 'más grades que su retiro.')\n",
    "    else:\n",
    "        print('Fondos insuficientes')\n",
    "except Exception as e:\n",
    "    print(e)"
   ]
  },
  {
   "cell_type": "markdown",
   "id": "a907df1e",
   "metadata": {},
   "source": [
    "#### Finally"
   ]
  },
  {
   "cell_type": "code",
   "execution_count": null,
   "id": "63135fd5",
   "metadata": {},
   "outputs": [],
   "source": [
    "try:\n",
    "    x = input('Ingrese su nombre: ')\n",
    "    y = 'Hola ' + x\n",
    "    print(y)\n",
    "    m = float(input('Ingrese un monto: '))\n",
    "    M = 3000\n",
    "    if m <= M:\n",
    "        M = 3000 - m\n",
    "        print('Se ha entregado', m, 'de dinero.')\n",
    "        print('Los fondos restantes son', M/m, 'más grades que su retiro.')\n",
    "    else:\n",
    "        print('Fondos insuficientes')\n",
    "except Exception as e:\n",
    "    print(e)\n",
    "finally:\n",
    "    print('\\nGracias por usar el sistema')"
   ]
  },
  {
   "cell_type": "markdown",
   "id": "064070cb",
   "metadata": {},
   "source": [
    "#### Ejercicio\n",
    "$ax^2+bx+c == 0$\n",
    "\n",
    "$x_1 = \\frac{-b+\\sqrt{b^2-4ac}}{2a}$\n",
    "\n",
    "$x_1 = \\frac{-b-\\sqrt{b^2-4ac}}{2a}$"
   ]
  },
  {
   "cell_type": "code",
   "execution_count": 12,
   "id": "ddef7736",
   "metadata": {},
   "outputs": [
    {
     "name": "stdout",
     "output_type": "stream",
     "text": [
      "Ingrese a: 0\n",
      "Ingrese b: 4\n",
      "Ingrese c: 5\n"
     ]
    },
    {
     "ename": "ZeroDivisionError",
     "evalue": "float division by zero",
     "output_type": "error",
     "traceback": [
      "\u001b[1;31m---------------------------------------------------------------------------\u001b[0m",
      "\u001b[1;31mZeroDivisionError\u001b[0m                         Traceback (most recent call last)",
      "\u001b[1;32m~\\AppData\\Local\\Temp/ipykernel_14416/218775292.py\u001b[0m in \u001b[0;36m<module>\u001b[1;34m\u001b[0m\n\u001b[0;32m      3\u001b[0m \u001b[0mb\u001b[0m \u001b[1;33m=\u001b[0m \u001b[0mfloat\u001b[0m\u001b[1;33m(\u001b[0m\u001b[0minput\u001b[0m\u001b[1;33m(\u001b[0m\u001b[1;34m'Ingrese b: '\u001b[0m\u001b[1;33m)\u001b[0m\u001b[1;33m)\u001b[0m\u001b[1;33m\u001b[0m\u001b[1;33m\u001b[0m\u001b[0m\n\u001b[0;32m      4\u001b[0m \u001b[0mc\u001b[0m \u001b[1;33m=\u001b[0m \u001b[0mfloat\u001b[0m\u001b[1;33m(\u001b[0m\u001b[0minput\u001b[0m\u001b[1;33m(\u001b[0m\u001b[1;34m'Ingrese c: '\u001b[0m\u001b[1;33m)\u001b[0m\u001b[1;33m)\u001b[0m\u001b[1;33m\u001b[0m\u001b[1;33m\u001b[0m\u001b[0m\n\u001b[1;32m----> 5\u001b[1;33m \u001b[0mx1\u001b[0m \u001b[1;33m=\u001b[0m \u001b[1;33m(\u001b[0m\u001b[1;33m-\u001b[0m\u001b[0mb\u001b[0m \u001b[1;33m+\u001b[0m \u001b[0msqrt\u001b[0m\u001b[1;33m(\u001b[0m\u001b[0mb\u001b[0m\u001b[1;33m**\u001b[0m\u001b[1;36m2\u001b[0m\u001b[1;33m-\u001b[0m\u001b[1;36m4\u001b[0m\u001b[1;33m*\u001b[0m\u001b[0ma\u001b[0m\u001b[1;33m*\u001b[0m\u001b[0mc\u001b[0m\u001b[1;33m)\u001b[0m\u001b[1;33m)\u001b[0m\u001b[1;33m/\u001b[0m\u001b[1;33m(\u001b[0m\u001b[1;36m2\u001b[0m\u001b[1;33m*\u001b[0m\u001b[0ma\u001b[0m\u001b[1;33m)\u001b[0m\u001b[1;33m\u001b[0m\u001b[1;33m\u001b[0m\u001b[0m\n\u001b[0m\u001b[0;32m      6\u001b[0m \u001b[0mx2\u001b[0m \u001b[1;33m=\u001b[0m \u001b[1;33m(\u001b[0m\u001b[1;33m-\u001b[0m\u001b[0mb\u001b[0m \u001b[1;33m-\u001b[0m \u001b[0msqrt\u001b[0m\u001b[1;33m(\u001b[0m\u001b[0mb\u001b[0m\u001b[1;33m**\u001b[0m\u001b[1;36m2\u001b[0m\u001b[1;33m-\u001b[0m\u001b[1;36m4\u001b[0m\u001b[1;33m*\u001b[0m\u001b[0ma\u001b[0m\u001b[1;33m*\u001b[0m\u001b[0mc\u001b[0m\u001b[1;33m)\u001b[0m\u001b[1;33m)\u001b[0m\u001b[1;33m/\u001b[0m\u001b[1;33m(\u001b[0m\u001b[1;36m2\u001b[0m\u001b[1;33m*\u001b[0m\u001b[0ma\u001b[0m\u001b[1;33m)\u001b[0m\u001b[1;33m\u001b[0m\u001b[1;33m\u001b[0m\u001b[0m\n\u001b[0;32m      7\u001b[0m \u001b[1;32mif\u001b[0m \u001b[0mx1\u001b[0m \u001b[1;33m==\u001b[0m \u001b[0mx2\u001b[0m\u001b[1;33m:\u001b[0m\u001b[1;33m\u001b[0m\u001b[1;33m\u001b[0m\u001b[0m\n",
      "\u001b[1;31mZeroDivisionError\u001b[0m: float division by zero"
     ]
    }
   ],
   "source": [
    "from math import sqrt\n",
    "a = float(input('Ingrese a: '))\n",
    "b = float(input('Ingrese b: '))\n",
    "c = float(input('Ingrese c: '))\n",
    "x1 = (-b + sqrt(b**2-4*a*c))/(2*a)\n",
    "x2 = (-b - sqrt(b**2-4*a*c))/(2*a)\n",
    "if x1 == x2:\n",
    "    print('La solución es: ', x1)\n",
    "else:\n",
    "    print('Las soluciones son:\\nx1=',x1,'\\nx2=',x2)"
   ]
  },
  {
   "cell_type": "code",
   "execution_count": null,
   "id": "f24995d8",
   "metadata": {},
   "outputs": [],
   "source": [
    "from math import sqrt\n",
    "try:\n",
    "    a = float(input('Ingrese a: '))\n",
    "    b = float(input('Ingrese b: '))\n",
    "    c = float(input('Ingrese c: '))\n",
    "    x1 = (-b + sqrt(b**2-4*a*c))/(2*a)\n",
    "    x2 = (-b - sqrt(b**2-4*a*c))/(2*a)\n",
    "    if x1 == x2:\n",
    "        print('La solución es: ', x1)\n",
    "    else:\n",
    "        print('Las soluciones son:\\nx1=',x1,'\\nx2=',x2)\n",
    "except ValueError as e:\n",
    "    error = str(e)\n",
    "    if 'could not convert string to float' in error:\n",
    "        print('Debe ingresar números.')\n",
    "    else:\n",
    "        print('Tiene soluciones imaginarias, no se procesa.')\n",
    "except ZeroDivisionError:\n",
    "    try:\n",
    "        x = -c/b\n",
    "        print('La solución es:', x)\n",
    "    except ZeroDivisionError:\n",
    "        print('No es ecuación.')"
   ]
  },
  {
   "cell_type": "markdown",
   "id": "2f1da8c3",
   "metadata": {},
   "source": [
    "## Levantar excepciones\n",
    "\n",
    "```python\n",
    "raise\n",
    "```\n",
    "\n",
    "```python\n",
    "raise Error\n",
    "```\n",
    "\n",
    "```python\n",
    "raise Error('mensaje')\n",
    "```"
   ]
  },
  {
   "cell_type": "code",
   "execution_count": 13,
   "id": "8b0e685a",
   "metadata": {},
   "outputs": [],
   "source": [
    "def factorial(n):\n",
    "    if not isinstance(n, int) and not isinstance(n, float):\n",
    "        raise TypeError('Solo se aceptan enteros no negativos.')\n",
    "    if n % 1 != 0 or n < 0:\n",
    "        raise ValueError('Solo se aceptan enteros no negativos.')\n",
    "    if n == 0:\n",
    "        return 1\n",
    "    n = int(n)\n",
    "    return n * factorial(n-1)"
   ]
  },
  {
   "cell_type": "code",
   "execution_count": 14,
   "id": "ffb06260",
   "metadata": {},
   "outputs": [
    {
     "data": {
      "text/plain": [
       "120"
      ]
     },
     "execution_count": 14,
     "metadata": {},
     "output_type": "execute_result"
    }
   ],
   "source": [
    "factorial(5.0)"
   ]
  },
  {
   "cell_type": "code",
   "execution_count": 15,
   "id": "5ac60b0b",
   "metadata": {},
   "outputs": [
    {
     "ename": "TypeError",
     "evalue": "Solo se aceptan enteros no negativos.",
     "output_type": "error",
     "traceback": [
      "\u001b[1;31m---------------------------------------------------------------------------\u001b[0m",
      "\u001b[1;31mTypeError\u001b[0m                                 Traceback (most recent call last)",
      "\u001b[1;32m~\\AppData\\Local\\Temp/ipykernel_14416/3379235446.py\u001b[0m in \u001b[0;36m<module>\u001b[1;34m\u001b[0m\n\u001b[1;32m----> 1\u001b[1;33m \u001b[0mfactorial\u001b[0m\u001b[1;33m(\u001b[0m\u001b[1;34m'sgs'\u001b[0m\u001b[1;33m)\u001b[0m\u001b[1;33m\u001b[0m\u001b[1;33m\u001b[0m\u001b[0m\n\u001b[0m",
      "\u001b[1;32m~\\AppData\\Local\\Temp/ipykernel_14416/2087769994.py\u001b[0m in \u001b[0;36mfactorial\u001b[1;34m(n)\u001b[0m\n\u001b[0;32m      1\u001b[0m \u001b[1;32mdef\u001b[0m \u001b[0mfactorial\u001b[0m\u001b[1;33m(\u001b[0m\u001b[0mn\u001b[0m\u001b[1;33m)\u001b[0m\u001b[1;33m:\u001b[0m\u001b[1;33m\u001b[0m\u001b[1;33m\u001b[0m\u001b[0m\n\u001b[0;32m      2\u001b[0m     \u001b[1;32mif\u001b[0m \u001b[1;32mnot\u001b[0m \u001b[0misinstance\u001b[0m\u001b[1;33m(\u001b[0m\u001b[0mn\u001b[0m\u001b[1;33m,\u001b[0m \u001b[0mint\u001b[0m\u001b[1;33m)\u001b[0m \u001b[1;32mand\u001b[0m \u001b[1;32mnot\u001b[0m \u001b[0misinstance\u001b[0m\u001b[1;33m(\u001b[0m\u001b[0mn\u001b[0m\u001b[1;33m,\u001b[0m \u001b[0mfloat\u001b[0m\u001b[1;33m)\u001b[0m\u001b[1;33m:\u001b[0m\u001b[1;33m\u001b[0m\u001b[1;33m\u001b[0m\u001b[0m\n\u001b[1;32m----> 3\u001b[1;33m         \u001b[1;32mraise\u001b[0m \u001b[0mTypeError\u001b[0m\u001b[1;33m(\u001b[0m\u001b[1;34m'Solo se aceptan enteros no negativos.'\u001b[0m\u001b[1;33m)\u001b[0m\u001b[1;33m\u001b[0m\u001b[1;33m\u001b[0m\u001b[0m\n\u001b[0m\u001b[0;32m      4\u001b[0m     \u001b[1;32mif\u001b[0m \u001b[0mn\u001b[0m \u001b[1;33m%\u001b[0m \u001b[1;36m1\u001b[0m \u001b[1;33m!=\u001b[0m \u001b[1;36m0\u001b[0m \u001b[1;32mor\u001b[0m \u001b[0mn\u001b[0m \u001b[1;33m<\u001b[0m \u001b[1;36m0\u001b[0m\u001b[1;33m:\u001b[0m\u001b[1;33m\u001b[0m\u001b[1;33m\u001b[0m\u001b[0m\n\u001b[0;32m      5\u001b[0m         \u001b[1;32mraise\u001b[0m \u001b[0mValueError\u001b[0m\u001b[1;33m(\u001b[0m\u001b[1;34m'Solo se aceptan enteros no negativos.'\u001b[0m\u001b[1;33m)\u001b[0m\u001b[1;33m\u001b[0m\u001b[1;33m\u001b[0m\u001b[0m\n",
      "\u001b[1;31mTypeError\u001b[0m: Solo se aceptan enteros no negativos."
     ]
    }
   ],
   "source": [
    "factorial('sgs')"
   ]
  },
  {
   "cell_type": "markdown",
   "id": "999f7851",
   "metadata": {},
   "source": [
    "## Aserciones"
   ]
  },
  {
   "cell_type": "code",
   "execution_count": 16,
   "id": "560b6762",
   "metadata": {},
   "outputs": [],
   "source": [
    "assert True, 'Mensaje'"
   ]
  },
  {
   "cell_type": "code",
   "execution_count": 17,
   "id": "6c04f7fa",
   "metadata": {},
   "outputs": [
    {
     "ename": "AssertionError",
     "evalue": "Mensaje",
     "output_type": "error",
     "traceback": [
      "\u001b[1;31m---------------------------------------------------------------------------\u001b[0m",
      "\u001b[1;31mAssertionError\u001b[0m                            Traceback (most recent call last)",
      "\u001b[1;32m~\\AppData\\Local\\Temp/ipykernel_14416/3312128627.py\u001b[0m in \u001b[0;36m<module>\u001b[1;34m\u001b[0m\n\u001b[1;32m----> 1\u001b[1;33m \u001b[1;32massert\u001b[0m \u001b[1;32mFalse\u001b[0m\u001b[1;33m,\u001b[0m \u001b[1;34m'Mensaje'\u001b[0m\u001b[1;33m\u001b[0m\u001b[1;33m\u001b[0m\u001b[0m\n\u001b[0m",
      "\u001b[1;31mAssertionError\u001b[0m: Mensaje"
     ]
    }
   ],
   "source": [
    "assert False, 'Mensaje'"
   ]
  },
  {
   "cell_type": "code",
   "execution_count": 18,
   "id": "5015fac6",
   "metadata": {},
   "outputs": [],
   "source": [
    "def factorial(n):\n",
    "    assert (isinstance(n, int) or isinstance(n, float)),'Solo se aceptan enteros no negativos.'\n",
    "    if n % 1 != 0 or n < 0:\n",
    "        raise ValueError('Solo se aceptan enteros no negativos.')\n",
    "    if n == 0:\n",
    "        return 1\n",
    "    n = int(n)\n",
    "    return n * factorial(n-1)"
   ]
  },
  {
   "cell_type": "code",
   "execution_count": 19,
   "id": "4ef3f804",
   "metadata": {},
   "outputs": [
    {
     "ename": "ValueError",
     "evalue": "Solo se aceptan enteros no negativos.",
     "output_type": "error",
     "traceback": [
      "\u001b[1;31m---------------------------------------------------------------------------\u001b[0m",
      "\u001b[1;31mValueError\u001b[0m                                Traceback (most recent call last)",
      "\u001b[1;32m~\\AppData\\Local\\Temp/ipykernel_14416/3984095588.py\u001b[0m in \u001b[0;36m<module>\u001b[1;34m\u001b[0m\n\u001b[1;32m----> 1\u001b[1;33m \u001b[0mfactorial\u001b[0m\u001b[1;33m(\u001b[0m\u001b[1;36m5.35534535\u001b[0m\u001b[1;33m)\u001b[0m\u001b[1;33m\u001b[0m\u001b[1;33m\u001b[0m\u001b[0m\n\u001b[0m",
      "\u001b[1;32m~\\AppData\\Local\\Temp/ipykernel_14416/2546889020.py\u001b[0m in \u001b[0;36mfactorial\u001b[1;34m(n)\u001b[0m\n\u001b[0;32m      2\u001b[0m     \u001b[1;32massert\u001b[0m \u001b[1;33m(\u001b[0m\u001b[0misinstance\u001b[0m\u001b[1;33m(\u001b[0m\u001b[0mn\u001b[0m\u001b[1;33m,\u001b[0m \u001b[0mint\u001b[0m\u001b[1;33m)\u001b[0m \u001b[1;32mor\u001b[0m \u001b[0misinstance\u001b[0m\u001b[1;33m(\u001b[0m\u001b[0mn\u001b[0m\u001b[1;33m,\u001b[0m \u001b[0mfloat\u001b[0m\u001b[1;33m)\u001b[0m\u001b[1;33m)\u001b[0m\u001b[1;33m,\u001b[0m\u001b[1;34m'Solo se aceptan enteros no negativos.'\u001b[0m\u001b[1;33m\u001b[0m\u001b[1;33m\u001b[0m\u001b[0m\n\u001b[0;32m      3\u001b[0m     \u001b[1;32mif\u001b[0m \u001b[0mn\u001b[0m \u001b[1;33m%\u001b[0m \u001b[1;36m1\u001b[0m \u001b[1;33m!=\u001b[0m \u001b[1;36m0\u001b[0m \u001b[1;32mor\u001b[0m \u001b[0mn\u001b[0m \u001b[1;33m<\u001b[0m \u001b[1;36m0\u001b[0m\u001b[1;33m:\u001b[0m\u001b[1;33m\u001b[0m\u001b[1;33m\u001b[0m\u001b[0m\n\u001b[1;32m----> 4\u001b[1;33m         \u001b[1;32mraise\u001b[0m \u001b[0mValueError\u001b[0m\u001b[1;33m(\u001b[0m\u001b[1;34m'Solo se aceptan enteros no negativos.'\u001b[0m\u001b[1;33m)\u001b[0m\u001b[1;33m\u001b[0m\u001b[1;33m\u001b[0m\u001b[0m\n\u001b[0m\u001b[0;32m      5\u001b[0m     \u001b[1;32mif\u001b[0m \u001b[0mn\u001b[0m \u001b[1;33m==\u001b[0m \u001b[1;36m0\u001b[0m\u001b[1;33m:\u001b[0m\u001b[1;33m\u001b[0m\u001b[1;33m\u001b[0m\u001b[0m\n\u001b[0;32m      6\u001b[0m         \u001b[1;32mreturn\u001b[0m \u001b[1;36m1\u001b[0m\u001b[1;33m\u001b[0m\u001b[1;33m\u001b[0m\u001b[0m\n",
      "\u001b[1;31mValueError\u001b[0m: Solo se aceptan enteros no negativos."
     ]
    }
   ],
   "source": [
    "factorial(5.35534535)"
   ]
  },
  {
   "cell_type": "code",
   "execution_count": 20,
   "id": "464263f5",
   "metadata": {},
   "outputs": [],
   "source": [
    "import funciones_buenas"
   ]
  },
  {
   "cell_type": "code",
   "execution_count": 21,
   "id": "301fb5e3",
   "metadata": {},
   "outputs": [
    {
     "data": {
      "text/plain": [
       "120"
      ]
     },
     "execution_count": 21,
     "metadata": {},
     "output_type": "execute_result"
    }
   ],
   "source": [
    "funciones_buenas.factorial(5)"
   ]
  },
  {
   "cell_type": "code",
   "execution_count": 22,
   "id": "665cd250",
   "metadata": {},
   "outputs": [
    {
     "data": {
      "text/plain": [
       "120"
      ]
     },
     "execution_count": 22,
     "metadata": {},
     "output_type": "execute_result"
    }
   ],
   "source": [
    "from funciones_buenas import factorial as fact\n",
    "fact(5.0)"
   ]
  },
  {
   "cell_type": "code",
   "execution_count": 23,
   "id": "c7cc2680",
   "metadata": {},
   "outputs": [
    {
     "data": {
      "text/plain": [
       "<function funciones_buenas.factorial(n)>"
      ]
     },
     "execution_count": 23,
     "metadata": {},
     "output_type": "execute_result"
    }
   ],
   "source": [
    "funciones_buenas.factorial"
   ]
  },
  {
   "cell_type": "code",
   "execution_count": 24,
   "id": "79b36e12",
   "metadata": {},
   "outputs": [
    {
     "data": {
      "text/plain": [
       "<module 'funciones_buenas' from 'C:\\\\Users\\\\Daniel\\\\Documents\\\\GitHub\\\\NivelacionesAleph\\\\Python 202207\\\\Clase 8\\\\funciones_buenas.py'>"
      ]
     },
     "execution_count": 24,
     "metadata": {},
     "output_type": "execute_result"
    }
   ],
   "source": [
    "funciones_buenas"
   ]
  },
  {
   "cell_type": "code",
   "execution_count": 25,
   "id": "57090fcd",
   "metadata": {},
   "outputs": [
    {
     "data": {
      "text/plain": [
       "<function funciones_buenas.factorial(n)>"
      ]
     },
     "execution_count": 25,
     "metadata": {},
     "output_type": "execute_result"
    }
   ],
   "source": [
    "fact"
   ]
  },
  {
   "cell_type": "code",
   "execution_count": 26,
   "id": "b752bf2b",
   "metadata": {},
   "outputs": [
    {
     "name": "stdout",
     "output_type": "stream",
     "text": [
      "Help on function factorial in module funciones_buenas:\n",
      "\n",
      "factorial(n)\n",
      "    Calcula el factorial de un número.\n",
      "    Se deben ingresar enteros.\n",
      "    Levanta errores si es necesario.\n",
      "\n"
     ]
    }
   ],
   "source": [
    "help(fact)"
   ]
  }
 ],
 "metadata": {
  "kernelspec": {
   "display_name": "Python 3 (ipykernel)",
   "language": "python",
   "name": "python3"
  },
  "language_info": {
   "codemirror_mode": {
    "name": "ipython",
    "version": 3
   },
   "file_extension": ".py",
   "mimetype": "text/x-python",
   "name": "python",
   "nbconvert_exporter": "python",
   "pygments_lexer": "ipython3",
   "version": "3.9.7"
  }
 },
 "nbformat": 4,
 "nbformat_minor": 5
}
