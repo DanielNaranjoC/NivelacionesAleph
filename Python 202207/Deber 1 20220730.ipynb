{
 "cells": [
  {
   "cell_type": "markdown",
   "id": "7fca95e4",
   "metadata": {},
   "source": [
    "# Deber 1"
   ]
  },
  {
   "cell_type": "markdown",
   "id": "6526fedc",
   "metadata": {},
   "source": [
    "##### Escribir un función que reciba un número y busque tres números primos tales que su suma sea igual a dicho número"
   ]
  },
  {
   "cell_type": "code",
   "execution_count": null,
   "id": "d5730e8c",
   "metadata": {},
   "outputs": [],
   "source": []
  },
  {
   "cell_type": "markdown",
   "id": "665461e5",
   "metadata": {},
   "source": [
    "##### Dado el siguiente método numérico, escriba una función para calcular la raíz cúbica de un número:\n",
    "\\begin{equation}\n",
    "x = \\sqrt[3]{a}\\\\\n",
    "x^3 = a\\\\\n",
    "x^3 - a = 0\n",
    "\\end{equation}\n",
    "\n",
    "$$x_i = x_{i-1} - \\frac{x_{i-1}^3-a}{3x^2_{i-1}}$$\n",
    "error$_i$ = $|x_i^3-a|$\n",
    "\n",
    "*Buscar un $i$ tal que error$_i$<tolerancia*"
   ]
  },
  {
   "cell_type": "code",
   "execution_count": null,
   "id": "d40fb8c7",
   "metadata": {},
   "outputs": [],
   "source": []
  }
 ],
 "metadata": {
  "kernelspec": {
   "display_name": "Python 3 (ipykernel)",
   "language": "python",
   "name": "python3"
  },
  "language_info": {
   "codemirror_mode": {
    "name": "ipython",
    "version": 3
   },
   "file_extension": ".py",
   "mimetype": "text/x-python",
   "name": "python",
   "nbconvert_exporter": "python",
   "pygments_lexer": "ipython3",
   "version": "3.9.7"
  }
 },
 "nbformat": 4,
 "nbformat_minor": 5
}
