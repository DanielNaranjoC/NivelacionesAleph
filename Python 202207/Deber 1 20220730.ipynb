{
 "cells": [
  {
   "cell_type": "markdown",
   "id": "7fca95e4",
   "metadata": {},
   "source": [
    "# Deber 1"
   ]
  },
  {
   "cell_type": "markdown",
   "id": "d12c5453",
   "metadata": {},
   "source": [
    "Resolver los ejercicios en un cuadernillo de Jupyter, se puede usar el que está cargado en el repositorio de GitHub."
   ]
  },
  {
   "cell_type": "markdown",
   "id": "6526fedc",
   "metadata": {},
   "source": [
    "##### Escribir una función que reciba un número y busque tres números primos tales que su suma sea igual a dicho número"
   ]
  },
  {
   "cell_type": "code",
   "execution_count": 1,
   "id": "d5730e8c",
   "metadata": {},
   "outputs": [
    {
     "name": "stdout",
     "output_type": "stream",
     "text": [
      "0: []\n",
      "1: []\n",
      "2: []\n",
      "3: []\n",
      "4: []\n",
      "5: []\n",
      "6: [2, 2, 2]\n",
      "7: [2, 2, 3]\n",
      "8: [2, 3, 3]\n",
      "9: [2, 2, 5]\n",
      "10: [2, 3, 5]\n",
      "11: [2, 2, 7]\n",
      "12: [2, 3, 7]\n",
      "13: [3, 3, 7]\n",
      "14: [2, 5, 7]\n",
      "15: [2, 2, 11]\n",
      "16: [2, 3, 11]\n",
      "17: [2, 2, 13]\n",
      "18: [2, 3, 13]\n",
      "19: [3, 3, 13]\n"
     ]
    }
   ],
   "source": [
    "def EsPrimo(n):\n",
    "    if n < 2:\n",
    "        return False\n",
    "    for i in range(2, n):\n",
    "        if n % i == 0:\n",
    "            return False\n",
    "    return True\n",
    "\n",
    "def BuscarPrimos3(n):\n",
    "    list_p = []\n",
    "    for i in range(2, n):\n",
    "        if EsPrimo(i):\n",
    "            list_p.append(i)\n",
    "    for i in list_p:\n",
    "        for j in list_p:\n",
    "            for k in list_p:\n",
    "                if i + j + k == n:\n",
    "                    return [i, j, k]\n",
    "    return []\n",
    "\n",
    "for i in range(20):\n",
    "    print(i, ': ', BuscarPrimos3(i), sep='')"
   ]
  },
  {
   "cell_type": "markdown",
   "id": "665461e5",
   "metadata": {},
   "source": [
    "##### Dado el siguiente método numérico, escriba una función para calcular la raíz cúbica de un número:\n",
    "\\begin{equation*}\n",
    "x = \\sqrt[3]{a}\\\\\n",
    "x^3 = a\\\\\n",
    "x^3 - a = 0\n",
    "\\end{equation*}\n",
    "\n",
    "$$x_i = x_{i-1} - \\frac{x_{i-1}^3-a}{3x^2_{i-1}}$$\n",
    "error$_i$ = $|x_i^3-a|$\n",
    "\n",
    "*Buscar un $i$ tal que error$_i$<tolerancia*"
   ]
  },
  {
   "cell_type": "code",
   "execution_count": 3,
   "id": "d40fb8c7",
   "metadata": {},
   "outputs": [
    {
     "name": "stdout",
     "output_type": "stream",
     "text": [
      "0: 0\n",
      "1: 1\n",
      "2: 1.2599210498953948\n",
      "3: 1.4422495703074112\n",
      "4: 1.5874010520323423\n",
      "5: 1.709975946676697\n",
      "6: 1.817120592832355\n",
      "7: 1.9129311828017466\n",
      "8: 2.000000001071189\n",
      "9: 2.080083823051904\n",
      "10: 2.154434690031893\n",
      "11: 2.2239800905696194\n",
      "12: 2.2894284851118587\n",
      "13: 2.3513346877765176\n",
      "14: 2.4101422645925354\n",
      "15: 2.466212076678661\n",
      "16: 2.5198420997897464\n",
      "17: 2.571281590658236\n",
      "18: 2.6207413942089026\n",
      "19: 2.6684016487219897\n",
      "20: 2.7144176165951843\n",
      "21: 2.758924176382548\n",
      "22: 2.802039330661646\n",
      "23: 2.843866979875508\n",
      "24: 2.8844991406961507\n",
      "25: 2.924017738461894\n",
      "26: 2.9624960691032567\n",
      "27: 3.000000001793672\n"
     ]
    }
   ],
   "source": [
    "def raiz_3(a, tol):\n",
    "    x = a\n",
    "    error = abs(x**3 - a)\n",
    "    while error > tol:\n",
    "        x = x - (x**3-a)/(3*x**2)\n",
    "        error = abs(x**3 - a)\n",
    "    return x\n",
    "\n",
    "\n",
    "for i in range(28):\n",
    "    print(i, ': ', raiz_3(i, 1e-7), sep='')"
   ]
  }
 ],
 "metadata": {
  "kernelspec": {
   "display_name": "Python 3 (ipykernel)",
   "language": "python",
   "name": "python3"
  },
  "language_info": {
   "codemirror_mode": {
    "name": "ipython",
    "version": 3
   },
   "file_extension": ".py",
   "mimetype": "text/x-python",
   "name": "python",
   "nbconvert_exporter": "python",
   "pygments_lexer": "ipython3",
   "version": "3.9.7"
  }
 },
 "nbformat": 4,
 "nbformat_minor": 5
}
